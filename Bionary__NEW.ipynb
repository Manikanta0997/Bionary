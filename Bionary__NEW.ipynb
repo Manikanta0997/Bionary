{
 "cells": [
  {
   "cell_type": "code",
   "execution_count": 24,
   "metadata": {},
   "outputs": [],
   "source": [
    "import numpy as np\n",
    "import pandas as pd\n",
    "import matplotlib.pyplot as plt\n",
    "import seaborn as sns"
   ]
  },
  {
   "cell_type": "code",
   "execution_count": 25,
   "metadata": {},
   "outputs": [
    {
     "name": "stderr",
     "output_type": "stream",
     "text": [
      "[nltk_data] Downloading package punkt to /home/manikanta/nltk_data...\n",
      "[nltk_data]   Package punkt is already up-to-date!\n",
      "[nltk_data] Downloading package stopwords to\n",
      "[nltk_data]     /home/manikanta/nltk_data...\n",
      "[nltk_data]   Package stopwords is already up-to-date!\n",
      "[nltk_data] Downloading package wordnet to\n",
      "[nltk_data]     /home/manikanta/nltk_data...\n",
      "[nltk_data]   Package wordnet is already up-to-date!\n",
      "[nltk_data] Downloading package punkt to /home/manikanta/nltk_data...\n",
      "[nltk_data]   Package punkt is already up-to-date!\n",
      "[nltk_data] Downloading package stopwords to\n",
      "[nltk_data]     /home/manikanta/nltk_data...\n",
      "[nltk_data]   Package stopwords is already up-to-date!\n",
      "[nltk_data] Downloading package wordnet to\n",
      "[nltk_data]     /home/manikanta/nltk_data...\n",
      "[nltk_data]   Package wordnet is already up-to-date!\n"
     ]
    },
    {
     "data": {
      "image/png": "[encoded data removed]",
      "text/plain": [
       "<Figure size 432x288 with 1 Axes>"
      ]
     },
     "metadata": {
      "needs_background": "light"
     },
     "output_type": "display_data"
    }
   ],
   "source": [
    "import numpy as np\n",
    "import pandas as pd\n",
    "import matplotlib.pyplot as plt\n",
    "import seaborn as sns\n",
    "%matplotlib inline\n",
    "\n",
    "import plotly as py\n",
    "from plotly.offline import iplot\n",
    "\n",
    "\n",
    "import numpy as np\n",
    "import pandas as pd\n",
    "import seaborn as sns\n",
    "import matplotlib.pyplot as plt\n",
    "import re\n",
    "import plotly.express as px\n",
    "import plotly.graph_objects as go\n",
    "import scipy.stats as stats\n",
    "import statsmodels.api as sm\n",
    "import statsmodels.formula.api as smf\n",
    "import missingno as msno\n",
    "from sklearn.linear_model import LogisticRegression\n",
    "from sklearn.naive_bayes import MultinomialNB, BernoulliNB\n",
    "from sklearn.svm import LinearSVC\n",
    "from sklearn.ensemble import RandomForestClassifier\n",
    "from sklearn.ensemble import AdaBoostClassifier\n",
    "from sklearn.neighbors import KNeighborsClassifier\n",
    "from sklearn.model_selection import train_test_split\n",
    "import nltk\n",
    "nltk.download(\"punkt\")\n",
    "nltk.download('stopwords')\n",
    "nltk.download('wordnet')\n",
    "from nltk.tokenize import sent_tokenize, word_tokenize\n",
    "from nltk.corpus import stopwords\n",
    "from nltk.stem import PorterStemmer\n",
    "from collections import Counter\n",
    "from sklearn.metrics import confusion_matrix, classification_report, f1_score, recall_score\n",
    "from sklearn.metrics import precision_recall_curve, average_precision_score\n",
    "import nltk\n",
    "nltk.download(\"punkt\")\n",
    "nltk.download('stopwords')\n",
    "nltk.download('wordnet')\n",
    "# Importing plotly and cufflinks in offline mode\n",
    "import plotly.express as px\n",
    "import plotly.offline\n",
    "# Ignore Warnings\n",
    "import warnings\n",
    "warnings.filterwarnings(\"ignore\")\n",
    "warnings.warn(\"this will not show\")\n",
    "# Figure&Display options\n",
    "%matplotlib inline\n",
    "fig, ax = plt.subplots()\n",
    "plt.rcParams[\"figure.figsize\"] = (12, 8)\n",
    "pd.set_option('max_colwidth', 200)\n",
    "pd.set_option('display.max_rows', 1000)\n",
    "pd.set_option('display.max_columns', 200)\n",
    "pd.set_option('display.float_format', lambda x: '%.2f' % x)\n",
    "#import colorama\n",
    "#from colorama import Fore, Style # maakes strings colored\n",
    "from termcolor import colored\n",
    "import ipywidgets\n",
    "from ipywidgets import interact\n",
    "#import pandas_profiling\n",
    "#from pandas_profiling.report.presentation.flavours.html.templates import create_html_assets\n"
   ]
  },
  {
   "cell_type": "code",
   "execution_count": 26,
   "metadata": {
    "colab": {
     "base_uri": "https://localhost:8080/",
     "height": 918
    },
    "id": "X8EOETUktiTA",
    "outputId": "61335873-5738-4529-fec6-0ad4a9e4d264"
   },
   "outputs": [
    {
     "data": {
      "text/html": [
       "<div>\n",
       "<style scoped>\n",
       "    .dataframe tbody tr th:only-of-type {\n",
       "        vertical-align: middle;\n",
       "    }\n",
       "\n",
       "    .dataframe tbody tr th {\n",
       "        vertical-align: top;\n",
       "    }\n",
       "\n",
       "    .dataframe thead th {\n",
       "        text-align: right;\n",
       "    }\n",
       "</style>\n",
       "<table border=\"1\" class=\"dataframe\">\n",
       "  <thead>\n",
       "    <tr style=\"text-align: right;\">\n",
       "      <th></th>\n",
       "      <th>Unnamed: 0</th>\n",
       "      <th>Clothing ID</th>\n",
       "      <th>Age</th>\n",
       "      <th>Title</th>\n",
       "      <th>Review Text</th>\n",
       "      <th>Rating</th>\n",
       "      <th>Recommended IND</th>\n",
       "      <th>Positive Feedback Count</th>\n",
       "      <th>Division Name</th>\n",
       "      <th>Department Name</th>\n",
       "      <th>Class Name</th>\n",
       "    </tr>\n",
       "  </thead>\n",
       "  <tbody>\n",
       "    <tr>\n",
       "      <th>0</th>\n",
       "      <td>0</td>\n",
       "      <td>767</td>\n",
       "      <td>33</td>\n",
       "      <td>NaN</td>\n",
       "      <td>Absolutely wonderful - silky and sexy and comfortable</td>\n",
       "      <td>4</td>\n",
       "      <td>1</td>\n",
       "      <td>0</td>\n",
       "      <td>Initmates</td>\n",
       "      <td>Intimate</td>\n",
       "      <td>Intimates</td>\n",
       "    </tr>\n",
       "    <tr>\n",
       "      <th>1</th>\n",
       "      <td>1</td>\n",
       "      <td>1080</td>\n",
       "      <td>34</td>\n",
       "      <td>NaN</td>\n",
       "      <td>Love this dress!  it's sooo pretty.  i happened to find it in a store, and i'm glad i did bc i never would have ordered it online bc it's petite.  i bought a petite and am 5'8\".  i love the length...</td>\n",
       "      <td>5</td>\n",
       "      <td>1</td>\n",
       "      <td>4</td>\n",
       "      <td>General</td>\n",
       "      <td>Dresses</td>\n",
       "      <td>Dresses</td>\n",
       "    </tr>\n",
       "    <tr>\n",
       "      <th>2</th>\n",
       "      <td>2</td>\n",
       "      <td>1077</td>\n",
       "      <td>60</td>\n",
       "      <td>Some major design flaws</td>\n",
       "      <td>I had such high hopes for this dress and really wanted it to work for me. i initially ordered the petite small (my usual size) but i found this to be outrageously small. so small in fact that i co...</td>\n",
       "      <td>3</td>\n",
       "      <td>0</td>\n",
       "      <td>0</td>\n",
       "      <td>General</td>\n",
       "      <td>Dresses</td>\n",
       "      <td>Dresses</td>\n",
       "    </tr>\n",
       "    <tr>\n",
       "      <th>3</th>\n",
       "      <td>3</td>\n",
       "      <td>1049</td>\n",
       "      <td>50</td>\n",
       "      <td>My favorite buy!</td>\n",
       "      <td>I love, love, love this jumpsuit. it's fun, flirty, and fabulous! every time i wear it, i get nothing but great compliments!</td>\n",
       "      <td>5</td>\n",
       "      <td>1</td>\n",
       "      <td>0</td>\n",
       "      <td>General Petite</td>\n",
       "      <td>Bottoms</td>\n",
       "      <td>Pants</td>\n",
       "    </tr>\n",
       "    <tr>\n",
       "      <th>4</th>\n",
       "      <td>4</td>\n",
       "      <td>847</td>\n",
       "      <td>47</td>\n",
       "      <td>Flattering shirt</td>\n",
       "      <td>This shirt is very flattering to all due to the adjustable front tie. it is the perfect length to wear with leggings and it is sleeveless so it pairs well with any cardigan. love this shirt!!!</td>\n",
       "      <td>5</td>\n",
       "      <td>1</td>\n",
       "      <td>6</td>\n",
       "      <td>General</td>\n",
       "      <td>Tops</td>\n",
       "      <td>Blouses</td>\n",
       "    </tr>\n",
       "  </tbody>\n",
       "</table>\n",
       "</div>"
      ],
      "text/plain": [
       "   Unnamed: 0  Clothing ID  Age                    Title  \\\n",
       "0           0          767   33                      NaN   \n",
       "1           1         1080   34                      NaN   \n",
       "2           2         1077   60  Some major design flaws   \n",
       "3           3         1049   50         My favorite buy!   \n",
       "4           4          847   47         Flattering shirt   \n",
       "\n",
       "                                                                                                                                                                                               Review Text  \\\n",
       "0                                                                                                                                                    Absolutely wonderful - silky and sexy and comfortable   \n",
       "1  Love this dress!  it's sooo pretty.  i happened to find it in a store, and i'm glad i did bc i never would have ordered it online bc it's petite.  i bought a petite and am 5'8\".  i love the length...   \n",
       "2  I had such high hopes for this dress and really wanted it to work for me. i initially ordered the petite small (my usual size) but i found this to be outrageously small. so small in fact that i co...   \n",
       "3                                                                             I love, love, love this jumpsuit. it's fun, flirty, and fabulous! every time i wear it, i get nothing but great compliments!   \n",
       "4         This shirt is very flattering to all due to the adjustable front tie. it is the perfect length to wear with leggings and it is sleeveless so it pairs well with any cardigan. love this shirt!!!   \n",
       "\n",
       "   Rating  Recommended IND  Positive Feedback Count   Division Name  \\\n",
       "0       4                1                        0       Initmates   \n",
       "1       5                1                        4         General   \n",
       "2       3                0                        0         General   \n",
       "3       5                1                        0  General Petite   \n",
       "4       5                1                        6         General   \n",
       "\n",
       "  Department Name Class Name  \n",
       "0        Intimate  Intimates  \n",
       "1         Dresses    Dresses  \n",
       "2         Dresses    Dresses  \n",
       "3         Bottoms      Pants  \n",
       "4            Tops    Blouses  "
      ]
     },
     "execution_count": 26,
     "metadata": {},
     "output_type": "execute_result"
    }
   ],
   "source": [
    "\n",
    "df=pd.read_csv(\"Womens Clothing E-Commerce Reviews.csv\")\n",
    "x=df.shape\n",
    "df.head()\n"
   ]
  },
  {
   "cell_type": "code",
   "execution_count": 27,
   "metadata": {
    "colab": {
     "base_uri": "https://localhost:8080/"
    },
    "id": "wFRBwgKWtxV-",
    "outputId": "4a2b4c70-bb6c-4b9a-83d9-215f737b94d8"
   },
   "outputs": [
    {
     "data": {
      "text/plain": [
       "(23486, 11)"
      ]
     },
     "execution_count": 27,
     "metadata": {},
     "output_type": "execute_result"
    }
   ],
   "source": [
    "df.shape"
   ]
  },
  {
   "cell_type": "markdown",
   "metadata": {
    "id": "-0YVL_hWdQip"
   },
   "source": [
    "Unnamed 0, Clothing ID and Title column are unnecessary columns. So we can remove these columns from dataframe."
   ]
  },
  {
   "cell_type": "code",
   "execution_count": 28,
   "metadata": {
    "colab": {
     "base_uri": "https://localhost:8080/",
     "height": 449
    },
    "id": "YPY-tKUKt9xV",
    "outputId": "d261a8b2-7fcc-42d6-a0c8-6d867f01cbb9"
   },
   "outputs": [
    {
     "data": {
      "text/html": [
       "<div>\n",
       "<style scoped>\n",
       "    .dataframe tbody tr th:only-of-type {\n",
       "        vertical-align: middle;\n",
       "    }\n",
       "\n",
       "    .dataframe tbody tr th {\n",
       "        vertical-align: top;\n",
       "    }\n",
       "\n",
       "    .dataframe thead th {\n",
       "        text-align: right;\n",
       "    }\n",
       "</style>\n",
       "<table border=\"1\" class=\"dataframe\">\n",
       "  <thead>\n",
       "    <tr style=\"text-align: right;\">\n",
       "      <th></th>\n",
       "      <th>Age</th>\n",
       "      <th>Review Text</th>\n",
       "      <th>Rating</th>\n",
       "      <th>Recommended IND</th>\n",
       "      <th>Positive Feedback Count</th>\n",
       "      <th>Division Name</th>\n",
       "      <th>Department Name</th>\n",
       "      <th>Class Name</th>\n",
       "    </tr>\n",
       "  </thead>\n",
       "  <tbody>\n",
       "    <tr>\n",
       "      <th>0</th>\n",
       "      <td>33</td>\n",
       "      <td>Absolutely wonderful - silky and sexy and comfortable</td>\n",
       "      <td>4</td>\n",
       "      <td>1</td>\n",
       "      <td>0</td>\n",
       "      <td>Initmates</td>\n",
       "      <td>Intimate</td>\n",
       "      <td>Intimates</td>\n",
       "    </tr>\n",
       "    <tr>\n",
       "      <th>1</th>\n",
       "      <td>34</td>\n",
       "      <td>Love this dress!  it's sooo pretty.  i happened to find it in a store, and i'm glad i did bc i never would have ordered it online bc it's petite.  i bought a petite and am 5'8\".  i love the length...</td>\n",
       "      <td>5</td>\n",
       "      <td>1</td>\n",
       "      <td>4</td>\n",
       "      <td>General</td>\n",
       "      <td>Dresses</td>\n",
       "      <td>Dresses</td>\n",
       "    </tr>\n",
       "    <tr>\n",
       "      <th>2</th>\n",
       "      <td>60</td>\n",
       "      <td>I had such high hopes for this dress and really wanted it to work for me. i initially ordered the petite small (my usual size) but i found this to be outrageously small. so small in fact that i co...</td>\n",
       "      <td>3</td>\n",
       "      <td>0</td>\n",
       "      <td>0</td>\n",
       "      <td>General</td>\n",
       "      <td>Dresses</td>\n",
       "      <td>Dresses</td>\n",
       "    </tr>\n",
       "    <tr>\n",
       "      <th>3</th>\n",
       "      <td>50</td>\n",
       "      <td>I love, love, love this jumpsuit. it's fun, flirty, and fabulous! every time i wear it, i get nothing but great compliments!</td>\n",
       "      <td>5</td>\n",
       "      <td>1</td>\n",
       "      <td>0</td>\n",
       "      <td>General Petite</td>\n",
       "      <td>Bottoms</td>\n",
       "      <td>Pants</td>\n",
       "    </tr>\n",
       "    <tr>\n",
       "      <th>4</th>\n",
       "      <td>47</td>\n",
       "      <td>This shirt is very flattering to all due to the adjustable front tie. it is the perfect length to wear with leggings and it is sleeveless so it pairs well with any cardigan. love this shirt!!!</td>\n",
       "      <td>5</td>\n",
       "      <td>1</td>\n",
       "      <td>6</td>\n",
       "      <td>General</td>\n",
       "      <td>Tops</td>\n",
       "      <td>Blouses</td>\n",
       "    </tr>\n",
       "  </tbody>\n",
       "</table>\n",
       "</div>"
      ],
      "text/plain": [
       "   Age  \\\n",
       "0   33   \n",
       "1   34   \n",
       "2   60   \n",
       "3   50   \n",
       "4   47   \n",
       "\n",
       "                                                                                                                                                                                               Review Text  \\\n",
       "0                                                                                                                                                    Absolutely wonderful - silky and sexy and comfortable   \n",
       "1  Love this dress!  it's sooo pretty.  i happened to find it in a store, and i'm glad i did bc i never would have ordered it online bc it's petite.  i bought a petite and am 5'8\".  i love the length...   \n",
       "2  I had such high hopes for this dress and really wanted it to work for me. i initially ordered the petite small (my usual size) but i found this to be outrageously small. so small in fact that i co...   \n",
       "3                                                                             I love, love, love this jumpsuit. it's fun, flirty, and fabulous! every time i wear it, i get nothing but great compliments!   \n",
       "4         This shirt is very flattering to all due to the adjustable front tie. it is the perfect length to wear with leggings and it is sleeveless so it pairs well with any cardigan. love this shirt!!!   \n",
       "\n",
       "   Rating  Recommended IND  Positive Feedback Count   Division Name  \\\n",
       "0       4                1                        0       Initmates   \n",
       "1       5                1                        4         General   \n",
       "2       3                0                        0         General   \n",
       "3       5                1                        0  General Petite   \n",
       "4       5                1                        6         General   \n",
       "\n",
       "  Department Name Class Name  \n",
       "0        Intimate  Intimates  \n",
       "1         Dresses    Dresses  \n",
       "2         Dresses    Dresses  \n",
       "3         Bottoms      Pants  \n",
       "4            Tops    Blouses  "
      ]
     },
     "execution_count": 28,
     "metadata": {},
     "output_type": "execute_result"
    }
   ],
   "source": [
    "df.drop([\"Unnamed: 0\",\"Clothing ID\",\"Title\"],axis=1,inplace=True)\n",
    "df.head()"
   ]
  },
  {
   "cell_type": "code",
   "execution_count": 29,
   "metadata": {
    "colab": {
     "base_uri": "https://localhost:8080/"
    },
    "id": "2zWDqRU6t94U",
    "outputId": "a4fd7cf9-934e-4e9f-aea5-d23e0ca74595"
   },
   "outputs": [
    {
     "data": {
      "text/plain": [
       "Age                         int64\n",
       "Review Text                object\n",
       "Rating                      int64\n",
       "Recommended IND             int64\n",
       "Positive Feedback Count     int64\n",
       "Division Name              object\n",
       "Department Name            object\n",
       "Class Name                 object\n",
       "dtype: object"
      ]
     },
     "execution_count": 29,
     "metadata": {},
     "output_type": "execute_result"
    }
   ],
   "source": [
    "df.dtypes"
   ]
  },
  {
   "cell_type": "markdown",
   "metadata": {
    "id": "aO9AJhw1dozQ"
   },
   "source": [
    "Analyzing the amount of null values in each attribute and removing the null vales to reduce the size and increasing the performance."
   ]
  },
  {
   "cell_type": "code",
   "execution_count": 30,
   "metadata": {
    "colab": {
     "base_uri": "https://localhost:8080/"
    },
    "id": "uQdhUNmUuG6G",
    "outputId": "cfcefdc9-9b76-4c37-8d7f-7390b736c11e"
   },
   "outputs": [
    {
     "data": {
      "text/plain": [
       "Age                          0\n",
       "Review Text                845\n",
       "Rating                       0\n",
       "Recommended IND              0\n",
       "Positive Feedback Count      0\n",
       "Division Name               14\n",
       "Department Name             14\n",
       "Class Name                  14\n",
       "dtype: int64"
      ]
     },
     "execution_count": 30,
     "metadata": {},
     "output_type": "execute_result"
    }
   ],
   "source": [
    "df.isnull().sum()"
   ]
  },
  {
   "cell_type": "code",
   "execution_count": 31,
   "metadata": {
    "id": "Y_7V42gnuS_2"
   },
   "outputs": [],
   "source": [
    "df.dropna(subset=[\"Review Text\",\"Division Name\",\"Department Name\",\"Class Name\"],inplace=True)"
   ]
  },
  {
   "cell_type": "code",
   "execution_count": 32,
   "metadata": {
    "id": "31aYM5mHuMh8"
   },
   "outputs": [],
   "source": [
    "y=df.shape\n"
   ]
  },
  {
   "cell_type": "code",
   "execution_count": 33,
   "metadata": {
    "colab": {
     "base_uri": "https://localhost:8080/"
    },
    "id": "BWs-zr0TuQMS",
    "outputId": "80951115-21f6-48c6-d718-3b3da44924a5"
   },
   "outputs": [
    {
     "name": "stdout",
     "output_type": "stream",
     "text": [
      "Deleted\n",
      "858 Rows\n",
      "3 Columns\n"
     ]
    }
   ],
   "source": [
    "print(\"Deleted\")\n",
    "print(x[0]-y[0],\"Rows\")\n",
    "print(x[1]-y[1],\"Columns\")"
   ]
  },
  {
   "cell_type": "markdown",
   "metadata": {
    "id": "Q4dVgYZaengW"
   },
   "source": [
    "DATA VISUALISATION"
   ]
  },
  {
   "cell_type": "code",
   "execution_count": 34,
   "metadata": {
    "colab": {
     "base_uri": "https://localhost:8080/",
     "height": 562
    },
    "id": "s_s1OBNIAOuN",
    "outputId": "3b09f725-47c0-4672-d0e9-a903daab6117"
   },
   "outputs": [
    {
     "data": {
      "image/png": "[encoded data removed]",
      "text/plain": [
       "<Figure size 576x432 with 1 Axes>"
      ]
     },
     "metadata": {
      "needs_background": "light"
     },
     "output_type": "display_data"
    }
   ],
   "source": [
    "plt.figure(figsize=(8, 6))\n",
    "sns.histplot(df['Age'], bins=20, kde=True)\n",
    "plt.title('Age Distribution')\n",
    "plt.show()"
   ]
  },
  {
   "cell_type": "markdown",
   "metadata": {
    "id": "wdt1U2gggA24"
   },
   "source": [
    "So most of the women are in the range of between 35 to 45."
   ]
  },
  {
   "cell_type": "code",
   "execution_count": 35,
   "metadata": {
    "colab": {
     "base_uri": "https://localhost:8080/",
     "height": 562
    },
    "id": "c70bSXKjDGat",
    "outputId": "4c41d8bc-53f4-44b3-b2c2-e5d35f00fe57"
   },
   "outputs": [
    {
     "data": {
      "image/png": "[encoded data removed]",
      "text/plain": [
       "<Figure size 576x432 with 1 Axes>"
      ]
     },
     "metadata": {
      "needs_background": "light"
     },
     "output_type": "display_data"
    }
   ],
   "source": [
    "plt.figure(figsize=(8, 6))\n",
    "sns.countplot(x='Rating', data=df)\n",
    "plt.title('Distribution of Ratings')\n",
    "plt.show()"
   ]
  },
  {
   "cell_type": "markdown",
   "metadata": {
    "id": "09o3DDwxgTdG"
   },
   "source": [
    "Most of them has given a maximum rating of 5"
   ]
  },
  {
   "cell_type": "code",
   "execution_count": 36,
   "metadata": {
    "colab": {
     "base_uri": "https://localhost:8080/",
     "height": 641
    },
    "id": "IsTiOwAWAUqi",
    "outputId": "0abf608d-50c3-4010-89ec-e5bf4b80eb72"
   },
   "outputs": [
    {
     "data": {
      "image/png": "[encoded data removed]",
      "text/plain": [
       "<Figure size 864x576 with 6 Axes>"
      ]
     },
     "metadata": {
      "needs_background": "light"
     },
     "output_type": "display_data"
    }
   ],
   "source": [
    "rocket = plt.get_cmap(\"rocket\")\n",
    "fig, axes = plt.subplots(nrows=2, ncols=3,figsize=(12, 8))\n",
    "one = df[df[\"Rating\"] == 1][\"Age\"]\n",
    "two = df[df[\"Rating\"] == 2][\"Age\"]\n",
    "three = df[df[\"Rating\"] == 3][\"Age\"]\n",
    "four = df[df[\"Rating\"] == 4][\"Age\"]\n",
    "five = df[df[\"Rating\"] == 5][\"Age\"]\n",
    "\n",
    "ax1 = sns.histplot(one, ax=axes[0][0], kde=False, bins=20, color=rocket(100))\n",
    "ax1.set_title('One Star')\n",
    "\n",
    "ax2 = sns.histplot(two, ax=axes[0][1], kde=False, bins=20, color=rocket(120))\n",
    "ax2.set_title('Two Stars')\n",
    "\n",
    "ax3 = sns.histplot(three, ax=axes[0][2], kde=False, bins=20, color=rocket(140))\n",
    "ax3.set_title('Three Stars')\n",
    "\n",
    "ax4 = sns.histplot(four, ax=axes[1][0], kde=False, bins=20, color=rocket(160))\n",
    "ax4.set_title('Four Stars')\n",
    "\n",
    "ax5 = sns.histplot(five, ax=axes[1][1], kde=False, bins=20, color=rocket(180))\n",
    "ax5.set_title('Five Stars')\n",
    "\n",
    "axes[-1, -1].axis(\"off\")\n",
    "\n",
    "plt.tight_layout()\n"
   ]
  },
  {
   "cell_type": "markdown",
   "metadata": {
    "id": "r5eFsvf0gfqH"
   },
   "source": [
    "So,\n",
    "\n",
    "\n",
    "*   1 star has been given by women mostly at age above 30 with a count of 100+ .\n",
    "*   2 star has been given by women mostly at age above 35 with a count of 200+ .\n",
    "*   3 star has been given by women mostly at age nearly 40 with a count of 400+  .\n",
    "*   4 star has been given by women mostly at age above 35 with a count of 700+ .\n",
    "*   5 star has been given by women mostly at age above 35 with a count of 1700+ .\n",
    "\n",
    "\n",
    "\n",
    "\n",
    "\n"
   ]
  },
  {
   "cell_type": "code",
   "execution_count": 37,
   "metadata": {
    "colab": {
     "base_uri": "https://localhost:8080/",
     "height": 716
    },
    "id": "Duon_WUsDQrk",
    "outputId": "70bfda75-af45-45ac-cf6a-aa9b904e686b"
   },
   "outputs": [
    {
     "data": {
      "image/png": "[encoded data removed]",
      "text/plain": [
       "<Figure size 720x576 with 1 Axes>"
      ]
     },
     "metadata": {
      "needs_background": "light"
     },
     "output_type": "display_data"
    }
   ],
   "source": [
    "plt.figure(figsize=(10, 8))\n",
    "sns.countplot(y='Class Name', data=df)\n",
    "plt.title('Class Name Distribution')\n",
    "plt.show()"
   ]
  },
  {
   "cell_type": "markdown",
   "metadata": {
    "id": "JFTv42HsiZzj"
   },
   "source": [
    "So, Dresses are purchased at most followed by knits, blouses, pants, sweaters and so on."
   ]
  },
  {
   "cell_type": "code",
   "execution_count": 38,
   "metadata": {
    "colab": {
     "base_uri": "https://localhost:8080/",
     "height": 440
    },
    "id": "L3m6CuWnA3XA",
    "outputId": "ea04d6eb-a6e6-4793-f16e-f706ad961df2"
   },
   "outputs": [
    {
     "data": {
      "image/png": "[encoded data removed]",
      "text/plain": [
       "<Figure size 1080x1512 with 2 Axes>"
      ]
     },
     "metadata": {},
     "output_type": "display_data"
    }
   ],
   "source": [
    "fig, axes = plt.subplots(nrows=1, ncols=2,figsize=(15, 21))\n",
    "ax=df[\"Department Name\"].value_counts().plot.pie(ax = axes[0], shadow=True, colors=rocket(np.arange(5)*50))\n",
    "ax1=df[\"Division Name\"].value_counts().plot.pie(ax = axes[1], shadow=True, colors=rocket(np.arange(5)*100))"
   ]
  },
  {
   "cell_type": "markdown",
   "metadata": {
    "id": "tGURaU9Kisqs"
   },
   "source": [
    "\n",
    "\n",
    "*   Based on Department, Dresses are purchased at most\n",
    "*   Based on Division,  General are purchased at most.\n",
    "\n"
   ]
  },
  {
   "cell_type": "markdown",
   "metadata": {
    "id": "XUMLK5nBubBt"
   },
   "source": [
    "TEXT CLEANING\n",
    "\n",
    "\n",
    "1.   Tokenization and Noise Removal\n",
    "               Splitting of words into n-grams/tokens is called as tokenization.\n",
    "               Removal of unwanted punctuations for clear words and improved nlp performance is called as Noise Removal\n",
    "2.   Lexicon Normalization\n",
    "               Lexicon normalization is to prepare text data for analysis or processing by reducing it to a common and more manageable format.\n",
    "               Lexicon normalization is often a preprocessing step in NLP tasks.\n",
    "    \n",
    "\n",
    "\n",
    "\n"
   ]
  },
  {
   "cell_type": "code",
   "execution_count": 39,
   "metadata": {
    "id": "CzWsdg4PuQ0b"
   },
   "outputs": [],
   "source": [
    "\n",
    "def cleaning_fsa(data):\n",
    "\n",
    " import re\n",
    " #1. Remove Puncs\n",
    " # \\w typically matches [A-Za-z0-9_]\n",
    " text = re.sub('[^\\w\\s]','', data)\n",
    "\n",
    " #2. Tokenize\n",
    " text_tokens = word_tokenize(text.lower())\n",
    "\n",
    " #3. Remove numbers\n",
    " tokens_without_punc = [w for w in text_tokens if w.isalpha()]\n",
    "\n",
    " #4. Removing Stopwords\n",
    " stop_words = stopwords.words('english')\n",
    " tokens_without_sw = [t for t in tokens_without_punc if t not in stop_words]\n",
    "\n",
    " #5. lemma\n",
    " text_cleaned = [WordNetLemmatizer().lemmatize(t) for t in tokens_without_sw]\n",
    "\n",
    " #joining\n",
    " return \" \".join(text_cleaned)"
   ]
  },
  {
   "cell_type": "code",
   "execution_count": 40,
   "metadata": {
    "colab": {
     "base_uri": "https://localhost:8080/",
     "height": 35
    },
    "id": "jSdQr2aMvyMX",
    "outputId": "57dc4079-df39-4674-87a1-a87cd1865996"
   },
   "outputs": [
    {
     "ename": "LookupError",
     "evalue": "\n**********************************************************************\n  Resource \u001b[93momw-1.4\u001b[0m not found.\n  Please use the NLTK Downloader to obtain the resource:\n\n  \u001b[31m>>> import nltk\n  >>> nltk.download('omw-1.4')\n  \u001b[0m\n  For more information see: https://www.nltk.org/data.html\n\n  Attempted to load \u001b[93mcorpora/omw-1.4\u001b[0m\n\n  Searched in:\n    - '/home/manikanta/nltk_data'\n    - '/home/manikanta/anaconda3/nltk_data'\n    - '/home/manikanta/anaconda3/share/nltk_data'\n    - '/home/manikanta/anaconda3/lib/nltk_data'\n    - '/usr/share/nltk_data'\n    - '/usr/local/share/nltk_data'\n    - '/usr/lib/nltk_data'\n    - '/usr/local/lib/nltk_data'\n**********************************************************************\n",
     "output_type": "error",
     "traceback": [
      "\u001b[0;31m---------------------------------------------------------------------------\u001b[0m",
      "\u001b[0;31mLookupError\u001b[0m                               Traceback (most recent call last)",
      "File \u001b[0;32m~/anaconda3/lib/python3.9/site-packages/nltk/corpus/util.py:84\u001b[0m, in \u001b[0;36mLazyCorpusLoader.__load\u001b[0;34m(self)\u001b[0m\n\u001b[1;32m     83\u001b[0m \u001b[38;5;28;01mtry\u001b[39;00m:\n\u001b[0;32m---> 84\u001b[0m     root \u001b[38;5;241m=\u001b[39m \u001b[43mnltk\u001b[49m\u001b[38;5;241;43m.\u001b[39;49m\u001b[43mdata\u001b[49m\u001b[38;5;241;43m.\u001b[39;49m\u001b[43mfind\u001b[49m\u001b[43m(\u001b[49m\u001b[38;5;124;43mf\u001b[39;49m\u001b[38;5;124;43m\"\u001b[39;49m\u001b[38;5;132;43;01m{\u001b[39;49;00m\u001b[38;5;28;43mself\u001b[39;49m\u001b[38;5;241;43m.\u001b[39;49m\u001b[43msubdir\u001b[49m\u001b[38;5;132;43;01m}\u001b[39;49;00m\u001b[38;5;124;43m/\u001b[39;49m\u001b[38;5;132;43;01m{\u001b[39;49;00m\u001b[43mzip_name\u001b[49m\u001b[38;5;132;43;01m}\u001b[39;49;00m\u001b[38;5;124;43m\"\u001b[39;49m\u001b[43m)\u001b[49m\n\u001b[1;32m     85\u001b[0m \u001b[38;5;28;01mexcept\u001b[39;00m \u001b[38;5;167;01mLookupError\u001b[39;00m:\n",
      "File \u001b[0;32m~/anaconda3/lib/python3.9/site-packages/nltk/data.py:583\u001b[0m, in \u001b[0;36mfind\u001b[0;34m(resource_name, paths)\u001b[0m\n\u001b[1;32m    582\u001b[0m resource_not_found \u001b[38;5;241m=\u001b[39m \u001b[38;5;124mf\u001b[39m\u001b[38;5;124m\"\u001b[39m\u001b[38;5;130;01m\\n\u001b[39;00m\u001b[38;5;132;01m{\u001b[39;00msep\u001b[38;5;132;01m}\u001b[39;00m\u001b[38;5;130;01m\\n\u001b[39;00m\u001b[38;5;132;01m{\u001b[39;00mmsg\u001b[38;5;132;01m}\u001b[39;00m\u001b[38;5;130;01m\\n\u001b[39;00m\u001b[38;5;132;01m{\u001b[39;00msep\u001b[38;5;132;01m}\u001b[39;00m\u001b[38;5;130;01m\\n\u001b[39;00m\u001b[38;5;124m\"\u001b[39m\n\u001b[0;32m--> 583\u001b[0m \u001b[38;5;28;01mraise\u001b[39;00m \u001b[38;5;167;01mLookupError\u001b[39;00m(resource_not_found)\n",
      "\u001b[0;31mLookupError\u001b[0m: \n**********************************************************************\n  Resource \u001b[93momw-1.4\u001b[0m not found.\n  Please use the NLTK Downloader to obtain the resource:\n\n  \u001b[31m>>> import nltk\n  >>> nltk.download('omw-1.4')\n  \u001b[0m\n  For more information see: https://www.nltk.org/data.html\n\n  Attempted to load \u001b[93mcorpora/omw-1.4.zip/omw-1.4/\u001b[0m\n\n  Searched in:\n    - '/home/manikanta/nltk_data'\n    - '/home/manikanta/anaconda3/nltk_data'\n    - '/home/manikanta/anaconda3/share/nltk_data'\n    - '/home/manikanta/anaconda3/lib/nltk_data'\n    - '/usr/share/nltk_data'\n    - '/usr/local/share/nltk_data'\n    - '/usr/lib/nltk_data'\n    - '/usr/local/lib/nltk_data'\n**********************************************************************\n",
      "\nDuring handling of the above exception, another exception occurred:\n",
      "\u001b[0;31mLookupError\u001b[0m                               Traceback (most recent call last)",
      "Input \u001b[0;32mIn [40]\u001b[0m, in \u001b[0;36m<cell line: 1>\u001b[0;34m()\u001b[0m\n\u001b[0;32m----> 1\u001b[0m \u001b[43mcleaning_fsa\u001b[49m\u001b[43m(\u001b[49m\u001b[38;5;124;43m\"\u001b[39;49m\u001b[38;5;124;43mHi, This is Deepachandran..\u001b[39;49m\u001b[38;5;124;43m\"\u001b[39;49m\u001b[43m)\u001b[49m\n",
      "Input \u001b[0;32mIn [39]\u001b[0m, in \u001b[0;36mcleaning_fsa\u001b[0;34m(data)\u001b[0m\n\u001b[1;32m     16\u001b[0m tokens_without_sw \u001b[38;5;241m=\u001b[39m [t \u001b[38;5;28;01mfor\u001b[39;00m t \u001b[38;5;129;01min\u001b[39;00m tokens_without_punc \u001b[38;5;28;01mif\u001b[39;00m t \u001b[38;5;129;01mnot\u001b[39;00m \u001b[38;5;129;01min\u001b[39;00m stop_words]\n\u001b[1;32m     18\u001b[0m \u001b[38;5;66;03m#5. lemma\u001b[39;00m\n\u001b[0;32m---> 19\u001b[0m text_cleaned \u001b[38;5;241m=\u001b[39m [WordNetLemmatizer()\u001b[38;5;241m.\u001b[39mlemmatize(t) \u001b[38;5;28;01mfor\u001b[39;00m t \u001b[38;5;129;01min\u001b[39;00m tokens_without_sw]\n\u001b[1;32m     21\u001b[0m \u001b[38;5;66;03m#joining\u001b[39;00m\n\u001b[1;32m     22\u001b[0m \u001b[38;5;28;01mreturn\u001b[39;00m \u001b[38;5;124m\"\u001b[39m\u001b[38;5;124m \u001b[39m\u001b[38;5;124m\"\u001b[39m\u001b[38;5;241m.\u001b[39mjoin(text_cleaned)\n",
      "Input \u001b[0;32mIn [39]\u001b[0m, in \u001b[0;36m<listcomp>\u001b[0;34m(.0)\u001b[0m\n\u001b[1;32m     16\u001b[0m tokens_without_sw \u001b[38;5;241m=\u001b[39m [t \u001b[38;5;28;01mfor\u001b[39;00m t \u001b[38;5;129;01min\u001b[39;00m tokens_without_punc \u001b[38;5;28;01mif\u001b[39;00m t \u001b[38;5;129;01mnot\u001b[39;00m \u001b[38;5;129;01min\u001b[39;00m stop_words]\n\u001b[1;32m     18\u001b[0m \u001b[38;5;66;03m#5. lemma\u001b[39;00m\n\u001b[0;32m---> 19\u001b[0m text_cleaned \u001b[38;5;241m=\u001b[39m [\u001b[43mWordNetLemmatizer\u001b[49m\u001b[43m(\u001b[49m\u001b[43m)\u001b[49m\u001b[38;5;241;43m.\u001b[39;49m\u001b[43mlemmatize\u001b[49m\u001b[43m(\u001b[49m\u001b[43mt\u001b[49m\u001b[43m)\u001b[49m \u001b[38;5;28;01mfor\u001b[39;00m t \u001b[38;5;129;01min\u001b[39;00m tokens_without_sw]\n\u001b[1;32m     21\u001b[0m \u001b[38;5;66;03m#joining\u001b[39;00m\n\u001b[1;32m     22\u001b[0m \u001b[38;5;28;01mreturn\u001b[39;00m \u001b[38;5;124m\"\u001b[39m\u001b[38;5;124m \u001b[39m\u001b[38;5;124m\"\u001b[39m\u001b[38;5;241m.\u001b[39mjoin(text_cleaned)\n",
      "File \u001b[0;32m~/anaconda3/lib/python3.9/site-packages/nltk/stem/wordnet.py:45\u001b[0m, in \u001b[0;36mWordNetLemmatizer.lemmatize\u001b[0;34m(self, word, pos)\u001b[0m\n\u001b[1;32m     33\u001b[0m \u001b[38;5;28;01mdef\u001b[39;00m \u001b[38;5;21mlemmatize\u001b[39m(\u001b[38;5;28mself\u001b[39m, word: \u001b[38;5;28mstr\u001b[39m, pos: \u001b[38;5;28mstr\u001b[39m \u001b[38;5;241m=\u001b[39m \u001b[38;5;124m\"\u001b[39m\u001b[38;5;124mn\u001b[39m\u001b[38;5;124m\"\u001b[39m) \u001b[38;5;241m-\u001b[39m\u001b[38;5;241m>\u001b[39m \u001b[38;5;28mstr\u001b[39m:\n\u001b[1;32m     34\u001b[0m \u001b[38;5;250m    \u001b[39m\u001b[38;5;124;03m\"\"\"Lemmatize `word` using WordNet's built-in morphy function.\u001b[39;00m\n\u001b[1;32m     35\u001b[0m \u001b[38;5;124;03m    Returns the input word unchanged if it cannot be found in WordNet.\u001b[39;00m\n\u001b[1;32m     36\u001b[0m \n\u001b[0;32m   (...)\u001b[0m\n\u001b[1;32m     43\u001b[0m \u001b[38;5;124;03m    :return: The lemma of `word`, for the given `pos`.\u001b[39;00m\n\u001b[1;32m     44\u001b[0m \u001b[38;5;124;03m    \"\"\"\u001b[39;00m\n\u001b[0;32m---> 45\u001b[0m     lemmas \u001b[38;5;241m=\u001b[39m \u001b[43mwn\u001b[49m\u001b[38;5;241;43m.\u001b[39;49m\u001b[43m_morphy\u001b[49m(word, pos)\n\u001b[1;32m     46\u001b[0m     \u001b[38;5;28;01mreturn\u001b[39;00m \u001b[38;5;28mmin\u001b[39m(lemmas, key\u001b[38;5;241m=\u001b[39m\u001b[38;5;28mlen\u001b[39m) \u001b[38;5;28;01mif\u001b[39;00m lemmas \u001b[38;5;28;01melse\u001b[39;00m word\n",
      "File \u001b[0;32m~/anaconda3/lib/python3.9/site-packages/nltk/corpus/util.py:121\u001b[0m, in \u001b[0;36mLazyCorpusLoader.__getattr__\u001b[0;34m(self, attr)\u001b[0m\n\u001b[1;32m    118\u001b[0m \u001b[38;5;28;01mif\u001b[39;00m attr \u001b[38;5;241m==\u001b[39m \u001b[38;5;124m\"\u001b[39m\u001b[38;5;124m__bases__\u001b[39m\u001b[38;5;124m\"\u001b[39m:\n\u001b[1;32m    119\u001b[0m     \u001b[38;5;28;01mraise\u001b[39;00m \u001b[38;5;167;01mAttributeError\u001b[39;00m(\u001b[38;5;124m\"\u001b[39m\u001b[38;5;124mLazyCorpusLoader object has no attribute \u001b[39m\u001b[38;5;124m'\u001b[39m\u001b[38;5;124m__bases__\u001b[39m\u001b[38;5;124m'\u001b[39m\u001b[38;5;124m\"\u001b[39m)\n\u001b[0;32m--> 121\u001b[0m \u001b[38;5;28;43mself\u001b[39;49m\u001b[38;5;241;43m.\u001b[39;49m\u001b[43m__load\u001b[49m\u001b[43m(\u001b[49m\u001b[43m)\u001b[49m\n\u001b[1;32m    122\u001b[0m \u001b[38;5;66;03m# This looks circular, but its not, since __load() changes our\u001b[39;00m\n\u001b[1;32m    123\u001b[0m \u001b[38;5;66;03m# __class__ to something new:\u001b[39;00m\n\u001b[1;32m    124\u001b[0m \u001b[38;5;28;01mreturn\u001b[39;00m \u001b[38;5;28mgetattr\u001b[39m(\u001b[38;5;28mself\u001b[39m, attr)\n",
      "File \u001b[0;32m~/anaconda3/lib/python3.9/site-packages/nltk/corpus/util.py:89\u001b[0m, in \u001b[0;36mLazyCorpusLoader.__load\u001b[0;34m(self)\u001b[0m\n\u001b[1;32m     86\u001b[0m             \u001b[38;5;28;01mraise\u001b[39;00m e\n\u001b[1;32m     88\u001b[0m \u001b[38;5;66;03m# Load the corpus.\u001b[39;00m\n\u001b[0;32m---> 89\u001b[0m corpus \u001b[38;5;241m=\u001b[39m \u001b[38;5;28;43mself\u001b[39;49m\u001b[38;5;241;43m.\u001b[39;49m\u001b[43m__reader_cls\u001b[49m\u001b[43m(\u001b[49m\u001b[43mroot\u001b[49m\u001b[43m,\u001b[49m\u001b[43m \u001b[49m\u001b[38;5;241;43m*\u001b[39;49m\u001b[38;5;28;43mself\u001b[39;49m\u001b[38;5;241;43m.\u001b[39;49m\u001b[43m__args\u001b[49m\u001b[43m,\u001b[49m\u001b[43m \u001b[49m\u001b[38;5;241;43m*\u001b[39;49m\u001b[38;5;241;43m*\u001b[39;49m\u001b[38;5;28;43mself\u001b[39;49m\u001b[38;5;241;43m.\u001b[39;49m\u001b[43m__kwargs\u001b[49m\u001b[43m)\u001b[49m\n\u001b[1;32m     91\u001b[0m \u001b[38;5;66;03m# This is where the magic happens!  Transform ourselves into\u001b[39;00m\n\u001b[1;32m     92\u001b[0m \u001b[38;5;66;03m# the corpus by modifying our own __dict__ and __class__ to\u001b[39;00m\n\u001b[1;32m     93\u001b[0m \u001b[38;5;66;03m# match that of the corpus.\u001b[39;00m\n\u001b[1;32m     95\u001b[0m args, kwargs \u001b[38;5;241m=\u001b[39m \u001b[38;5;28mself\u001b[39m\u001b[38;5;241m.\u001b[39m__args, \u001b[38;5;28mself\u001b[39m\u001b[38;5;241m.\u001b[39m__kwargs\n",
      "File \u001b[0;32m~/anaconda3/lib/python3.9/site-packages/nltk/corpus/reader/wordnet.py:1176\u001b[0m, in \u001b[0;36mWordNetCorpusReader.__init__\u001b[0;34m(self, root, omw_reader)\u001b[0m\n\u001b[1;32m   1172\u001b[0m     warnings\u001b[38;5;241m.\u001b[39mwarn(\n\u001b[1;32m   1173\u001b[0m         \u001b[38;5;124m\"\u001b[39m\u001b[38;5;124mThe multilingual functions are not available with this Wordnet version\u001b[39m\u001b[38;5;124m\"\u001b[39m\n\u001b[1;32m   1174\u001b[0m     )\n\u001b[1;32m   1175\u001b[0m \u001b[38;5;28;01melse\u001b[39;00m:\n\u001b[0;32m-> 1176\u001b[0m     \u001b[38;5;28mself\u001b[39m\u001b[38;5;241m.\u001b[39mprovenances \u001b[38;5;241m=\u001b[39m \u001b[38;5;28;43mself\u001b[39;49m\u001b[38;5;241;43m.\u001b[39;49m\u001b[43momw_prov\u001b[49m\u001b[43m(\u001b[49m\u001b[43m)\u001b[49m\n\u001b[1;32m   1178\u001b[0m \u001b[38;5;66;03m# A cache to store the wordnet data of multiple languages\u001b[39;00m\n\u001b[1;32m   1179\u001b[0m \u001b[38;5;28mself\u001b[39m\u001b[38;5;241m.\u001b[39m_lang_data \u001b[38;5;241m=\u001b[39m defaultdict(\u001b[38;5;28mlist\u001b[39m)\n",
      "File \u001b[0;32m~/anaconda3/lib/python3.9/site-packages/nltk/corpus/reader/wordnet.py:1285\u001b[0m, in \u001b[0;36mWordNetCorpusReader.omw_prov\u001b[0;34m(self)\u001b[0m\n\u001b[1;32m   1283\u001b[0m provdict \u001b[38;5;241m=\u001b[39m {}\n\u001b[1;32m   1284\u001b[0m provdict[\u001b[38;5;124m\"\u001b[39m\u001b[38;5;124meng\u001b[39m\u001b[38;5;124m\"\u001b[39m] \u001b[38;5;241m=\u001b[39m \u001b[38;5;124m\"\u001b[39m\u001b[38;5;124m\"\u001b[39m\n\u001b[0;32m-> 1285\u001b[0m fileids \u001b[38;5;241m=\u001b[39m \u001b[38;5;28;43mself\u001b[39;49m\u001b[38;5;241;43m.\u001b[39;49m\u001b[43m_omw_reader\u001b[49m\u001b[38;5;241;43m.\u001b[39;49m\u001b[43mfileids\u001b[49m()\n\u001b[1;32m   1286\u001b[0m \u001b[38;5;28;01mfor\u001b[39;00m fileid \u001b[38;5;129;01min\u001b[39;00m fileids:\n\u001b[1;32m   1287\u001b[0m     prov, langfile \u001b[38;5;241m=\u001b[39m os\u001b[38;5;241m.\u001b[39mpath\u001b[38;5;241m.\u001b[39msplit(fileid)\n",
      "File \u001b[0;32m~/anaconda3/lib/python3.9/site-packages/nltk/corpus/util.py:121\u001b[0m, in \u001b[0;36mLazyCorpusLoader.__getattr__\u001b[0;34m(self, attr)\u001b[0m\n\u001b[1;32m    118\u001b[0m \u001b[38;5;28;01mif\u001b[39;00m attr \u001b[38;5;241m==\u001b[39m \u001b[38;5;124m\"\u001b[39m\u001b[38;5;124m__bases__\u001b[39m\u001b[38;5;124m\"\u001b[39m:\n\u001b[1;32m    119\u001b[0m     \u001b[38;5;28;01mraise\u001b[39;00m \u001b[38;5;167;01mAttributeError\u001b[39;00m(\u001b[38;5;124m\"\u001b[39m\u001b[38;5;124mLazyCorpusLoader object has no attribute \u001b[39m\u001b[38;5;124m'\u001b[39m\u001b[38;5;124m__bases__\u001b[39m\u001b[38;5;124m'\u001b[39m\u001b[38;5;124m\"\u001b[39m)\n\u001b[0;32m--> 121\u001b[0m \u001b[38;5;28;43mself\u001b[39;49m\u001b[38;5;241;43m.\u001b[39;49m\u001b[43m__load\u001b[49m\u001b[43m(\u001b[49m\u001b[43m)\u001b[49m\n\u001b[1;32m    122\u001b[0m \u001b[38;5;66;03m# This looks circular, but its not, since __load() changes our\u001b[39;00m\n\u001b[1;32m    123\u001b[0m \u001b[38;5;66;03m# __class__ to something new:\u001b[39;00m\n\u001b[1;32m    124\u001b[0m \u001b[38;5;28;01mreturn\u001b[39;00m \u001b[38;5;28mgetattr\u001b[39m(\u001b[38;5;28mself\u001b[39m, attr)\n",
      "File \u001b[0;32m~/anaconda3/lib/python3.9/site-packages/nltk/corpus/util.py:86\u001b[0m, in \u001b[0;36mLazyCorpusLoader.__load\u001b[0;34m(self)\u001b[0m\n\u001b[1;32m     84\u001b[0m             root \u001b[38;5;241m=\u001b[39m nltk\u001b[38;5;241m.\u001b[39mdata\u001b[38;5;241m.\u001b[39mfind(\u001b[38;5;124mf\u001b[39m\u001b[38;5;124m\"\u001b[39m\u001b[38;5;132;01m{\u001b[39;00m\u001b[38;5;28mself\u001b[39m\u001b[38;5;241m.\u001b[39msubdir\u001b[38;5;132;01m}\u001b[39;00m\u001b[38;5;124m/\u001b[39m\u001b[38;5;132;01m{\u001b[39;00mzip_name\u001b[38;5;132;01m}\u001b[39;00m\u001b[38;5;124m\"\u001b[39m)\n\u001b[1;32m     85\u001b[0m         \u001b[38;5;28;01mexcept\u001b[39;00m \u001b[38;5;167;01mLookupError\u001b[39;00m:\n\u001b[0;32m---> 86\u001b[0m             \u001b[38;5;28;01mraise\u001b[39;00m e\n\u001b[1;32m     88\u001b[0m \u001b[38;5;66;03m# Load the corpus.\u001b[39;00m\n\u001b[1;32m     89\u001b[0m corpus \u001b[38;5;241m=\u001b[39m \u001b[38;5;28mself\u001b[39m\u001b[38;5;241m.\u001b[39m__reader_cls(root, \u001b[38;5;241m*\u001b[39m\u001b[38;5;28mself\u001b[39m\u001b[38;5;241m.\u001b[39m__args, \u001b[38;5;241m*\u001b[39m\u001b[38;5;241m*\u001b[39m\u001b[38;5;28mself\u001b[39m\u001b[38;5;241m.\u001b[39m__kwargs)\n",
      "File \u001b[0;32m~/anaconda3/lib/python3.9/site-packages/nltk/corpus/util.py:81\u001b[0m, in \u001b[0;36mLazyCorpusLoader.__load\u001b[0;34m(self)\u001b[0m\n\u001b[1;32m     79\u001b[0m \u001b[38;5;28;01melse\u001b[39;00m:\n\u001b[1;32m     80\u001b[0m     \u001b[38;5;28;01mtry\u001b[39;00m:\n\u001b[0;32m---> 81\u001b[0m         root \u001b[38;5;241m=\u001b[39m \u001b[43mnltk\u001b[49m\u001b[38;5;241;43m.\u001b[39;49m\u001b[43mdata\u001b[49m\u001b[38;5;241;43m.\u001b[39;49m\u001b[43mfind\u001b[49m\u001b[43m(\u001b[49m\u001b[38;5;124;43mf\u001b[39;49m\u001b[38;5;124;43m\"\u001b[39;49m\u001b[38;5;132;43;01m{\u001b[39;49;00m\u001b[38;5;28;43mself\u001b[39;49m\u001b[38;5;241;43m.\u001b[39;49m\u001b[43msubdir\u001b[49m\u001b[38;5;132;43;01m}\u001b[39;49;00m\u001b[38;5;124;43m/\u001b[39;49m\u001b[38;5;132;43;01m{\u001b[39;49;00m\u001b[38;5;28;43mself\u001b[39;49m\u001b[38;5;241;43m.\u001b[39;49m\u001b[43m__name\u001b[49m\u001b[38;5;132;43;01m}\u001b[39;49;00m\u001b[38;5;124;43m\"\u001b[39;49m\u001b[43m)\u001b[49m\n\u001b[1;32m     82\u001b[0m     \u001b[38;5;28;01mexcept\u001b[39;00m \u001b[38;5;167;01mLookupError\u001b[39;00m \u001b[38;5;28;01mas\u001b[39;00m e:\n\u001b[1;32m     83\u001b[0m         \u001b[38;5;28;01mtry\u001b[39;00m:\n",
      "File \u001b[0;32m~/anaconda3/lib/python3.9/site-packages/nltk/data.py:583\u001b[0m, in \u001b[0;36mfind\u001b[0;34m(resource_name, paths)\u001b[0m\n\u001b[1;32m    581\u001b[0m sep \u001b[38;5;241m=\u001b[39m \u001b[38;5;124m\"\u001b[39m\u001b[38;5;124m*\u001b[39m\u001b[38;5;124m\"\u001b[39m \u001b[38;5;241m*\u001b[39m \u001b[38;5;241m70\u001b[39m\n\u001b[1;32m    582\u001b[0m resource_not_found \u001b[38;5;241m=\u001b[39m \u001b[38;5;124mf\u001b[39m\u001b[38;5;124m\"\u001b[39m\u001b[38;5;130;01m\\n\u001b[39;00m\u001b[38;5;132;01m{\u001b[39;00msep\u001b[38;5;132;01m}\u001b[39;00m\u001b[38;5;130;01m\\n\u001b[39;00m\u001b[38;5;132;01m{\u001b[39;00mmsg\u001b[38;5;132;01m}\u001b[39;00m\u001b[38;5;130;01m\\n\u001b[39;00m\u001b[38;5;132;01m{\u001b[39;00msep\u001b[38;5;132;01m}\u001b[39;00m\u001b[38;5;130;01m\\n\u001b[39;00m\u001b[38;5;124m\"\u001b[39m\n\u001b[0;32m--> 583\u001b[0m \u001b[38;5;28;01mraise\u001b[39;00m \u001b[38;5;167;01mLookupError\u001b[39;00m(resource_not_found)\n",
      "\u001b[0;31mLookupError\u001b[0m: \n**********************************************************************\n  Resource \u001b[93momw-1.4\u001b[0m not found.\n  Please use the NLTK Downloader to obtain the resource:\n\n  \u001b[31m>>> import nltk\n  >>> nltk.download('omw-1.4')\n  \u001b[0m\n  For more information see: https://www.nltk.org/data.html\n\n  Attempted to load \u001b[93mcorpora/omw-1.4\u001b[0m\n\n  Searched in:\n    - '/home/manikanta/nltk_data'\n    - '/home/manikanta/anaconda3/nltk_data'\n    - '/home/manikanta/anaconda3/share/nltk_data'\n    - '/home/manikanta/anaconda3/lib/nltk_data'\n    - '/usr/share/nltk_data'\n    - '/usr/local/share/nltk_data'\n    - '/usr/lib/nltk_data'\n    - '/usr/local/lib/nltk_data'\n**********************************************************************\n"
     ]
    }
   ],
   "source": [
    "cleaning_fsa(\"Hi, This is Deepachandran..\")"
   ]
  },
  {
   "cell_type": "code",
   "execution_count": null,
   "metadata": {
    "id": "uDxJ6imlxTCA"
   },
   "outputs": [],
   "source": [
    "df['Review Text']=df['Review Text'].apply(cleaning_fsa)"
   ]
  },
  {
   "cell_type": "code",
   "execution_count": null,
   "metadata": {
    "colab": {
     "base_uri": "https://localhost:8080/"
    },
    "id": "ewb_sjKExdOr",
    "outputId": "d1b5c8d3-5470-4384-edfd-5eb56d0a1592"
   },
   "outputs": [],
   "source": [
    "df['Review Text'][0:2]"
   ]
  },
  {
   "cell_type": "markdown",
   "metadata": {
    "id": "xBb-NLdYlEl8"
   },
   "source": [
    "Sentiment Polarity analysis for detection of positive and negative reviews."
   ]
  },
  {
   "cell_type": "code",
   "execution_count": null,
   "metadata": {
    "colab": {
     "base_uri": "https://localhost:8080/"
    },
    "id": "i8KN6j48xoO-",
    "outputId": "d5439575-4ad3-4ecf-b631-23e50a012887"
   },
   "outputs": [],
   "source": [
    "from textblob import TextBlob\n",
    "res = TextBlob(\"This movie is extremely amazing\")\n",
    "print(res.sentiment.polarity)\n",
    "res=TextBlob(\"This movie is very boring.\")\n",
    "print(res.sentiment.polarity)\n",
    "res=TextBlob(\"This movie is above average.\")\n",
    "print(res.sentiment.polarity)"
   ]
  },
  {
   "cell_type": "code",
   "execution_count": null,
   "metadata": {
    "id": "Qf8mhvVqHPr8"
   },
   "outputs": [],
   "source": [
    "df[\"Polarity\"] = df[\"Review Text\"].apply(lambda x: TextBlob(x).sentiment.polarity)"
   ]
  },
  {
   "cell_type": "code",
   "execution_count": null,
   "metadata": {
    "colab": {
     "base_uri": "https://localhost:8080/",
     "height": 562
    },
    "id": "VeccMKlV_-3z",
    "outputId": "efef9fb0-c021-4a11-895b-37f7d64ce7f2"
   },
   "outputs": [],
   "source": [
    "\n",
    "plt.figure(figsize=(8, 6))\n",
    "sns.histplot(df['Polarity'], bins=20, kde=True,color=\"#FFB90F\")\n",
    "plt.title('Age Distribution')\n",
    "plt.show()"
   ]
  },
  {
   "cell_type": "markdown",
   "metadata": {
    "id": "fnkdYIislJul"
   },
   "source": [
    "So , positive reviews with a polarity of 0.25 is given by most of the women with a count of 5000+"
   ]
  },
  {
   "cell_type": "code",
   "execution_count": null,
   "metadata": {
    "colab": {
     "base_uri": "https://localhost:8080/",
     "height": 484
    },
    "id": "46XQ4N3Yyor2",
    "outputId": "6e3b1826-d0b1-4171-8b4f-6fae936acec1"
   },
   "outputs": [],
   "source": [
    "df.head()"
   ]
  },
  {
   "cell_type": "markdown",
   "metadata": {
    "id": "CDhUZsWM5uMK"
   },
   "source": [
    "As per the census, When deciding whether to engage with a business, it has been indicated that 3.3 stars out of 5 are the lowest rating customers are likely to consider."
   ]
  },
  {
   "cell_type": "markdown",
   "metadata": {
    "id": "D-fcwXJCmkS-"
   },
   "source": [
    "So rating greater than 3 will be considered as positive, else considered as negative."
   ]
  },
  {
   "cell_type": "code",
   "execution_count": null,
   "metadata": {
    "colab": {
     "base_uri": "https://localhost:8080/",
     "height": 588
    },
    "id": "bRLR6AOH3fU1",
    "outputId": "5c192ed4-21f7-48df-8c8c-2bbd7cc05936"
   },
   "outputs": [],
   "source": [
    "positive = (df[\"Rating\"] >3)\n",
    "negative = (df[\"Rating\"] <= 3)\n",
    "df[\"Review Type\"] = \" \"\n",
    "df[\"Review Type\"][positive] = \"Positive\"\n",
    "\n",
    "df[\"Review Type\"][negative] = \"Negative\"\n",
    "\n",
    "df.head()"
   ]
  },
  {
   "cell_type": "code",
   "execution_count": null,
   "metadata": {
    "colab": {
     "base_uri": "https://localhost:8080/",
     "height": 553
    },
    "id": "kGxgBWFv4DSI",
    "outputId": "3e0e7d1d-7fb1-4281-c8f0-3500ac61aef5"
   },
   "outputs": [],
   "source": [
    "review_type = {\"Positive\": 1, \"Negative\": 0}\n",
    "df[\"Review Type\"] = df[\"Review Type\"].map(review_type)\n",
    "df.head()"
   ]
  },
  {
   "cell_type": "markdown",
   "metadata": {
    "id": "fpppPBAIm0fP"
   },
   "source": [
    "Forming a new column called as NEW_Recommended Index. If review type is 1 and recommended index is also 1 then, new recommended index is also equal to 1."
   ]
  },
  {
   "cell_type": "code",
   "execution_count": null,
   "metadata": {
    "colab": {
     "base_uri": "https://localhost:8080/",
     "height": 1000
    },
    "id": "O1z_9hgl7K8T",
    "outputId": "738830fa-ba91-4f01-93cf-4246e07b5f8f"
   },
   "outputs": [],
   "source": [
    "df['NEW_Recommended INDEX']=0\n",
    "df['NEW_Recommended INDEX'][(df[\"Review Type\"]==1) & (df[\"Recommended IND\"]==1)]=1\n",
    "df"
   ]
  },
  {
   "cell_type": "code",
   "execution_count": null,
   "metadata": {
    "colab": {
     "base_uri": "https://localhost:8080/"
    },
    "id": "Hj3gyish9KqA",
    "outputId": "472604f0-75d6-41cb-9a56-8d65801d0460"
   },
   "outputs": [],
   "source": [
    "len(df[df[\"Recommended IND\"]==1])"
   ]
  },
  {
   "cell_type": "code",
   "execution_count": null,
   "metadata": {
    "colab": {
     "base_uri": "https://localhost:8080/"
    },
    "id": "0fNF_7cc-mpM",
    "outputId": "ab0ed93b-fb06-4734-a160-6d0bcb939f68"
   },
   "outputs": [],
   "source": [
    "len(df[df['NEW_Recommended INDEX']==1])"
   ]
  },
  {
   "cell_type": "code",
   "execution_count": null,
   "metadata": {
    "colab": {
     "base_uri": "https://localhost:8080/"
    },
    "id": "2GG425Ym9-U8",
    "outputId": "5fab3dc7-c310-4e7e-a0c7-275f90afe377"
   },
   "outputs": [],
   "source": [
    "len(df[df[\"Recommended IND\"]==0])\n"
   ]
  },
  {
   "cell_type": "code",
   "execution_count": null,
   "metadata": {
    "colab": {
     "base_uri": "https://localhost:8080/"
    },
    "id": "wEaiseSv-YZG",
    "outputId": "c4d676cc-66fc-4071-aa92-6e2202b53d84"
   },
   "outputs": [],
   "source": [
    "\n",
    "len(df[df['NEW_Recommended INDEX']==0])"
   ]
  },
  {
   "cell_type": "code",
   "execution_count": null,
   "metadata": {
    "colab": {
     "base_uri": "https://localhost:8080/",
     "height": 84
    },
    "id": "rXeYFRL7-4aX",
    "outputId": "4bf61bdb-0d1f-4f08-9dec-cc552c5c6d4e"
   },
   "outputs": [],
   "source": [
    "df[(df['NEW_Recommended INDEX']==1)&(df['Recommended IND']==0)].head()"
   ]
  },
  {
   "cell_type": "code",
   "execution_count": null,
   "metadata": {
    "colab": {
     "base_uri": "https://localhost:8080/",
     "height": 1000
    },
    "id": "w70qr9Ap_P06",
    "outputId": "04fd3252-f11d-4eb2-a055-e1bf5e0769f2"
   },
   "outputs": [],
   "source": [
    "df[(df['NEW_Recommended INDEX']==0)&(df['Recommended IND']==1)].head()"
   ]
  },
  {
   "cell_type": "markdown",
   "metadata": {
    "id": "-rSjeDTgoCmu"
   },
   "source": [
    "So I filtered out the negative reviews with recommendation index of 1. Hence the prediction will be better."
   ]
  },
  {
   "cell_type": "code",
   "execution_count": null,
   "metadata": {
    "colab": {
     "base_uri": "https://localhost:8080/",
     "height": 775
    },
    "id": "C6cBaursBOgI",
    "outputId": "4d10968c-c75b-47e4-9e83-6e18b78a9317"
   },
   "outputs": [],
   "source": [
    "cor = df.corr()\n",
    "sns.heatmap(cor, xticklabels = cor.columns, yticklabels = cor.columns, annot = True)\n"
   ]
  },
  {
   "cell_type": "code",
   "execution_count": null,
   "metadata": {
    "colab": {
     "base_uri": "https://localhost:8080/"
    },
    "id": "H5XWgNdZEDYT",
    "outputId": "379ff447-e48e-4412-965e-fc23af9cc065"
   },
   "outputs": [],
   "source": [
    "df[\"NEW_Recommended INDEX\"].value_counts()\n"
   ]
  },
  {
   "cell_type": "markdown",
   "metadata": {
    "id": "5KIyBJH12QI8"
   },
   "source": [
    "As per the analysis, Some negative reviews are given with recommendation index of 1.So based on review type and recommendation index, if review type and recommendation index is equal to 1, then new recommendation index is also equal to one. Hence a better recommendation index is produced for a better prediction"
   ]
  },
  {
   "cell_type": "markdown",
   "metadata": {
    "id": "X7YHxB1BDitJ"
   },
   "source": [
    "ML PREDICTION"
   ]
  },
  {
   "cell_type": "markdown",
   "metadata": {
    "id": "ogBNl27ZoZq6"
   },
   "source": [
    "Collection of negative words"
   ]
  },
  {
   "cell_type": "code",
   "execution_count": null,
   "metadata": {
    "colab": {
     "base_uri": "https://localhost:8080/"
    },
    "id": "59ajzGgxDdKT",
    "outputId": "afa4ca74-da93-4950-f721-dbbd79f188d0"
   },
   "outputs": [],
   "source": [
    "neg_words = \" \".join(df[df[\"NEW_Recommended INDEX\"] == 0]['Review Text']).split()\n",
    "neg_words"
   ]
  },
  {
   "cell_type": "markdown",
   "metadata": {
    "id": "ZHMwhYatosty"
   },
   "source": [
    "Collection of Positive Words"
   ]
  },
  {
   "cell_type": "code",
   "execution_count": null,
   "metadata": {
    "colab": {
     "base_uri": "https://localhost:8080/"
    },
    "id": "F6x7uVv-T2Tv",
    "outputId": "1c1e89b5-f74f-403d-8ea9-df41dff0c784"
   },
   "outputs": [],
   "source": [
    "from pandas.core.arrays.base import PositionalIndexer\n",
    "pos_words = \" \".join(df[df[\"NEW_Recommended INDEX\"] == 1]['Review Text']).split()\n",
    "pos_words"
   ]
  },
  {
   "cell_type": "code",
   "execution_count": null,
   "metadata": {
    "colab": {
     "base_uri": "https://localhost:8080/",
     "height": 35
    },
    "id": "MchauUqBEOdR",
    "outputId": "0274899a-77f9-4d17-9f01-d8f9c4956ad1"
   },
   "outputs": [],
   "source": [
    "all_words=\" \".join(df[\"Review Text\"])\n",
    "all_words[:100]\n"
   ]
  },
  {
   "cell_type": "markdown",
   "metadata": {
    "id": "jwFPnVDHo501"
   },
   "source": [
    "Analysis of postive and negative words with highest frequency using wordcloud"
   ]
  },
  {
   "cell_type": "code",
   "execution_count": null,
   "metadata": {
    "colab": {
     "base_uri": "https://localhost:8080/",
     "height": 346
    },
    "id": "Mdwiwi59USIm",
    "outputId": "30431f87-dd5f-4144-a76c-028b3fc37a5a"
   },
   "outputs": [],
   "source": [
    "from wordcloud import WordCloud\n",
    "wordcloud = WordCloud(background_color=\"white\", max_words =100).generate(all_words)\n",
    "plt.figure(figsize = (8, 8))\n",
    "plt.imshow(wordcloud)\n",
    "plt.axis(\"off\")\n",
    "plt.show()"
   ]
  },
  {
   "cell_type": "code",
   "execution_count": null,
   "metadata": {
    "colab": {
     "base_uri": "https://localhost:8080/",
     "height": 346
    },
    "id": "QzDDtRypUdnn",
    "outputId": "897968d0-c41b-4e25-dd86-8c71d8d9528b"
   },
   "outputs": [],
   "source": [
    "wordcloud = WordCloud(background_color=\"white\", max_words =50, colormap='cool').generate(str(pos_words))\n",
    "plt.figure(figsize = (8, 8))\n",
    "plt.imshow(wordcloud)\n",
    "plt.axis(\"off\")\n",
    "plt.show()"
   ]
  },
  {
   "cell_type": "code",
   "execution_count": null,
   "metadata": {
    "colab": {
     "base_uri": "https://localhost:8080/",
     "height": 346
    },
    "id": "RqIaeWBmUY3d",
    "outputId": "ef9eba39-67ad-4ae0-a13c-af432bfb690c"
   },
   "outputs": [],
   "source": [
    "wordcloud = WordCloud(background_color=\"white\", max_words =50, colormap='gist_heat').generate(str(neg_words))\n",
    "plt.figure(figsize = (8, 8))\n",
    "plt.imshow(wordcloud)\n",
    "plt.axis(\"off\")\n",
    "plt.show()\n"
   ]
  },
  {
   "cell_type": "markdown",
   "metadata": {
    "id": "7Z5yFePoVt-X"
   },
   "source": [
    "ML PREDICTION"
   ]
  },
  {
   "cell_type": "code",
   "execution_count": null,
   "metadata": {
    "id": "TQXClS4xVMkI"
   },
   "outputs": [],
   "source": [
    "\n",
    "from sklearn.model_selection import train_test_split\n"
   ]
  },
  {
   "cell_type": "code",
   "execution_count": null,
   "metadata": {
    "id": "g45xQzfUV02E"
   },
   "outputs": [],
   "source": [
    "X = df[\"Review Text\"]\n",
    "y= df[\"NEW_Recommended INDEX\"]\n"
   ]
  },
  {
   "cell_type": "code",
   "execution_count": null,
   "metadata": {
    "id": "u2d8tarnWDJV"
   },
   "outputs": [],
   "source": [
    "X_train, X_test, y_train, y_test = train_test_split(X, y, test_size=0.2, stratify=y, random_state=101)\n"
   ]
  },
  {
   "cell_type": "markdown",
   "metadata": {
    "id": "DOiTMiqAWLwG"
   },
   "source": [
    "Count Vectorization"
   ]
  },
  {
   "cell_type": "code",
   "execution_count": null,
   "metadata": {
    "id": "5-iRmItbWLIA"
   },
   "outputs": [],
   "source": [
    "from sklearn.feature_extraction.text import CountVectorizer\n",
    "\n",
    "vectorizer = CountVectorizer()\n",
    "X_train_count = vectorizer.fit_transform(X_train)\n",
    "X_test_count = vectorizer.transform(X_test)"
   ]
  },
  {
   "cell_type": "code",
   "execution_count": null,
   "metadata": {
    "colab": {
     "base_uri": "https://localhost:8080/"
    },
    "id": "luFTM0kD-m2L",
    "outputId": "eb4c780b-9bdf-4051-f85b-f90130e9ec7f"
   },
   "outputs": [],
   "source": [
    "print(X_train_count)"
   ]
  },
  {
   "cell_type": "markdown",
   "metadata": {
    "id": "74P5oBuzXyXK"
   },
   "source": [
    "TF-IDF Vectorizer"
   ]
  },
  {
   "cell_type": "code",
   "execution_count": null,
   "metadata": {
    "id": "3Z55mClbX01Q"
   },
   "outputs": [],
   "source": [
    "from sklearn.feature_extraction.text import TfidfVectorizer\n",
    "\n",
    "tf_idf_vectorizer = TfidfVectorizer()\n",
    "X_train_tf_idf = tf_idf_vectorizer.fit_transform(X_train)\n",
    "X_test_tf_idf = tf_idf_vectorizer.transform(X_test)"
   ]
  },
  {
   "cell_type": "code",
   "execution_count": null,
   "metadata": {
    "id": "056xTMz6WhB-"
   },
   "outputs": [],
   "source": [
    "from sklearn.metrics import confusion_matrix,ConfusionMatrixDisplay,classification_report, f1_score, recall_score, accuracy_score, precision_score"
   ]
  },
  {
   "cell_type": "code",
   "execution_count": null,
   "metadata": {
    "id": "vBoHNRhNWmCf"
   },
   "outputs": [],
   "source": [
    "def eval(model, X_train, X_test):\n",
    "  y_pred = model.predict(X_test)\n",
    "  y_pred_train = model.predict(X_train)\n",
    "  print(\"Test_Set\")\n",
    "  print(classification_report(y_test, y_pred))\n",
    "  print(\"Train_Set\")\n",
    "  print(classification_report(y_train, y_pred_train))\n",
    "  #fig, ax = plt.subplots(figsize=(8, 8))\n",
    "  cm=confusion_matrix(y_test,y_pred)\n",
    "  disp=ConfusionMatrixDisplay(confusion_matrix=cm)\n",
    "  disp.plot()\n"
   ]
  },
  {
   "cell_type": "markdown",
   "metadata": {
    "id": "PHhDiF9jXj2n"
   },
   "source": [
    "# Logistic Regression"
   ]
  },
  {
   "cell_type": "markdown",
   "metadata": {
    "id": "zDry1APSXmc4"
   },
   "source": [
    "Count-Vectorizer"
   ]
  },
  {
   "cell_type": "code",
   "execution_count": null,
   "metadata": {
    "colab": {
     "base_uri": "https://localhost:8080/",
     "height": 92
    },
    "id": "XRLYhdQ-Wxaw",
    "outputId": "9d623a74-391b-4343-9bbe-7588b688043d"
   },
   "outputs": [],
   "source": [
    "from sklearn.linear_model import LogisticRegression\n",
    "log = LogisticRegression(C =0.6, max_iter=1000, class_weight= \"balanced\", random_state=101)\n",
    "log.fit(X_train_count,y_train)\n"
   ]
  },
  {
   "cell_type": "code",
   "execution_count": null,
   "metadata": {
    "colab": {
     "base_uri": "https://localhost:8080/",
     "height": 1000
    },
    "id": "SPGekIvZYDkZ",
    "outputId": "d6d90465-caa5-4382-d0c1-80834f6bd653"
   },
   "outputs": [],
   "source": [
    "print(\"LOG MODEL\")\n",
    "eval(log, X_train_count, X_test_count)\n"
   ]
  },
  {
   "cell_type": "code",
   "execution_count": null,
   "metadata": {
    "colab": {
     "base_uri": "https://localhost:8080/"
    },
    "id": "ZLXtA3-iZDsg",
    "outputId": "ca5b25be-2440-4c40-dce7-3c647523ddab"
   },
   "outputs": [],
   "source": [
    "from sklearn.metrics import make_scorer\n",
    "from sklearn.model_selection import cross_val_score\n",
    "custom_scorer = {'accuracy': make_scorer(accuracy_score),\n",
    " 'precision-0': make_scorer(precision_score, pos_label=0),\n",
    " 'recall-0': make_scorer(recall_score, pos_label=0),\n",
    " 'f1-0': make_scorer(f1_score, pos_label=0),\n",
    " 'precision-1': make_scorer(precision_score, pos_label=1),\n",
    " 'recall-1': make_scorer(recall_score, pos_label=1),\n",
    " 'f1-1': make_scorer(f1_score, pos_label=1)\n",
    " }\n",
    "\n",
    "for i, j in custom_scorer.items():\n",
    "  model = LogisticRegression(C =0.6, max_iter=1000, class_weight= \"balanced\", random_state=101)\n",
    "  scores = cross_val_score(model, X_train_count, y_train, cv = 10, scoring = j).mean()\n",
    "  if i == \"recall-1\":\n",
    "    log_count_rec = scores\n",
    "  elif i == \"f1-1\":\n",
    "    log_count_f1 = scores\n",
    "  elif i == \"accuracy\":\n",
    "    log_count_acc = scores\n",
    "  print(f\" {i:20} score for count : {scores}\\n\")\n"
   ]
  },
  {
   "cell_type": "code",
   "execution_count": null,
   "metadata": {
    "colab": {
     "base_uri": "https://localhost:8080/",
     "height": 562
    },
    "id": "Mz6KCehvZnKo",
    "outputId": "5091ea53-8c42-401c-9d57-d2fd04ebd261"
   },
   "outputs": [],
   "source": [
    "\n",
    "from yellowbrick.classifier import PrecisionRecallCurve\n",
    "viz = PrecisionRecallCurve(\n",
    " LogisticRegression(C =0.6, max_iter=1000, class_weight= \"balanced\", random_state=101),\n",
    " classes=log.classes_,\n",
    " per_class=True,\n",
    "cmap=\"Set1\"\n",
    " )\n",
    "fig, ax = plt.subplots(figsize=(10, 6))\n",
    "ax.set_facecolor('yellow')\n",
    "viz.fit(X_train_count,y_train)\n",
    "viz.score(X_test_count, y_test)\n",
    "viz.show();\n"
   ]
  },
  {
   "cell_type": "code",
   "execution_count": null,
   "metadata": {
    "id": "82xUVogDZ7Ui"
   },
   "outputs": [],
   "source": [
    "log_AP_count = viz.score_"
   ]
  },
  {
   "cell_type": "markdown",
   "metadata": {
    "id": "KCK1Kh8oaNWy"
   },
   "source": [
    "TF-IDF Vectorizer"
   ]
  },
  {
   "cell_type": "code",
   "execution_count": null,
   "metadata": {
    "colab": {
     "base_uri": "https://localhost:8080/",
     "height": 92
    },
    "id": "PdZmGhxeZ_g7",
    "outputId": "96c77bfe-155c-431b-f257-63eceb96189b"
   },
   "outputs": [],
   "source": [
    "\n",
    "log = LogisticRegression(C=0.1, max_iter=1000, random_state=101, class_weight=\"balanced\")\n",
    "log.fit(X_train_tf_idf,y_train)"
   ]
  },
  {
   "cell_type": "code",
   "execution_count": null,
   "metadata": {
    "colab": {
     "base_uri": "https://localhost:8080/",
     "height": 1000
    },
    "id": "z05Twr8xaU2X",
    "outputId": "61230f64-2d94-43f3-d452-de1396f783c9"
   },
   "outputs": [],
   "source": [
    "print(\"LOG MODEL\")\n",
    "eval(log, X_train_tf_idf, X_test_tf_idf)"
   ]
  },
  {
   "cell_type": "code",
   "execution_count": null,
   "metadata": {
    "id": "7XIfDRCeabgQ"
   },
   "outputs": [],
   "source": [
    "from sklearn.metrics import make_scorer\n",
    "from sklearn.model_selection import cross_val_score\n",
    "custom_scorer = {'accuracy': make_scorer(accuracy_score),\n",
    " 'precision-0': make_scorer(precision_score, pos_label=0),\n",
    " 'recall-0': make_scorer(recall_score, pos_label=0),\n",
    " 'f1-0': make_scorer(f1_score, pos_label=0),\n",
    " 'precision-1': make_scorer(precision_score, pos_label=1),\n",
    " 'recall-1': make_scorer(recall_score, pos_label=1),\n",
    " 'f1-1': make_scorer(f1_score, pos_label=1)\n",
    " }\n",
    "\n",
    "for i, j in custom_scorer.items():\n",
    "  model = LogisticRegression(C =0.6, max_iter=1000, class_weight= \"balanced\", random_state=101)\n",
    "  scores = cross_val_score(model, X_train_tf_idf, y_train, cv = 10, scoring = j).mean()\n",
    "  if i == \"recall-1\":\n",
    "    log_count_rec = scores\n",
    "  elif i == \"f1-1\":\n",
    "    log_count_f1 = scores\n",
    "  elif i == \"accuracy\":\n",
    "    log_count_acc = scores\n",
    "  print(f\" {i:20} score for count : {scores}\\n\")"
   ]
  },
  {
   "cell_type": "code",
   "execution_count": null,
   "metadata": {
    "id": "gGJ_94J8a0gw"
   },
   "outputs": [],
   "source": [
    "from yellowbrick.classifier import PrecisionRecallCurve\n",
    "viz = PrecisionRecallCurve(\n",
    " LogisticRegression(C =0.6, max_iter=1000, class_weight= \"balanced\", random_state=101),\n",
    " classes=log.classes_,\n",
    " per_class=True,\n",
    "cmap=\"Set1\"\n",
    " )\n",
    "fig, ax = plt.subplots(figsize=(10, 6))\n",
    "ax.set_facecolor('yellow')\n",
    "viz.fit(X_train_tf_idf,y_train)\n",
    "viz.score(X_test_tf_idf, y_test)\n",
    "viz.show();\n"
   ]
  },
  {
   "cell_type": "code",
   "execution_count": null,
   "metadata": {
    "id": "948LZXzjauOh"
   },
   "outputs": [],
   "source": [
    "log_AP_tfidf = viz.score_\n"
   ]
  },
  {
   "cell_type": "markdown",
   "metadata": {
    "id": "K00WLavqbGvc"
   },
   "source": [
    "# NAIVE BAYES"
   ]
  },
  {
   "cell_type": "markdown",
   "metadata": {
    "id": "UKIJJ53vbMno"
   },
   "source": [
    "COUNT VECTORIZER"
   ]
  },
  {
   "cell_type": "code",
   "execution_count": null,
   "metadata": {
    "id": "HJjrctjtbLsX"
   },
   "outputs": [],
   "source": [
    "from sklearn.naive_bayes import MultinomialNB, BernoulliNB"
   ]
  },
  {
   "cell_type": "code",
   "execution_count": null,
   "metadata": {
    "id": "CSmrKYiubFi7"
   },
   "outputs": [],
   "source": [
    "nb = MultinomialNB()\n",
    "nb.fit(X_train_count, y_train)"
   ]
  },
  {
   "cell_type": "code",
   "execution_count": null,
   "metadata": {
    "id": "6HtHw6ygbTxR"
   },
   "outputs": [],
   "source": [
    "print(\"NB MODEL\")\n",
    "eval(nb, X_train_count, X_test_count)"
   ]
  },
  {
   "cell_type": "code",
   "execution_count": null,
   "metadata": {
    "id": "3fNANaS7bapc"
   },
   "outputs": [],
   "source": [
    "\n",
    "custom_scorer = {'accuracy': make_scorer(accuracy_score),\n",
    " 'precision-0': make_scorer(precision_score, pos_label=0),\n",
    " 'recall-0': make_scorer(recall_score, pos_label=0),\n",
    " 'f1-0': make_scorer(f1_score, pos_label=0),\n",
    " 'precision-1': make_scorer(precision_score, pos_label=1),\n",
    " 'recall-1': make_scorer(recall_score, pos_label=1),\n",
    " 'f1-1': make_scorer(f1_score, pos_label=1)\n",
    " }\n",
    "for i, j in custom_scorer.items():\n",
    "  model = MultinomialNB()\n",
    "  scores = cross_val_score(model, X_train_count, y_train, cv = 10, scoring = j).mean()\n",
    "  if i == \"recall-1\":\n",
    "    nb_count_rec = scores\n",
    "  elif i == \"f1-1\":\n",
    "    nb_count_f1 = scores\n",
    "  elif i == \"accuracy\":\n",
    "    nb_count_acc = scores\n",
    "  print(f\" {i:20} score for count : {scores}\\n\")\n"
   ]
  },
  {
   "cell_type": "code",
   "execution_count": null,
   "metadata": {
    "id": "-xzJGnFablM_"
   },
   "outputs": [],
   "source": [
    "viz = PrecisionRecallCurve(\n",
    " MultinomialNB(),\n",
    "classes=nb.classes_,\n",
    " per_class=True,\n",
    "cmap=\"Set1\"\n",
    " )\n",
    "fig, ax = plt.subplots(figsize=(10, 6))\n",
    "ax.set_facecolor('yellow')\n",
    "viz.fit(X_train_count,y_train)\n",
    "viz.score(X_test_count, y_test)\n",
    "viz.show();"
   ]
  },
  {
   "cell_type": "code",
   "execution_count": null,
   "metadata": {
    "id": "uNzKn4qSbs7K"
   },
   "outputs": [],
   "source": [
    "nb_AP_count = viz.score"
   ]
  },
  {
   "cell_type": "markdown",
   "metadata": {
    "id": "g7Hbc84dqnCz"
   },
   "source": [
    "TF-IDF Vectorizer"
   ]
  },
  {
   "cell_type": "code",
   "execution_count": null,
   "metadata": {
    "id": "j6mo7pjVqkcH"
   },
   "outputs": [],
   "source": [
    "\n",
    "from sklearn.naive_bayes import MultinomialNB, BernoulliNB\n",
    "nb = MultinomialNB()\n",
    "nb.fit(X_train_tf_idf, y_train)\n"
   ]
  },
  {
   "cell_type": "code",
   "execution_count": null,
   "metadata": {
    "id": "9j6cpa7tqrgO"
   },
   "outputs": [],
   "source": [
    "\n",
    "print(\"NB MODEL\")\n",
    "eval(nb, X_train_tf_idf, X_test_tf_idf)"
   ]
  },
  {
   "cell_type": "code",
   "execution_count": null,
   "metadata": {
    "colab": {
     "base_uri": "https://localhost:8080/"
    },
    "id": "ZZGkscCCq6gq",
    "outputId": "796a28d7-4310-4019-cedb-41fc1ea80bc5"
   },
   "outputs": [],
   "source": [
    "\n",
    "custom_scorer = {'accuracy': make_scorer(accuracy_score),\n",
    " 'precision-0': make_scorer(precision_score, pos_label=0),\n",
    " 'recall-0': make_scorer(recall_score, pos_label=0),\n",
    " 'f1-0': make_scorer(f1_score, pos_label=0),\n",
    " 'precision-1': make_scorer(precision_score, pos_label=1),\n",
    " 'recall-1': make_scorer(recall_score, pos_label=1),\n",
    " 'f1-1': make_scorer(f1_score, pos_label=1)\n",
    " }\n",
    "for i, j in custom_scorer.items():\n",
    "  model = BernoulliNB()\n",
    "  scores = cross_val_score(model, X_train_tf_idf, y_train, cv = 10, scoring = j).mean()\n",
    "  if i == \"recall-1\":\n",
    "    nb_tfidf_rec = scores\n",
    "  elif i == \"f1-1\":\n",
    "    nb_tfidf_f1 = scores\n",
    "  elif i == \"accuracy\":\n",
    "    nb_tfidf_acc = scores\n",
    "  print(f\" {i:20} score for tfidf : {scores}\\n\")\n"
   ]
  },
  {
   "cell_type": "code",
   "execution_count": null,
   "metadata": {
    "colab": {
     "base_uri": "https://localhost:8080/",
     "height": 562
    },
    "id": "vFSIS0jLrHUV",
    "outputId": "d7432c44-aaa7-4575-a344-f08002a0a908"
   },
   "outputs": [],
   "source": [
    "from yellowbrick.classifier import PrecisionRecallCurve\n",
    "viz = PrecisionRecallCurve(\n",
    " MultinomialNB(),\n",
    "classes=nb.classes_,\n",
    " per_class=True,\n",
    "cmap=\"Set1\"\n",
    " )\n",
    "fig, ax = plt.subplots(figsize=(10, 6))\n",
    "ax.set_facecolor('yellow')\n",
    "viz.fit(X_train_tf_idf, y_train)\n",
    "viz.score(X_test_tf_idf, y_test)\n",
    "viz.show();\n"
   ]
  },
  {
   "cell_type": "markdown",
   "metadata": {
    "id": "kk5EtnryrT_o"
   },
   "source": [
    "# SVM"
   ]
  },
  {
   "cell_type": "markdown",
   "metadata": {
    "id": "IxRsi99crXvw"
   },
   "source": [
    "COUNT VECTORIZER"
   ]
  },
  {
   "cell_type": "code",
   "execution_count": null,
   "metadata": {
    "colab": {
     "base_uri": "https://localhost:8080/",
     "height": 74
    },
    "id": "94YRGg_JrRT2",
    "outputId": "b1dd034d-89e1-4863-8672-b309bb10d6f9"
   },
   "outputs": [],
   "source": [
    "from sklearn.svm import LinearSVC\n",
    "svc = LinearSVC(C=0.01, class_weight=\"balanced\", random_state=101)\n",
    "svc.fit(X_train_count,y_train)"
   ]
  },
  {
   "cell_type": "code",
   "execution_count": null,
   "metadata": {
    "colab": {
     "base_uri": "https://localhost:8080/",
     "height": 1000
    },
    "id": "P7FHyWemreVw",
    "outputId": "a3903b2f-4c65-458d-b352-27ce8f8ee43c"
   },
   "outputs": [],
   "source": [
    "print(\"SVC MODEL\")\n",
    "eval(svc, X_train_count, X_test_count)\n"
   ]
  },
  {
   "cell_type": "code",
   "execution_count": null,
   "metadata": {
    "colab": {
     "base_uri": "https://localhost:8080/"
    },
    "id": "3BuD0g19rpDy",
    "outputId": "97606c6f-8691-429b-aa7a-f82c472dfc4c"
   },
   "outputs": [],
   "source": [
    "\n",
    "custom_scorer = {'accuracy': make_scorer(accuracy_score),\n",
    " 'precision-0': make_scorer(precision_score, pos_label=0),\n",
    " 'recall-0': make_scorer(recall_score, pos_label=0),\n",
    " 'f1-0': make_scorer(f1_score, pos_label=0),\n",
    " 'precision-1': make_scorer(precision_score, pos_label=1),\n",
    " 'recall-1': make_scorer(recall_score, pos_label=1),\n",
    " 'f1-1': make_scorer(f1_score, pos_label=1)\n",
    " }\n",
    "for i, j in custom_scorer.items():\n",
    "  model = LinearSVC(C=0.01, class_weight=\"balanced\", random_state=101)\n",
    "  scores = cross_val_score(model, X_train_count, y_train, cv = 10, scoring = j).mean()\n",
    "  if i == \"recall-1\":\n",
    "    svc_count_rec = scores\n",
    "  elif i == \"f1-1\":\n",
    "    svc_count_f1 = scores\n",
    "  elif i == \"accuracy\":\n",
    "    svc_count_acc = scores\n",
    "  print(f\" {i:20} score for count : {scores}\\n\")"
   ]
  },
  {
   "cell_type": "code",
   "execution_count": null,
   "metadata": {
    "colab": {
     "base_uri": "https://localhost:8080/",
     "height": 562
    },
    "id": "UVRSyDqUsvgo",
    "outputId": "cde9db23-de72-4b00-d53a-bb26c0e8d087"
   },
   "outputs": [],
   "source": [
    "viz = PrecisionRecallCurve(\n",
    " LinearSVC(C=0.01, class_weight=\"balanced\", random_state=101),\n",
    " classes=svc.classes_,\n",
    " per_class=True,\n",
    "cmap=\"Set1\"\n",
    " )\n",
    "fig, ax = plt.subplots(figsize=(10, 6))\n",
    "ax.set_facecolor('yellow')\n",
    "viz.fit(X_train_count,y_train)\n",
    "viz.score(X_test_count, y_test)\n",
    "viz.show();"
   ]
  },
  {
   "cell_type": "code",
   "execution_count": null,
   "metadata": {
    "id": "K9z6yKqds2Ej"
   },
   "outputs": [],
   "source": [
    "svc_AP_count = viz.score"
   ]
  },
  {
   "cell_type": "markdown",
   "metadata": {
    "id": "Zq-mxy82s7Ub"
   },
   "source": [
    "TF-IDF VECTORIZER"
   ]
  },
  {
   "cell_type": "code",
   "execution_count": null,
   "metadata": {
    "colab": {
     "base_uri": "https://localhost:8080/",
     "height": 74
    },
    "id": "bZlIOEzts9bZ",
    "outputId": "26ce0140-129c-4564-d90f-0043041f6e75"
   },
   "outputs": [],
   "source": [
    "\n",
    "svc = LinearSVC(C=0.01, class_weight=\"balanced\", random_state=101)\n",
    "svc.fit(X_train_tf_idf, y_train)\n"
   ]
  },
  {
   "cell_type": "code",
   "execution_count": null,
   "metadata": {
    "colab": {
     "base_uri": "https://localhost:8080/",
     "height": 1000
    },
    "id": "tePWwaYqtBpc",
    "outputId": "e5492faf-f69e-48d2-8d28-b15455573aad"
   },
   "outputs": [],
   "source": [
    "\n",
    "print(\"SVC MODEL\")\n",
    "eval(svc, X_train_tf_idf, X_test_tf_idf)"
   ]
  },
  {
   "cell_type": "code",
   "execution_count": null,
   "metadata": {
    "colab": {
     "base_uri": "https://localhost:8080/"
    },
    "id": "YwZIHKo7tO2i",
    "outputId": "28147cfa-2d0a-4f8d-c73a-ded39218e304"
   },
   "outputs": [],
   "source": [
    "custom_scorer = {'accuracy': make_scorer(accuracy_score),\n",
    " 'precision-0': make_scorer(precision_score, pos_label=0),\n",
    " 'recall-0': make_scorer(recall_score, pos_label=0),\n",
    " 'f1-0': make_scorer(f1_score, pos_label=0),\n",
    " 'precision-1': make_scorer(precision_score, pos_label=1),\n",
    " 'recall-1': make_scorer(recall_score, pos_label=1),\n",
    " 'f1-1': make_scorer(f1_score, pos_label=1)\n",
    " }\n",
    "for i, j in custom_scorer.items():\n",
    "  model = LinearSVC(C=0.01, class_weight=\"balanced\", random_state=101)\n",
    "  scores = cross_val_score(model, X_train_tf_idf, y_train, cv = 10, scoring = j).mean()\n",
    "  if i == \"recall-1\":\n",
    "    svc_tfidf_rec = scores\n",
    "  elif i == \"f1-1\":\n",
    "    svc_tfidf_f1 = scores\n",
    "  elif i == \"accuracy\":\n",
    "    svc_tfidf_acc = scores\n",
    "  print(f\" {i:20} score for tfidf : {scores}\\n\")\n"
   ]
  },
  {
   "cell_type": "code",
   "execution_count": null,
   "metadata": {
    "colab": {
     "base_uri": "https://localhost:8080/",
     "height": 562
    },
    "id": "wZ-WCvCatc7C",
    "outputId": "5d0446ad-778c-4830-a9bc-1325e66d4292"
   },
   "outputs": [],
   "source": [
    "\n",
    "viz = PrecisionRecallCurve(\n",
    " LinearSVC(C=0.01, class_weight=\"balanced\", random_state=101),\n",
    " classes=svc.classes_,\n",
    " per_class=True,\n",
    "cmap=\"Set1\"\n",
    " )\n",
    "fig, ax = plt.subplots(figsize=(10, 6))\n",
    "ax.set_facecolor('yellow')\n",
    "viz.fit(X_train_tf_idf,y_train)\n",
    "viz.score(X_test_tf_idf, y_test)\n",
    "viz.show();"
   ]
  },
  {
   "cell_type": "code",
   "execution_count": null,
   "metadata": {
    "id": "zJPZbtCTtnss"
   },
   "outputs": [],
   "source": [
    "svc_AP_tfidf = viz.score_\n"
   ]
  },
  {
   "cell_type": "markdown",
   "metadata": {
    "id": "NLhPljcAt8TG"
   },
   "source": [
    "# RANDOM FOREST"
   ]
  },
  {
   "cell_type": "markdown",
   "metadata": {
    "id": "U7yw8Izmt--i"
   },
   "source": [
    "COUNT VECTORIZER"
   ]
  },
  {
   "cell_type": "code",
   "execution_count": null,
   "metadata": {
    "colab": {
     "base_uri": "https://localhost:8080/",
     "height": 92
    },
    "id": "fxqn7StDuBfm",
    "outputId": "1b45b603-bb26-448b-cc0a-401461f13426"
   },
   "outputs": [],
   "source": [
    "from sklearn.ensemble import RandomForestClassifier\n",
    "rf = RandomForestClassifier(200, max_depth = 12, random_state = 42, n_jobs = -1, class_weight=\"balanced\")\n",
    "rf.fit(X_train_count, y_train)\n"
   ]
  },
  {
   "cell_type": "code",
   "execution_count": null,
   "metadata": {
    "colab": {
     "base_uri": "https://localhost:8080/",
     "height": 1000
    },
    "id": "eL3AcSL1uM29",
    "outputId": "fbed46ce-2e59-4757-deaf-3fe3ecdf9ce9"
   },
   "outputs": [],
   "source": [
    "print(\"RF MODEL\")\n",
    "eval(rf, X_train_count, X_test_count)"
   ]
  },
  {
   "cell_type": "code",
   "execution_count": null,
   "metadata": {
    "id": "CHtog_RJubPn"
   },
   "outputs": [],
   "source": [
    "custom_scorer = {'accuracy': make_scorer(accuracy_score),\n",
    " 'precision-0': make_scorer(precision_score, pos_label=0),\n",
    " 'recall-0': make_scorer(recall_score, pos_label=0),\n",
    " 'f1-0': make_scorer(f1_score, pos_label=0),\n",
    " 'precision-1': make_scorer(precision_score, pos_label=1),\n",
    " 'recall-1': make_scorer(recall_score, pos_label=1),\n",
    " 'f1-1': make_scorer(f1_score, pos_label=1)\n",
    " }\n",
    "for i, j in custom_scorer.items():\n",
    "  model = RandomForestClassifier(200, max_depth = 12, random_state = 42, n_jobs = -1, class_weight=\"balanced\")\n",
    "  scores = cross_val_score(model, X_train_count, y_train, cv = 10, scoring = j).mean()\n",
    "  if i == \"recall-1\":\n",
    "    rf_count_rec = scores\n",
    "  elif i == \"f1-1\":\n",
    "    rf_count_f1 = scores\n",
    "  elif i == \"accuracy\":\n",
    "    rf_count_acc= scores\n",
    "  print(f\" {i:20} score for count : {scores}\\n\")\n"
   ]
  },
  {
   "cell_type": "code",
   "execution_count": null,
   "metadata": {
    "colab": {
     "base_uri": "https://localhost:8080/",
     "height": 562
    },
    "id": "UP3IbiNPulN8",
    "outputId": "997c604a-cb35-4fa9-be43-b0d0e521699c"
   },
   "outputs": [],
   "source": [
    "\n",
    "viz = PrecisionRecallCurve(\n",
    "    RandomForestClassifier(200, max_depth = 10, random_state = 42, n_jobs = -1, class_weight=\"balanced\"),\n",
    " classes=rf.classes_,\n",
    " per_class=True,\n",
    "cmap=\"Set1\"\n",
    " )\n",
    "fig, ax = plt.subplots(figsize=(10, 6))\n",
    "ax.set_facecolor('yellow')\n",
    "viz.fit(X_train_count,y_train)\n",
    "viz.score(X_test_count, y_test)\n",
    "viz.show();"
   ]
  },
  {
   "cell_type": "code",
   "execution_count": null,
   "metadata": {
    "id": "XY1PowM2urUN"
   },
   "outputs": [],
   "source": [
    "\n",
    "rf_AP_count = viz.score_\n",
    "\n"
   ]
  },
  {
   "cell_type": "markdown",
   "metadata": {
    "id": "hdMPHBGsu6lG"
   },
   "source": [
    "TF-IDF Vectorizer"
   ]
  },
  {
   "cell_type": "code",
   "execution_count": null,
   "metadata": {
    "colab": {
     "base_uri": "https://localhost:8080/",
     "height": 92
    },
    "id": "M1Kns7_Vu-C-",
    "outputId": "ae33e4ef-4a34-4528-a2b7-7dba30488c69"
   },
   "outputs": [],
   "source": [
    "rf = RandomForestClassifier(200, max_depth = 10, random_state = 42, n_jobs = -1, class_weight=\"balanced\")\n",
    "rf.fit(X_train_tf_idf, y_train)\n"
   ]
  },
  {
   "cell_type": "code",
   "execution_count": null,
   "metadata": {
    "colab": {
     "base_uri": "https://localhost:8080/",
     "height": 1000
    },
    "id": "tDdRLoLjxHk8",
    "outputId": "faa27bd9-d8d5-418a-8fc0-917e59d367b4"
   },
   "outputs": [],
   "source": [
    "print(\"RF MODEL\")\n",
    "eval(rf, X_train_tf_idf, X_test_tf_idf)"
   ]
  },
  {
   "cell_type": "code",
   "execution_count": null,
   "metadata": {
    "colab": {
     "base_uri": "https://localhost:8080/"
    },
    "id": "9cl4oBhZxRVw",
    "outputId": "dc1a9e46-2fa0-43c9-f52f-6713094ec182"
   },
   "outputs": [],
   "source": [
    "custom_scorer = {'accuracy': make_scorer(accuracy_score),\n",
    " 'precision-0': make_scorer(precision_score, pos_label=0),\n",
    " 'recall-0': make_scorer(recall_score, pos_label=0),\n",
    " 'f1-0': make_scorer(f1_score, pos_label=0),\n",
    " 'precision-1': make_scorer(precision_score, pos_label=1),\n",
    " 'recall-1': make_scorer(recall_score, pos_label=1),\n",
    " 'f1-1': make_scorer(f1_score, pos_label=1)\n",
    " }\n",
    "for i, j in custom_scorer.items():\n",
    "  model = RandomForestClassifier(200, max_depth = 10, random_state = 42, n_jobs = -1, class_weight=\"balanced\")\n",
    "  scores = cross_val_score(model, X_train_tf_idf, y_train, cv = 10, scoring = j).mean()\n",
    "  if i == \"recall-1\":\n",
    "    rf_tfidf_rec = scores\n",
    "  elif i == \"f1-1\":\n",
    "    rf_tfidf_f1 = scores\n",
    "  elif i == \"accuracy\":\n",
    "    rf_tfidf_acc = scores\n",
    "  print(f\" {i:20} score for tfidf : {scores}\\n\")\n"
   ]
  },
  {
   "cell_type": "code",
   "execution_count": null,
   "metadata": {
    "colab": {
     "base_uri": "https://localhost:8080/",
     "height": 562
    },
    "id": "QjDmyjjPxYJO",
    "outputId": "e4103d91-7e28-451b-cc0a-8aa3d3fe7e6d"
   },
   "outputs": [],
   "source": [
    "\n",
    "viz = PrecisionRecallCurve(\n",
    " RandomForestClassifier(200, max_depth = 10, random_state = 42, n_jobs = -1, class_weight=\"balanced\"),\n",
    " classes=rf.classes_,\n",
    " per_class=True,\n",
    "cmap=\"Set1\"\n",
    " )\n",
    "fig, ax = plt.subplots(figsize=(10, 6))\n",
    "ax.set_facecolor('yellow')\n",
    "viz.fit(X_train_tf_idf,y_train)\n",
    "viz.score(X_test_tf_idf, y_test)\n",
    "viz.show();"
   ]
  },
  {
   "cell_type": "code",
   "execution_count": null,
   "metadata": {
    "id": "E7YIUn5BxgFm"
   },
   "outputs": [],
   "source": [
    "rf_AP_tfidf = viz.score_\n"
   ]
  },
  {
   "cell_type": "markdown",
   "metadata": {
    "id": "x6VKIzLEy4tG"
   },
   "source": [
    "# ADABOOST"
   ]
  },
  {
   "cell_type": "markdown",
   "metadata": {
    "id": "cXIyBXu0zBE1"
   },
   "source": [
    "COUNT VECTORIZER"
   ]
  },
  {
   "cell_type": "code",
   "execution_count": null,
   "metadata": {
    "colab": {
     "base_uri": "https://localhost:8080/",
     "height": 75
    },
    "id": "mQlKVhAMzAN7",
    "outputId": "75f7fe58-08cc-4433-9648-4c860a9cd72c"
   },
   "outputs": [],
   "source": [
    "from sklearn.ensemble import AdaBoostClassifier\n",
    "ada = AdaBoostClassifier(n_estimators= 500, random_state = 42)\n",
    "ada.fit(X_train_count, y_train)\n"
   ]
  },
  {
   "cell_type": "code",
   "execution_count": null,
   "metadata": {
    "colab": {
     "base_uri": "https://localhost:8080/",
     "height": 1000
    },
    "id": "IJHehUuAy6QB",
    "outputId": "2b3e611b-2fce-4440-9990-66fbfe8acd4b"
   },
   "outputs": [],
   "source": [
    "print(\"Ada MODEL\")\n",
    "eval(ada, X_train_count, X_test_count)"
   ]
  },
  {
   "cell_type": "code",
   "execution_count": null,
   "metadata": {
    "colab": {
     "base_uri": "https://localhost:8080/",
     "height": 562
    },
    "id": "KCkKE2Knzkll",
    "outputId": "4efa2dec-50eb-441c-fb01-e1bd92508722"
   },
   "outputs": [],
   "source": [
    "\n",
    "viz = PrecisionRecallCurve(\n",
    " AdaBoostClassifier(n_estimators= 500, random_state = 42),\n",
    " classes=ada.classes_,\n",
    " per_class=True,\n",
    "cmap=\"Set1\"\n",
    " )\n",
    "fig, ax = plt.subplots(figsize=(10, 6))\n",
    "ax.set_facecolor('yellow')\n",
    "viz.fit(X_train_count,y_train)\n",
    "viz.score(X_test_count, y_test)\n",
    "viz.show();"
   ]
  },
  {
   "cell_type": "code",
   "execution_count": null,
   "metadata": {
    "id": "v2LzHH3uzpQg"
   },
   "outputs": [],
   "source": [
    "\n",
    "ada_AP_count = viz.score_\n"
   ]
  },
  {
   "cell_type": "markdown",
   "metadata": {
    "id": "ZWEXe8_F0Bbk"
   },
   "source": [
    "TF IDF VECTORIZER"
   ]
  },
  {
   "cell_type": "code",
   "execution_count": null,
   "metadata": {
    "colab": {
     "base_uri": "https://localhost:8080/",
     "height": 75
    },
    "id": "RV-YaLIX0IRt",
    "outputId": "81448edf-68f5-4109-8792-035040f54e48"
   },
   "outputs": [],
   "source": [
    "ada = AdaBoostClassifier(n_estimators= 500, random_state = 42)\n",
    "ada.fit(X_train_tf_idf, y_train)"
   ]
  },
  {
   "cell_type": "code",
   "execution_count": null,
   "metadata": {
    "colab": {
     "base_uri": "https://localhost:8080/",
     "height": 1000
    },
    "id": "W91QClN60MMR",
    "outputId": "0eadd372-03a6-43ae-dbaa-cdf9761568f1"
   },
   "outputs": [],
   "source": [
    "print(\"Ada MODEL\")\n",
    "eval(ada, X_train_tf_idf, X_test_tf_idf)"
   ]
  },
  {
   "cell_type": "code",
   "execution_count": null,
   "metadata": {
    "colab": {
     "base_uri": "https://localhost:8080/",
     "height": 562
    },
    "id": "wnB3Xru_0S8r",
    "outputId": "edc1e06d-044c-4199-ba96-5cf37fb0b601"
   },
   "outputs": [],
   "source": [
    "viz = PrecisionRecallCurve(\n",
    " AdaBoostClassifier(n_estimators= 500, random_state = 42),\n",
    " classes=ada.classes_,\n",
    " per_class=True,\n",
    "cmap=\"Set1\"\n",
    " )\n",
    "fig, ax = plt.subplots(figsize=(10, 6))\n",
    "ax.set_facecolor('yellow')\n",
    "viz.fit(X_train_tf_idf,y_train)\n",
    "viz.score(X_test_tf_idf, y_test)\n",
    "viz.show();"
   ]
  },
  {
   "cell_type": "code",
   "execution_count": null,
   "metadata": {
    "id": "DXUlYqy_0XyV"
   },
   "outputs": [],
   "source": [
    "ada_AP_tfidf = viz.score_\n"
   ]
  },
  {
   "cell_type": "markdown",
   "metadata": {
    "id": "omFKW8qN_i8x"
   },
   "source": [
    "From the above metrics,"
   ]
  },
  {
   "cell_type": "code",
   "execution_count": null,
   "metadata": {
    "colab": {
     "base_uri": "https://localhost:8080/",
     "height": 1000
    },
    "id": "EVqwjp35BUjx",
    "outputId": "a52d53a5-5ef6-4199-d759-c53ed8e8877e"
   },
   "outputs": [],
   "source": [
    "compare = pd.DataFrame({\"Model\": [\"NaiveBayes_count\", \"LogReg_count\", \"SVM_count\", \"Random Forest_count\",\n",
    "  \"NaiveBayes_tfidf\", \"SVM_tfidf\",\n",
    " \"Random Forest_tfidf\"],\n",
    "\n",
    "\"F1_Score\": [nb_count_f1, log_count_f1, svc_count_f1,\n",
    " rf_count_f1, nb_tfidf_f1,\n",
    " svc_tfidf_f1, rf_tfidf_f1],\n",
    "\n",
    "\"Recall_Score\": [nb_count_rec, log_count_rec, svc_count_rec,\n",
    " rf_count_rec,nb_tfidf_rec, svc_tfidf_rec,\n",
    " rf_tfidf_rec],\n",
    " \"Accuracy_Score\": [nb_count_acc, log_count_acc, svc_count_acc,\n",
    " rf_count_acc,nb_tfidf_acc, svc_tfidf_acc,\n",
    " rf_tfidf_acc],\n",
    "\n",
    "\"Average_Precision_Score\": [nb_AP_count, log_AP_count, svc_AP_count, rf_AP_count,\n",
    " log_AP_tfidf, svc_AP_tfidf,\n",
    " rf_AP_tfidf]})\n",
    "def labels(ax):\n",
    "\n",
    " for p in ax.patches:\n",
    "  width = p.get_width() # get bar length\n",
    "  ax.text(width, # set the text at 1 unit right of the bar\n",
    "  p.get_y() + p.get_height() / 2, # get Y coordinate + X coordinate / 2\n",
    "  '{:1.3f}'.format(width), # set variable to display, 2 decimals\n",
    "  ha = 'left', # horizontal alignment\n",
    "  va = 'center') # vertical alignment\n",
    "\n",
    "plt.figure(figsize=(15,30))\n",
    "plt.subplot(411)\n",
    "compare = compare.sort_values(by=\"Recall_Score\", ascending=False)\n",
    "ax=sns.barplot(x=\"Recall_Score\", y=\"Model\", data=compare, palette=\"winter_r\")\n",
    "labels(ax)\n",
    "plt.subplot(412)\n",
    "compare = compare.sort_values(by=\"F1_Score\", ascending=False)\n",
    "ax=sns.barplot(x=\"F1_Score\", y=\"Model\", data=compare, palette=\"gist_earth\")\n",
    "labels(ax)\n",
    "\n",
    "\n",
    "plt.subplot(413)\n",
    "compare = compare.sort_values(by=\"Accuracy_Score\", ascending=False)\n",
    "ax=sns.barplot(x=\"Accuracy_Score\", y=\"Model\", data=compare, palette=\"ocean\")\n",
    "labels(ax)\n",
    "plt.show();"
   ]
  },
  {
   "cell_type": "markdown",
   "metadata": {
    "id": "Pf_dY3DVp6sF"
   },
   "source": [
    "From the above analysis , Naive Bayes Model with count vectorization is highest in metrics as compared to other models. Hence we can use  Naive Bayes for prediction\n"
   ]
  },
  {
   "cell_type": "code",
   "execution_count": null,
   "metadata": {
    "colab": {
     "base_uri": "https://localhost:8080/",
     "height": 75
    },
    "id": "QBT6F0M1p5q_",
    "outputId": "a592d62c-895f-4ac4-9e83-e49dba07dd96"
   },
   "outputs": [],
   "source": [
    "nb = MultinomialNB()\n",
    "nb.fit(X_train_count, y_train)"
   ]
  },
  {
   "cell_type": "code",
   "execution_count": null,
   "metadata": {
    "colab": {
     "base_uri": "https://localhost:8080/"
    },
    "id": "j3y3A9J38ru6",
    "outputId": "8e5e23f5-376a-4346-d580-60895fa22f73"
   },
   "outputs": [],
   "source": [
    "X_train_count"
   ]
  },
  {
   "cell_type": "code",
   "execution_count": null,
   "metadata": {
    "id": "oMvKBWjZLkBG"
   },
   "outputs": [],
   "source": [
    "review1 = \"Love this dress\"\n",
    "review2 = \"Absolutely wonderful. silky and sexy and comfortable\"\n",
    "review3 = \"i initially ordered the petite small (my usual size) but i found this to be outrageously small.\"\n",
    "review4 = \"I love, love, love this jumpsuit. it's fun, flirty, and fabulous! every time i wear it, i get nothing but great comfortable\"\n",
    "review5 = 'This shirt is very flattering to all due to the adjustable front tie. it is the perfect length to wear with leggings.'\n",
    "review6 = 'I love tracy reese dresses, but this one is not for the very petite.'\n",
    "review7 = 'I love this dress. i usually get an xs but it runs a little snug in bust so i ordered up a size. very flattering and loose.'\n",
    "review8 = 'Dress runs small esp where the zipper area runs. i ordered the sp which typically fits me and it was very tight!'\n",
    "review9 = \"if you are at least average height or taller, this may look good on you.\"\n",
    "review10 = \"sadly will be returning, but i'm sure i will find something to exchange it for!\"\n",
    "review11 = 'Very comfortable, material is good, cut out on sleeves flattering'\n",
    "reviews = [review1, review2, review3, review4, review5, review6, review7, review8, review9, review10, review11]"
   ]
  },
  {
   "cell_type": "code",
   "execution_count": null,
   "metadata": {
    "colab": {
     "base_uri": "https://localhost:8080/",
     "height": 394
    },
    "id": "xVe8MMj69CAP",
    "outputId": "5dea6d3f-a767-4f0c-82df-b3f1451880fc"
   },
   "outputs": [],
   "source": [
    "\n",
    "df_pred = pd.DataFrame(reviews,columns={\"Reviews\":0})\n",
    "df_pred\n"
   ]
  },
  {
   "cell_type": "code",
   "execution_count": null,
   "metadata": {
    "colab": {
     "base_uri": "https://localhost:8080/",
     "height": 481
    },
    "id": "kuXgcV4h_nO1",
    "outputId": "9f126675-6c3a-4153-c9a6-7fefe6d63653"
   },
   "outputs": [],
   "source": [
    "df_pred[\"Reviews1\"]=df_pred[\"Reviews\"].apply(cleaning_fsa)\n",
    "df_pred"
   ]
  },
  {
   "cell_type": "code",
   "execution_count": null,
   "metadata": {
    "id": "VReZPpvs7MwW"
   },
   "outputs": [],
   "source": [
    "from sklearn.feature_extraction.text import CountVectorizer\n",
    "\n",
    "vectorizer = CountVectorizer()\n",
    "\n",
    "vectorizer.fit_transform(X_train)\n",
    "Review=vectorizer.transform(df_pred[\"Reviews1\"])\n",
    "\n"
   ]
  },
  {
   "cell_type": "code",
   "execution_count": null,
   "metadata": {
    "id": "b2vu9xs97r00"
   },
   "outputs": [],
   "source": [
    "y=nb.predict(Review)\n",
    "df_pred[\"Predicted Recommendation Label\"]=y"
   ]
  },
  {
   "cell_type": "code",
   "execution_count": null,
   "metadata": {
    "colab": {
     "base_uri": "https://localhost:8080/",
     "height": 568
    },
    "id": "DB5Lv53XCyJG",
    "outputId": "5d25cde7-710f-4dd1-b1a0-c6ab38d0ead4"
   },
   "outputs": [],
   "source": [
    "df_pred"
   ]
  },
  {
   "cell_type": "markdown",
   "metadata": {
    "id": "nPPPRXk8D9x7"
   },
   "source": [
    "Actual one"
   ]
  },
  {
   "cell_type": "markdown",
   "metadata": {
    "id": "FiOVHLNAD2Hk"
   },
   "source": [
    "![Capture.JPG](data:image/jpeg;base64,/9j/4AAQSkZJRgABAQEAYABgAAD/4RD6RXhpZgAATU0AKgAAAAgABAE7AAIAAAAQAAAISodpAAQAAAABAAAIWpydAAEAAAAgAAAQ0uocAAcAAAgMAAAAPgAAAAAc6gAAAAgAAAAAAAAAAAAAAAAAAAAAAAAAAAAAAAAAAAAAAAAAAAAAAAAAAAAAAAAAAAAAAAAAAAAAAAAAAAAAAAAAAAAAAAAAAAAAAAAAAAAAAAAAAAAAAAAAAAAAAAAAAAAAAAAAAAAAAAAAAAAAAAAAAAAAAAAAAAAAAAAAAAAAAAAAAAAAAAAAAAAAAAAAAAAAAAAAAAAAAAAAAAAAAAAAAAAAAAAAAAAAAAAAAAAAAAAAAAAAAAAAAAAAAAAAAAAAAAAAAAAAAAAAAAAAAAAAAAAAAAAAAAAAAAAAAAAAAAAAAAAAAAAAAAAAAAAAAAAAAAAAAAAAAAAAAAAAAAAAAAAAAAAAAAAAAAAAAAAAAAAAAAAAAAAAAAAAAAAAAAAAAAAAAAAAAAAAAAAAAAAAAAAAAAAAAAAAAAAAAAAAAAAAAAAAAAAAAAAAAAAAAAAAAAAAAAAAAAAAAAAAAAAAAAAAAAAAAAAAAAAAAAAAAAAAAAAAAAAAAAAAAAAAAAAAAAAAAAAAAAAAAAAAAAAAAAAAAAAAAAAAAAAAAAAAAAAAAAAAAAAAAAAAAAAAAAAAAAAAAAAAAAAAAAAAAAAAAAAAAAAAAAAAAAAAAAAAAAAAAAAAAAAAAAAAAAAAAAAAAAAAAAAAAAAAAAAAAAAAAAAAAAAAAAAAAAAAAAAAAAAAAAAAAAAAAAAAAAAAAAAAAAAAAAAAAAAAAAAAAAAAAAAAAAAAAAAAAAAAAAAAAAAAAAAAAAAAAAAAAAAAAAAAAAAAAAAAAAAAAAAAAAAAAAAAAAAAAAAAAAAAAAAAAAAAAAAAAAAAAAAAAAAAAAAAAAAAAAAAAAAAAAAAAAAAAAAAAAAAAAAAAAAAAAAAAAAAAAAAAAAAAAAAAAAAAAAAAAAAAAAAAAAAAAAAAAAAAAAAAAAAAAAAAAAAAAAAAAAAAAAAAAAAAAAAAAAAAAAAAAAAAAAAAAAAAAAAAAAAAAAAAAAAAAAAAAAAAAAAAAAAAAAAAAAAAAAAAAAAAAAAAAAAAAAAAAAAAAAAAAAAAAAAAAAAAAAAAAAAAAAAAAAAAAAAAAAAAAAAAAAAAAAAAAAAAAAAAAAAAAAAAAAAAAAAAAAAAAAAAAAAAAAAAAAAAAAAAAAAAAAAAAAAAAAAAAAAAAAAAAAAAAAAAAAAAAAAAAAAAAAAAAAAAAAAAAAAAAAAAAAAAAAAAAAAAAAAAAAAAAAAAAAAAAAAAAAAAAAAAAAAAAAAAAAAAAAAAAAAAAAAAAAAAAAAAAAAAAAAAAAAAAAAAAAAAAAAAAAAAAAAAAAAAAAAAAAAAAAAAAAAAAAAAAAAAAAAAAAAAAAAAAAAAAAAAAAAAAAAAAAAAAAAAAAAAAAAAAAAAAAAAAAAAAAAAAAAAAAAAAAAAAAAAAAAAAAAAAAAAAAAAAAAAAAAAAAAAAAAAAAAAAAAAAAAAAAAAAAAAAAAAAAAAAAAAAAAAAAAAAAAAAAAAAAAAAAAAAAAAAAAAAAAAAAAAAAAAAAAAAAAAAAAAAAAAAAAAAAAAAAAAAAAAAAAAAAAAAAAAAAAAAAAAAAAAAAAAAAAAAAAAAAAAAAAAAAAAAAAAAAAAAAAAAAAAAAAAAAAAAAAAAAAAAAAAAAAAAAAAAAAAAAAAAAAAAAAAAAAAAAAAAAAAAAAAAAAAAAAAAAAAAAAAAAAAAAAAAAAAAAAAAAAAAAAAAAAAAAAAAAAAAAAAAAAAAAAAAAAAAAAAAAAAAAAAAAAAAAAAAAAAAAAAAAAAAAAAAAAAAAAAAAAAAAAAAAAAAAAAAAAAAAAAAAAAAAAAAAAAAAAAAAAAAAAAAAAAAAAAAAAAAAAAAAAAAAAAAAAAAAAAAAAAAAAAAAAAAAAAAAAAAAAAAAAAAAAAAAAAAAAAAAAAAAAAAAAAAAAAAAAAAAAAAAAAAAAAAAAAAAAAAAAAAAAAAAAAAAAAAAAAAAAAAAAAAAAAAAAAAAAAAAAAAAAAAAAAAAAAAAAAAAAAAAAAAAAAAAAAAAAAAAAAAAAAAAAAAAAAAAAAAAAAAAAAAAAAAAAAAAAAAAAAAAAAAAAAAAAAAAAAAAAAAAAAAAAAAAAAAAAAAAAAAAAAAAAAAAAAAAAAAAAAAAAAAAAAAAAAAAAAAAAAAAAAAAAAAAAAAAAAAAAAAAAAAAAAAAAAAAAAAAAAAAAAAAAAAAAAAAAAAAAAAAAAAAAAAAAAAAAAAAAAAAAAAAAAAAAAAAAAAAAAAAAAAAAAAAAAAAAAAAAAAAAAAAAAAAAAAAAAAAAAAAAAAAAAAAAAAAAAAAAAAAAAAAAAAAAAAAAAAAAAAAAAAAAAAAAAAAAAAAAAAAAAAAAAAAAAAAAAAAAAAAAAAAAAAAAAAAAAAAAAAAAAAAAAAAAAAAAAAAAAAAAAAAAAAAAAAAAAAAAAAAAAAAAAAAAAAAAAAAAAAAAAAAAAAAAAAAAAAAAAAAAAAAAAAAAAAAAAAAAAAAAAAAAAAAAAAAAAAAAAAAAAAAAAAAAAAAAAAAAAAAAAAAAAAAAAAAAAAAAAAAAAAAAAAAAAAAAAAAAAAAAAAAAAAAAAAAAAAAAAAAAAAAAAAAAAAAAAAAAAAAAAAAAAAAAAAAAAAAAAAAAAAAAAAAAAAAAAAAAAAAAAAAAAAAAAAAAAAAAAAAAAAAAAAAAAAAAAAAAAAAAAAAAAAAAAAAAAAAAAAAAAAAAAAAAAAAAAAAAAAAAAAAAAAAAAERlZXBhY2hhbmRyYW4gUwAABZADAAIAAAAUAAAQqJAEAAIAAAAUAAAQvJKRAAIAAAADMzIAAJKSAAIAAAADMzIAAOocAAcAAAgMAAAInAAAAAAc6gAAAAgAAAAAAAAAAAAAAAAAAAAAAAAAAAAAAAAAAAAAAAAAAAAAAAAAAAAAAAAAAAAAAAAAAAAAAAAAAAAAAAAAAAAAAAAAAAAAAAAAAAAAAAAAAAAAAAAAAAAAAAAAAAAAAAAAAAAAAAAAAAAAAAAAAAAAAAAAAAAAAAAAAAAAAAAAAAAAAAAAAAAAAAAAAAAAAAAAAAAAAAAAAAAAAAAAAAAAAAAAAAAAAAAAAAAAAAAAAAAAAAAAAAAAAAAAAAAAAAAAAAAAAAAAAAAAAAAAAAAAAAAAAAAAAAAAAAAAAAAAAAAAAAAAAAAAAAAAAAAAAAAAAAAAAAAAAAAAAAAAAAAAAAAAAAAAAAAAAAAAAAAAAAAAAAAAAAAAAAAAAAAAAAAAAAAAAAAAAAAAAAAAAAAAAAAAAAAAAAAAAAAAAAAAAAAAAAAAAAAAAAAAAAAAAAAAAAAAAAAAAAAAAAAAAAAAAAAAAAAAAAAAAAAAAAAAAAAAAAAAAAAAAAAAAAAAAAAAAAAAAAAAAAAAAAAAAAAAAAAAAAAAAAAAAAAAAAAAAAAAAAAAAAAAAAAAAAAAAAAAAAAAAAAAAAAAAAAAAAAAAAAAAAAAAAAAAAAAAAAAAAAAAAAAAAAAAAAAAAAAAAAAAAAAAAAAAAAAAAAAAAAAAAAAAAAAAAAAAAAAAAAAAAAAAAAAAAAAAAAAAAAAAAAAAAAAAAAAAAAAAAAAAAAAAAAAAAAAAAAAAAAAAAAAAAAAAAAAAAAAAAAAAAAAAAAAAAAAAAAAAAAAAAAAAAAAAAAAAAAAAAAAAAAAAAAAAAAAAAAAAAAAAAAAAAAAAAAAAAAAAAAAAAAAAAAAAAAAAAAAAAAAAAAAAAAAAAAAAAAAAAAAAAAAAAAAAAAAAAAAAAAAAAAAAAAAAAAAAAAAAAAAAAAAAAAAAAAAAAAAAAAAAAAAAAAAAAAAAAAAAAAAAAAAAAAAAAAAAAAAAAAAAAAAAAAAAAAAAAAAAAAAAAAAAAAAAAAAAAAAAAAAAAAAAAAAAAAAAAAAAAAAAAAAAAAAAAAAAAAAAAAAAAAAAAAAAAAAAAAAAAAAAAAAAAAAAAAAAAAAAAAAAAAAAAAAAAAAAAAAAAAAAAAAAAAAAAAAAAAAAAAAAAAAAAAAAAAAAAAAAAAAAAAAAAAAAAAAAAAAAAAAAAAAAAAAAAAAAAAAAAAAAAAAAAAAAAAAAAAAAAAAAAAAAAAAAAAAAAAAAAAAAAAAAAAAAAAAAAAAAAAAAAAAAAAAAAAAAAAAAAAAAAAAAAAAAAAAAAAAAAAAAAAAAAAAAAAAAAAAAAAAAAAAAAAAAAAAAAAAAAAAAAAAAAAAAAAAAAAAAAAAAAAAAAAAAAAAAAAAAAAAAAAAAAAAAAAAAAAAAAAAAAAAAAAAAAAAAAAAAAAAAAAAAAAAAAAAAAAAAAAAAAAAAAAAAAAAAAAAAAAAAAAAAAAAAAAAAAAAAAAAAAAAAAAAAAAAAAAAAAAAAAAAAAAAAAAAAAAAAAAAAAAAAAAAAAAAAAAAAAAAAAAAAAAAAAAAAAAAAAAAAAAAAAAAAAAAAAAAAAAAAAAAAAAAAAAAAAAAAAAAAAAAAAAAAAAAAAAAAAAAAAAAAAAAAAAAAAAAAAAAAAAAAAAAAAAAAAAAAAAAAAAAAAAAAAAAAAAAAAAAAAAAAAAAAAAAAAAAAAAAAAAAAAAAAAAAAAAAAAAAAAAAAAAAAAAAAAAAAAAAAAAAAAAAAAAAAAAAAAAAAAAAAAAAAAAAAAAAAAAAAAAAAAAAAAAAAAAAAAAAAAAAAAAAAAAAAAAAAAAAAAAAAAAAAAAAAAAAAAAAAAAAAAAAAAAAAAAAAAAAAAAAAAAAAAAAAAAAAAAAAAAAAAAAAAAAAAAAAAAAAAAAAAAAAAAAAAAAAAAAAAAAAAAAAAAAAAAAAAAAAAAAAAAAAAAAAAAAAAAAAAAAAAAAAAAAAAAAAAAAAAAAAAAAAAAAAAAAAAAAAAAAAAAAAAAAAAAAAAAAAAAAAAAAAAAAAAAAAAAAAAAAAAAAAAAAAAAAAAAAAAAAAAAAAAAAAAAAAAAAAAAAAAAAAAAAAAAAAAAAAAAAAAAAAAAAAAAAAAAAAAAAAAAAAAAAAAAAAAAAAAAAAAAAAAAAAAAAAAAAAAAAAAAAAAAAAAAAAAAAAAAAAAAAAAAAAAAAAAAAAAAAAAAAAAAAAAAAAAAAAAAAAAAAAAAAAAAAAAAAAAAAAAAAAAAAAAAAAAAAAAAAAAAAAAAAAAAAAAAAAAAAAAAAAAAAAAAAAAAAAAAAAAAAAAAAAAAAAAAAAAAAAAAAAAAAAAAAAAAAAAAAAAAAAAAAAAAAAAAAAAAAAAAAAAAAAAAAAAAAAAAAAAAAAAAAAAAAAAAAAAAAAAAAAAAAAAAAAAAAAAAAAAAAAAAAAAAAAAAAAAAAAAAAAAAAAAAAAAAAAAAAAAAAAAAAAAAAAAAAAAAAAAAAAAAAAAAAAAAAAAAAAAAAAAAAAAAAAAAAAAAAAAAAAAAAAAAAAAAAAAAAAAAAAAAAAAAAAAAAAAAAAAAAAAAAAAAAAAAAAAAAAAAAAAAAAAAAAAAAAAAAAAAAAAAAAAAAAAAAAAAAAAAAAAAAAAAAAAAAAAAAAAAAAAAAAAAAAAAAAAAAAAAAAAAAAAAAAAAAAAAAAAAAAAAAAAAAAAAAAAAAAAAAAAAAAAAAAAAAAAAAAAAAAAAAAAAAADIwMjM6MDk6MjYgMTE6MjU6NDUAMjAyMzowOToyNiAxMToyNTo0NQAAAEQAZQBlAHAAYQBjAGgAYQBuAGQAcgBhAG4AIABTAAAA/+ELImh0dHA6Ly9ucy5hZG9iZS5jb20veGFwLzEuMC8APD94cGFja2V0IGJlZ2luPSfvu78nIGlkPSdXNU0wTXBDZWhpSHpyZVN6TlRjemtjOWQnPz4NCjx4OnhtcG1ldGEgeG1sbnM6eD0iYWRvYmU6bnM6bWV0YS8iPjxyZGY6UkRGIHhtbG5zOnJkZj0iaHR0cDovL3d3dy53My5vcmcvMTk5OS8wMi8yMi1yZGYtc3ludGF4LW5zIyI+PHJkZjpEZXNjcmlwdGlvbiByZGY6YWJvdXQ9InV1aWQ6ZmFmNWJkZDUtYmEzZC0xMWRhLWFkMzEtZDMzZDc1MTgyZjFiIiB4bWxuczpkYz0iaHR0cDovL3B1cmwub3JnL2RjL2VsZW1lbnRzLzEuMS8iLz48cmRmOkRlc2NyaXB0aW9uIHJkZjphYm91dD0idXVpZDpmYWY1YmRkNS1iYTNkLTExZGEtYWQzMS1kMzNkNzUxODJmMWIiIHhtbG5zOnhtcD0iaHR0cDovL25zLmFkb2JlLmNvbS94YXAvMS4wLyI+PHhtcDpDcmVhdGVEYXRlPjIwMjMtMDktMjZUMTE6MjU6NDUuMzIyPC94bXA6Q3JlYXRlRGF0ZT48L3JkZjpEZXNjcmlwdGlvbj48cmRmOkRlc2NyaXB0aW9uIHJkZjphYm91dD0idXVpZDpmYWY1YmRkNS1iYTNkLTExZGEtYWQzMS1kMzNkNzUxODJmMWIiIHhtbG5zOmRjPSJodHRwOi8vcHVybC5vcmcvZGMvZWxlbWVudHMvMS4xLyI+PGRjOmNyZWF0b3I+PHJkZjpTZXEgeG1sbnM6cmRmPSJodHRwOi8vd3d3LnczLm9yZy8xOTk5LzAyLzIyLXJkZi1zeW50YXgtbnMjIj48cmRmOmxpPkRlZXBhY2hhbmRyYW4gUzwvcmRmOmxpPjwvcmRmOlNlcT4NCgkJCTwvZGM6Y3JlYXRvcj48L3JkZjpEZXNjcmlwdGlvbj48L3JkZjpSREY+PC94OnhtcG1ldGE+DQogICAgICAgICAgICAgICAgICAgICAgICAgICAgICAgICAgICAgICAgICAgICAgICAgICAgICAgICAgICAgICAgICAgICAgICAgICAgICAgICAgICAgICAgICAgICAgICAgICAgCiAgICAgICAgICAgICAgICAgICAgICAgICAgICAgICAgICAgICAgICAgICAgICAgICAgICAgICAgICAgICAgICAgICAgICAgICAgICAgICAgICAgICAgICAgICAgICAgICAgICAKICAgICAgICAgICAgICAgICAgICAgICAgICAgICAgICAgICAgICAgICAgICAgICAgICAgICAgICAgICAgICAgICAgICAgICAgICAgICAgICAgICAgICAgICAgICAgICAgICAgIAogICAgICAgICAgICAgICAgICAgICAgICAgICAgICAgICAgICAgICAgICAgICAgICAgICAgICAgICAgICAgICAgICAgICAgICAgICAgICAgICAgICAgICAgICAgICAgICAgICAgCiAgICAgICAgICAgICAgICAgICAgICAgICAgICAgICAgICAgICAgICAgICAgICAgICAgICAgICAgICAgICAgICAgICAgICAgICAgICAgICAgICAgICAgICAgICAgICAgICAgICAKICAgICAgICAgICAgICAgICAgICAgICAgICAgICAgICAgICAgICAgICAgICAgICAgICAgICAgICAgICAgICAgICAgICAgICAgICAgICAgICAgICAgICAgICAgICAgICAgICAgIAogICAgICAgICAgICAgICAgICAgICAgICAgICAgICAgICAgICAgICAgICAgICAgICAgICAgICAgICAgICAgICAgICAgICAgICAgICAgICAgICAgICAgICAgICAgICAgICAgICAgCiAgICAgICAgICAgICAgICAgICAgICAgICAgICAgICAgICAgICAgICAgICAgICAgICAgICAgICAgICAgICAgICAgICAgICAgICAgICAgICAgICAgICAgICAgICAgICAgICAgICAKICAgICAgICAgICAgICAgICAgICAgICAgICAgICAgICAgICAgICAgICAgICAgICAgICAgICAgICAgICAgICAgICAgICAgICAgICAgICAgICAgICAgICAgICAgICAgICAgICAgIAogICAgICAgICAgICAgICAgICAgICAgICAgICAgICAgICAgICAgICAgICAgICAgICAgICAgICAgICAgICAgICAgICAgICAgICAgICAgICAgICAgICAgICAgICAgICAgICAgICAgCiAgICAgICAgICAgICAgICAgICAgICAgICAgICAgICAgICAgICAgICAgICAgICAgICAgICAgICAgICAgICAgICAgICAgICAgICAgICAgICAgICAgICAgICAgICAgICAgICAgICAKICAgICAgICAgICAgICAgICAgICAgICAgICAgICAgICAgICAgICAgICAgICAgICAgICAgICAgICAgICAgICAgICAgICAgICAgICAgICAgICAgICAgICAgICAgICAgICAgICAgIAogICAgICAgICAgICAgICAgICAgICAgICAgICAgICAgICAgICAgICAgICAgICAgICAgICAgICAgICAgICAgICAgICAgICAgICAgICAgICAgICAgICAgICAgICAgICAgICAgICAgCiAgICAgICAgICAgICAgICAgICAgICAgICAgICAgICAgICAgICAgICAgICAgICAgICAgICAgICAgICAgICAgICAgICAgICAgICAgICAgICAgICAgICAgICAgICAgICAgICAgICAKICAgICAgICAgICAgICAgICAgICAgICAgICAgICAgICAgICAgICAgICAgICAgICAgICAgICAgICAgICAgICAgICAgICAgICAgICAgICAgICAgICAgICAgICAgICAgICAgICAgIAogICAgICAgICAgICAgICAgICAgICAgICAgICAgICAgICAgICAgICAgICAgICAgICAgICAgICAgICAgICAgICAgICAgICAgICAgICAgICAgICAgICAgICAgICAgICAgICAgICAgCiAgICAgICAgICAgICAgICAgICAgICAgICAgICAgICAgICAgICAgICAgICAgICAgICAgICAgICAgICAgICAgICAgICAgICAgICAgICAgICAgICAgICAgICAgICAgICAgICAgICAKICAgICAgICAgICAgICAgICAgICAgICAgICAgICAgICAgICAgICAgICAgICAgICAgICAgICAgICAgICAgICAgICAgICAgICAgICAgICAgICAgICAgICAgICAgICAgICAgICAgIAogICAgICAgICAgICAgICAgICAgICAgICAgICAgICAgICAgICAgICAgICAgICAgICAgICAgICAgICAgICAgICAgICAgICAgICAgICAgICAgICAgICAgICAgICAgICAgICAgICAgCiAgICAgICAgICAgICAgICAgICAgICAgICAgICAgICAgICAgICAgICAgICAgICAgICAgICAgICAgICAgICAgICAgICAgICAgICAgICAgICAgICAgICAgICAgICAgICAgICAgICAKICAgICAgICAgICAgICAgICAgICAgICAgICAgIDw/eHBhY2tldCBlbmQ9J3cnPz7/2wBDAAcFBQYFBAcGBQYIBwcIChELCgkJChUPEAwRGBUaGRgVGBcbHichGx0lHRcYIi4iJSgpKywrGiAvMy8qMicqKyr/2wBDAQcICAoJChQLCxQqHBgcKioqKioqKioqKioqKioqKioqKioqKioqKioqKioqKioqKioqKioqKioqKioqKioqKir/wAARCAEkApQDASIAAhEBAxEB/8QAHwAAAQUBAQEBAQEAAAAAAAAAAAECAwQFBgcICQoL/8QAtRAAAgEDAwIEAwUFBAQAAAF9AQIDAAQRBRIhMUEGE1FhByJxFDKBkaEII0KxwRVS0fAkM2JyggkKFhcYGRolJicoKSo0NTY3ODk6Q0RFRkdISUpTVFVWV1hZWmNkZWZnaGlqc3R1dnd4eXqDhIWGh4iJipKTlJWWl5iZmqKjpKWmp6ipqrKztLW2t7i5usLDxMXGx8jJytLT1NXW19jZ2uHi4+Tl5ufo6erx8vP09fb3+Pn6/8QAHwEAAwEBAQEBAQEBAQAAAAAAAAECAwQFBgcICQoL/8QAtREAAgECBAQDBAcFBAQAAQJ3AAECAxEEBSExBhJBUQdhcRMiMoEIFEKRobHBCSMzUvAVYnLRChYkNOEl8RcYGRomJygpKjU2Nzg5OkNERUZHSElKU1RVVldYWVpjZGVmZ2hpanN0dXZ3eHl6goOEhYaHiImKkpOUlZaXmJmaoqOkpaanqKmqsrO0tba3uLm6wsPExcbHyMnK0tPU1dbX2Nna4uPk5ebn6Onq8vP09fb3+Pn6/9oADAMBAAIRAxEAPwD6RqJbcKoVZJAAMAZp8ciSrujbcMkZ9xTqAI/J/wCmsn50eT/01k/OpKKAI/J/6ayfnR5P/TWT86kooAj8n/prJ+dHk/8ATWT86kooAj8n/prJ+dHk/wDTWT86kooAj8n/AKayfnR5P/TWT86kooAj8n/prJ+dHk/9NZPzqSigCPyf+msn50eT/wBNZPzqSigCPyf+msn50eT/ANNZPzqSigCPyf8AprJ+dHk/9NZPzqSigCPyf+msn50eT/01k/OpKKAI/J/6ayfnR5P/AE1k/OpKKAI/J/6ayfnR5P8A01k/OpKKAI/J/wCmsn50eT/01k/OpKKAI/J/6ayfnR5P/TWT86kooAj8n/prJ+dHk/8ATWT86kooAj8n/prJ+dHk/wDTWT86kooAj8n/AKayfnR5P/TWT86kooAj8n/prJ+dHk/9NZPzqSigCPyf+msn50eT/wBNZPzqSigCPyf+msn50eT/ANNZPzqSigCPyf8AprJ+dHk/9NZPzqSigCPyf+msn50eT/01k/OpKKAI/J/6ayfnR5P/AE1k/OpKKAI/J/6ayfnR5P8A01k/OpKKAI/J/wCmsn50eT/01k/OpKKAI/J/6ayfnR5P/TWT86kooAj8n/prJ+dHk/8ATWT86kooAj8n/prJ+dHk/wDTWT86kooAj8n/AKayfnR5P/TWT86kooAj8n/prJ+dHk/9NZPzqSigCPyf+msn50eT/wBNZPzrmX+IejweIp9JvEubXyJZIWvJlQQb0iErDO7IwhByQB71oJ4y8Nv9zXdPP7ozZ+0L9wZy3XpwT9BR0uHWxreT/wBNZPzo8n/prJ+dY2meL9N1bRdS1WyLyWmnyyxu64PmeWoYleeQQeM4qjpPxG0DU4i1xM+lyb40WLUCiM5kQOm3DEHKnOAc+oo/r7w/r7jp/J/6ayfnR5P/AE1k/OucvPiJ4atBbuuqW1xDLc/ZpJoZlZYG2MwLnPAOwgY6mtaz8Q6PqF6tpY6na3Fw0QmWOOUMWQgEMMdRhgfxHrRuGxd8n/prJ+dHk/8ATWT86g1XUYdH0e81K6DtDZwPPIIwCxVVJOAcc4FYelfEHQtSG2ec6ZceeIBb37Ijs5VWAXDEHIdeh780AdH5P/TWT86PJ/6ayfnXO6p8Q/DOmaJLqf8Aa1rcxxhtkcEyl5WUAlVGeTgj8x6ip18aaIiv9uvYbJhPJCiTTIWkKY3EBWPHI64I7gUAbfk/9NZPzo8n/prJ+dYth438N6ja2c8GsWqi8jMsKyyhGZRnJIPT7p6+h9Kk0LxXpniObUF0mUXEVjIsbTowZJCyB/lIPbOPrRsBreT/ANNZPzo8n/prJ+dc1pHxC0PVdKj1GaU6ZbzSBIDfyRIZTjsFdsfjitKXxZ4fgN2JtZskNmwW4BnX92ScAHnrnj68UbAafk/9NZPzo8n/AKayfnXKaD8S9A168W1Sf7JLKqNALl0Xz9zOoCYJz9w/mK1h4w8OtEsg1qy2NL5Ibzhjfxx+o/MetAGr5P8A01k/Ojyf+msn51g3/jrQdPvo7Vr6GVzcm3nMcikWzBHcmQ54ACN9K34Zo7iBJoXDxyKGRh0YHkGjpcNnYTyf+msn50scYjLEFmLdSTT6KACiiigBqKUXDOz8k5bH5cU6iq32CH+/cf8AgTJ/8VQBZoqt9gh/v3H/AIEyf/FUfYIf79x/4Eyf/FUAWaKrfYIf79x/4Eyf/FUfYIf79x/4Eyf/ABVAFmiq32CH+/cf+BMn/wAVR9gh/v3H/gTJ/wDFUAWaKrfYIf79x/4Eyf8AxVH2CH+/cf8AgTJ/8VQBZoqt9gh/v3H/AIEyf/FUfYIf79x/4Eyf/FUAWaKrfYIf79x/4Eyf/FUfYIf79x/4Eyf/ABVAFmiq32CH+/cf+BMn/wAVR9gh/v3H/gTJ/wDFUAWaKrfYIf79x/4Eyf8AxVH2CH+/cf8AgTJ/8VQBZoqt9gh/v3H/AIEyf/FUfYIf79x/4Eyf/FUAWaKrfYIf79x/4Eyf/FUfYIf79x/4Eyf/ABVAFmiq32CH+/cf+BMn/wAVR9gh/v3H/gTJ/wDFUAWaKrfYIf79x/4Eyf8AxVH2CH+/cf8AgTJ/8VQBZoqt9gh/v3H/AIEyf/FUfYIf79x/4Eyf/FUAWaKrfYIf79x/4Eyf/FUfYIf79x/4Eyf/ABVAFmiq32CH+/cf+BMn/wAVR9gh/v3H/gTJ/wDFUAWaKrfYIf79x/4Eyf8AxVH2CH+/cf8AgTJ/8VQBZoqt9gh/v3H/AIEyf/FUfYIf79x/4Eyf/FUAWaKrfYIf79x/4Eyf/FUfYIf79x/4Eyf/ABVAFmiq32CH+/cf+BMn/wAVR9gh/v3H/gTJ/wDFUAWaKrfYIf79x/4Eyf8AxVH2CH+/cf8AgTJ/8VQBZoqt9gh/v3H/AIEyf/FUfYIf79x/4Eyf/FUAWaKrfYIf79x/4Eyf/FUfYIf79x/4Eyf/ABVAFmiq32CH+/cf+BMn/wAVR9gh/v3H/gTJ/wDFUAWaKrfYIf79x/4Eyf8AxVH2CH+/cf8AgTJ/8VQBZoqt9gh/v3H/AIEyf/FUfYIf79x/4Eyf/FUAWaKrfYIf79x/4Eyf/FUfYIf79x/4Eyf/ABVAFmiq32CH+/cf+BMn/wAVR9gh/v3H/gTJ/wDFUAWaKrfYIf79x/4Eyf8AxVH2CH+/cf8AgTJ/8VQBZoqt9gh/v3H/AIEyf/FUfYIf79x/4Eyf/FUAWaKrfYIf79x/4Eyf/FUfYIf79x/4Eyf/ABVAGHN4C0S4bXJJISbnWw63F1sTzo1aMIVR9uQuFzg55JrP1L4W6JqeoXF3NNdIbiFY2RPLwrLGI1dSUJVtoHQ4Pp1rrPsEP9+4/wDAmT/4qj7BD/fuP/AmT/4qgd9bmJZ+FG0/Tb7TYbuS6g1OSWW8nuWUTFpFCsV2IFHA4460W3gPQ7ODSobO3+zx6XuKLCiJ5zNEY2aTCjLEHORg5rb+wQ/37j/wJk/+Ko+wQ/37j/wJk/8AiqOlhf195x8fwq02EQNFq+qpPa+WttOGh3Qxxo6IgBjwQBI3JBJ45q3oPw30rw9rVvqVnd30j2sJhhimdGVFKKpGdu7+AHGcAk4HNdL9gh/v3H/gTJ/8VR9gh/v3H/gTJ/8AFUX1uA3VtNh1jRrzTblnWG8geCRoyAwVlIJGQRnn0rH/AOEE0JEsI7e2FtDYwzRJFbqkayCVAjswC8tgdRjmtr7BD/fuP/AmT/4qj7BD/fuP/AmT/wCKpWWo7nEj4P6MlibaPUtSi3QvbSSx+QrywsEGxv3eDjy1+bG73xWra+ALGw1ptUsb+/gnleUzgNGyzJIwZoyChwMrwRhuvNdD9gh/v3H/AIEyf/FUfYIf79x/4Eyf/FUxHF/8Ki0N0gS4u76dIrUWhWTyjvjXds52ZBUOQCuD0zmtnRfC0nhz7R/Z97LeveMhuJL8ruwiLGoURoo+6o6itv7BD/fuP/AmT/4qj7BD/fuP/AmT/wCKo7+YHJS/Cnw++l6ZZRedCunh1EipEWnDY3CQFCrZ2jnGeKB8LdIjubi4t7y9gmkuhdQyIIi1u/mGT5SUJI3E8NuFdb9gh/v3H/gTJ/8AFUfYIf79x/4Eyf8AxVHW4dLHH2vwp0mzkhMep6oY42jdomkjxI0bO6MSIwwIaQngjtVY/BzRmt2ik1XVnWRg0uXh/eEKqgkeXjd8g+b73J55Ndz9gh/v3H/gTJ/8VR9gh/v3H/gTJ/8AFULQNzlL74YaTqNk9jd3+oPY/a5LyK2DxhYZHD7trbNxGZCeScEDtwewt4jBbRRNK8xjQKZJMbnwOpwAMn2AqL7BD/fuP/AmT/4qnw2scDlkaUkjHzzO4/Ik0bKwPV3JqKKKACiiigAooooAKKKKACiiigAooooAKKKKACiiigAooooAKKKKACiiigAooooAKKKKACiiigAooooAKKKKACiiigAooooAKKKKACiiigAooooAKKKKACiiigAooooAKKKKACiiigAooooAKKKKACoL7zP7PuPJ3eZ5TbNvXODjHvU9FKSurDTs7nli+LfFdt4U0SPT9O1F7uOxxdtfaTcvJNdKqYiOQpAbLZkOV461LqPivx9brdLHoqqLW4EDziylkDhmciRAuSyhBGDjPLH0xXp1FU9XcS0VjhfEt74m+y+G5bVpYPtMbrqMVraSSYkaAlR/eQb+ASBgkE9MVzdnq3jq0sNOhuLKeaW0t1ZLiW0uQMtZk4lCElyJAFOQeT0Br16il38w7eRwWo+IfEp8D6TdQWVxDd3jtHeOdOkkkgG18HyUO4bmCjPYNkgdsGx1/wAf6f4Tib7BI32cWtti4sJnmAaBWkmbnc+HyhwvBJz0r1uijq33Dt5Hl194x8cQfawmmbnjhgdPJ0u5dclVMiAkAl87scbcYyQa9MtpHltIZJVZHdFZlZcEEjkEc4NS0U+gdbhRRRSAKpayboaHfHT932v7PJ5O3rv2nbj3zV2ik9hrRnGbrk6JdLby6kIUvFkhW4+0iSWHYgZd4UyL8+4+vH901b8PWeoG+tJtRa9SSCwj88STymOWZxg/KTtyoXnA6vXUUU/6/QQUUUUAFFFFAHCXkviLT9b1K+tYLqaPfKtuhaWVGO2MjMfRVHzkFRliCOpANhNc8RC2Zpoh5qw74hFYzOs2XYEkkAgqoU7cAsenUV2dFHRIOpxx1XxNKMWqZjV8LNJYODMplRclSQVwrMffbngU9b/xRLMkYVYlWRIndrJjvBllQuPmwMKkbenzehFddRR0QdzhrbX/ABbP55ksI4WS2UrG1rNkuUQ7hxg/MWG3dnj2OZbjUfED3kdnOkyLHeQhZIbKT/SVFyAxLDhAIwCc8EE9uK7SigexwJ13xTcabL9qtzbGRXGYLGeSSJ9hxHjA6nGHBI688g12uneYNLtfP3eb5Kb9/wB7O0ZznvVmijuJ6hRRRQAUUUUAFFFFABRRRQAUUUUAFFFFABRRRQAUUUUAFFFFABRRRQAUUUUAFFFFABRRRQAUUUUAFFFFABRRRQAUUUUAFFFFABRRRQBmeIdetPDWiy6nfpNJHGVURwKGkkZmChVBIySTWdD490GXWLfT5LtIHurWG6tpJnVVmEpYKq853fL+oq74g8NWPiVbOPVGnaC1n88QxybFkbaQNxHPGcjBHNc/D8K9Jga3Eeo6n9ngWJPs7SRlHSKVpY1J2bsKzdiOAAc0Lz/pf8OD20/r+kbjeM/DSQxzPrtgsUshiRzOoDMMZAPfGRz05FM07xlo1/FOz3Udq0M7wtHO6q3yymINjPRnGBWEPhNpIt2hXU9SQSCWOXY0Sq0Uu3fEFEe1FOwH5QDnPPNSt8LdI+0iWK+1GJfM8x40ePbJ+/8APAOUJwH9CDjqTQt1cHtoa1j468NagF+z6vbBnuHtkSSQKzurbSAD7kYPfI9afonjHR9dsILiC6jhkncRi3ldRIGO7apAPUhSR7Csc/C7SDqyX7Xd47JcSTCJxEyYeTzSmChON+SDncM9emG6N8Po9I8XWl/ER9h0+zMNvul3yTSFmO9wFVQVEjqMZyG7ULZXB9bfI6M+JtEExiOrWYkBIKGZc5EgjIx/vkL9TioB408NNay3K67p5hhkETyC4XCsckDr3wceuDWVN8MdBuPET6xK12Z5Ln7Q0fmL5ZPdcbc7d3z4zndzntTbH4Z6VZPbOb2/uGtXgMBleP5EhDiOPhBlRvbk/MeOaWtgfkaF1460CC/02zh1CC6m1F0WNYJVbajIzCRufu4Xr7ipf+E28M+WjjXbBhIzKmJ1O8qASBzzwwP0INYdt8J9FtfJRL7UjbRlGa3aSPbIyxNEGY7N2djEcEDviregfDfSfD13Bc21xdSzQRSQq0giGVcIvO1BkgRgAnnk5z2ff+v6/r0DqizofjzRdb0aPUUuY7ZZNpSGaVPMIZiqZAJwWKkAdcjFaOm+ILLUfC9vrzP9ksprcXBa4YL5aYz8xzgfnXPj4YaSrWIjv9RSOzht4vLDx4lEDl4y2UznLHOMZzWraeEbez8Ly6At9dTWLW628azpE/lIFwcAphs9TuB/Ch7O3yBbq+xR1L4j6Rpz/Ikt3GQCstu8bBgY5JOm7cOImHIHJGM840rTxjoN3aiYapaxnyRLJG8qhox8uQ3PUF1B9yKwl+FGjCFUkv8AU5SEVN7zISQI5UH8HpM3HQYXsMGufhhb213otrYSMdK0+6a6fz5syc4PkqoQAozqrnLcEYAx0atdpid7Kx2F1r+k2V99jvNRtoLnyzL5UkgDbACSfyBP0BrLv/iB4ZsdEn1QaxZ3EMIcBYZ1LSOq7ti88nGPzFQa18PtO17Xm1W9vb4SGNo1iR02IGieM7coWHDk4BxnBxVO7+FekXLSPHqGpW7ywmB2iePJjMKQsvzIRysanPXOcEdKnWz/AK/r+vQrS6OlbX9MiFkLq8htpb5A8EUrgMwwD09sjmq8fjHw5LHvj1ywZecETrzgqD3/ANpf++h61U1jwPp+tyaabq4uo10+MxIsJRTIpGCGfbuwQOQCAe4rJg+E2jQQ2aLfagWsphPBIDCrLIu0KxxGNxATHzZ4J9sVpd9idbI6201vTL7/AI87+3n/AHXnHy5AcJkru+mVI/A1Qbxt4YSFJX16wVJGKKWnUZYYyPw3L+YrP8MeD30qDXHvGWCfV55G22kxYW0ZyQqOVBzud26DBb2qhB8I9Dht7iJr3UZDcRSxSOzRAkSLGrHiMDOIl59SSc5pLfUf+Z0Fv4u0m88Vf2BY3CXN2sMksphdWWLYyqVbByDl/wBDSzeM/DduszT65YoIJfJkLTrhX5+X68H6YPpVTRPAtjoWt/2ja3t7KVSdIreVkMcQmkEj4wgY/MM8k9apv8NrP7JHbQ6xqcMdvJM1qEMJ+zrKGEiAmM5Dbzy2SOMEUtbLv/wf8g6v+un+Zq3HjfwvaTPDc+INOjkTlla5XI6e/owP0NVIPiH4elu9TjuL6G0h064W2a4nmRVlkKliFGc4GOpA6H0NU/8AhVmhC1e3jmvUiZZkCiRPlEsKQtjK9lQYz3znPSpbn4cabMjGC/v7aZp5JvOjaMsPMiETqAyEYKqO2QeQaYLzL19488M6c+yfWbUv50cLJHIHKs/3c46Dvn0pupePNA01VZ7+GZftaWkxjkU+QzBsF8ngfKfyqvF8PNKtdHfTrG4vLdDexXqSKyM0ckQQKBlSCMIOCD1NUo/hZpsU8tzFq+qrdPPHcC43Ql1eMyFesZ3f6w/eyTgc8Uf1+X/BDp/Xn/wDVh8d6BLJel9QhhtrUwgXckqiKbzE3rsOeeAfyNdEjrJGrxsHRgCrKcgj1FcIfhFoIsRbxXN8m2SOQSFo3IKxsh4ZCDuDHOR1PGK7e1t47OzhtoBtjhjWNBgDAAwOnHanpqHYlooopAFQ3l1FY2M93cErFBG0jkDOFAyamqC9tIr+wns7gExXEbRuAcHDDB/nSew1uZo8SQ/YzK1ldrOLkWv2VhH5nmFQwGd+z7pBzu/XimaX4tsNXuoYrWOcJMD5czhQrMEVymA2chWHbHXmnHw2jWNzbTX08/2pxJM80UL7mAUA7Sm3oqjp2z15osPC2n6dqMF3ADut4BBCpRBtUKFyWChmOB3J6mmvMRtUUUUAFFFFAGKPFNiNWuLGdJbcQb91xKUEZ2BS3RtwwHHJAFWP+Eh0jarf2jb4ZDJkuOFGQSfTlSOe4PpVG98F6ZfS3crmWOW7ZmmePblwQuFOVOQCisAc8j0JBRPBtpFBJFBdTwpMgWVYUiQOysWV8BMAhmzxwcDIPOTog6l1/E2ixxxvJqlsiyZ2lpAOhwfpyQOe5AofxNokYj36pbDzVDIPMGWBJA4+qsMeoIqsvhS08x5Zrm5mmlYPJIxQF2EiODgKAOY1HHb35p8XheyhnMqyTljMs2Cy4ysskg7dMyt+AH4nRB3LH/CQ6P8AN/xM7XCxecT5owEwDuz6YIP0I9ajm8T6TEtuUvIpWuZUijSNgWJaQR9O2GPP0NZ1t4B0q180RvMRJGEJZIywwqrkPs3chRxnHXirLeErU38l1HeXcfnTJNNGpTbIUl81QcrkAMT0I4NA9CxceKNGt7Sa4bULdliJBCyAkkAnA/AHnpwfStK2nW5tYp0BCyoHAPUAjNc3B4D0+0gEdndXFuwRohJFHCH8srt2E7Pm69Tk+/XPSW8C21rFBGSViQIpbqQBijv/AF6iZJRRRQAUUUUAFFFFABRTJsi3k2AltpwB64rzq81DxNZeDPDV3ZaZdy6ilpM88LJcOUkFu5UOu7LZfAw+Tk8c0r6NjSuekUV5JrGq+PZY7wR2txHdWsFyIrq2splVxiBlxHuKlvmkUE5PynHerD+JvF2n3hWx0u8uVm1AMZJLC4KzQ7YASuSfK+85xgKNp7gg0ldpE30uep0V41a6z4s8MJd6tdW19NbQIokivEk+cNdXCjZuIG7DRH/dx7V1fifXfF2kWWlrY2az3Mlo0lw0NjJOslyNuIcKf3atlvnbgYpLVXG9HY7qivMdb1/xv9gvgLR4Iprq4tojBpk0skSJGxQ/K2TvYhQ4AAxnvxUsfFHj+Cxmtl0ht9raQrEs9lO8jt+6G8t0cndJlcgjHsaFqD0ses0V5jfeKvHdnqmoWo01JIbVkjE6abO+U3RgzqFyH4aRtgbIwBzg5kjuPFNv8KY7mGW+j1MakzytJZSPKYDdHJER+cDYQccnaMD1oWquD00PSqK8mi1zx3otvfCDT7i+hkmuZImmspmeAfawoPXLDy2LKoA4UYyAa1tc8XeItO8O+HpPLjh1HUfNWcR6fNOcrGzLti4cEkDOemT2FL7PMPrY9Doryu88TfEK8TUraPS/7PlTTTJHss5XbzPJVso/KE7yybScjA4OOYRrHjS3S3vbSG8lU30u+N7Gf/Sh9lUx5ViTGrSZXjCg9ehy9hb2/rpc9aorg7PxF4ql+HF7qk9rGurRy4gjNjcLlfkzmLbuzy4BAI4BJ61lyeJviBPl7TTjBGVIVZ9KkL5FqJcnD45kzHj1OOSMUPS/kC1PUKK8mv8AxJ401e8+xjSL63tt9s5aKymjeNlmg3jf0KlWfvnCnIGDWxBc6vZeA9NF/JeW0kuteVcyyllkSFrpscnkAjYufRuKdvzt+X+Yr/1+J6DRXmVj4i+IM9zafaLGOOKZrfzFOlygxiSZ43BJf+BVVycdCOgq9pfivxPqPgnWtVFhEb2xPkQW8ULN5ssYAmIAOWG7cFA5+XvS6XKtrY7+ivNpfF/i6S8gNppM32eW8uI0RtMnWQxjHlOd2AqnnJJB6YHWqN3488anTGlstBuvPCQlFfSZ8O/k7pUI6j58qDjHv3oWquLrY9Xorzsap4m0jwDd3dtbXMmonVp9sVxbTTSGEzMQEUDP3cbScL056VW/4SHxVa615NvYXkcdzqTFzNplzMoh8qMghwxEZLEqAPlHJOMHJ/X5f5h/X5nptFeZ+HfEnijUtY0dtchNnNNdvE9qsEsOYvIZn3K/DbHWMBxn72M88watrXjPSPFevLolldXsUkzPDDNYzPHsW1BDJLkL/rAF2DkkmjZ/15f5hv8A1/XY9Torzqw8QeKdS8W6ZJLDdWekNdzQsjaZKvmJ5UbIz7uVBYuAxAHFT6yfEEvhHxkthHeW94Lt1smRZXeSPZHzGC2efmAKYAOeM5o1/r5f5gtf69f8jvqK8uuvEfjbSZrmxsNLa5WxieONP7PmYGOONSkolLEOXbcNgJYfUZMtx4t8bzzXEunaRIttE8rxCbS5g86LNGqLgkEEozHp/D04NNatJC6XPTKK8+0DUfEup/EZ21SC6trSG3u4hF9jljhjImQRkyE7ZWZBuBHTJFYFrqPj2C4hvcXl3cWsVwk8UunShJP9KQKoAIBPlksGGflyOxNJa28/+CN6X8j2CivPPCmt+Jv+EitNN1HT7iOwkW4Z2e2nLIwlk2l5JDgKVC7QCevQDGM658R+N9MOoRLFNcst/dCOQ6RNL8qgGCNQh5V8kb+i45PNK/8AXzsO2tj1SivO/G2peJ7DUdHv9Gt7oTf2fOZbeK0luYmnPlFY2CEBSTuAY9Bmr/hTX/FOp6vq0Wt6WlrFbh/Ii8iRDuDkKBIRtcMuDkHin/wfwEdrRXl1n418ahY5b3R5pISyCcppM6NC7RykxBckuFdYx5gGPmpLHXPHst+UkjeOS8exwkulSmO1SSImVs7h91+CCcg9cU93YHoepUV5cfGvjItel9Kmt7VbuJUuZNKmZoYiZQ+YwfnI2JypIAfOfSvpPjzx1qUCXMOiwyxvppuIgtpLtuH8osCrjKj58LsJBx7kVN9L/wBdx21ses0V5a/jXxrBaysukT3iFJ1tZ10idGmkURFN0XLIMtKMnAOzj3juda8bahq6tDaTRPZXdyYnFnNHbOvkSFA+7BYZCgkgDceCab0V2Janq1FcIPFXiC9+Gr+IrC1QXVzLvtLf7NJKwg3YGVTJLFQSDwORmsq68T/EFlnls9N2Rqsxjil0qUudkMci5w+MuzMnHcHGSKNm0+gLW3meoUV5Vf8AiHxhq93eWa6XfW9qk9u8Tx2U0Trtuow67ujKULNwegJOORXR+F7/AFOD4dlJ4rv+2LS1eQi+tpjlyXKA/LufoMhcnGPUUbR5gWrsdlRXmVj4v8az3WmLNpMyCUxB0k0yUefumZZTvziIIgDDcMtnp2q9r3iTxba+J7+x0mwM1sggFvKunyyIu6SNXLt8oYgMx+UkYHJGDT62Ed/RXlp8V+Pba0k+1aa0kkkeIpIdJmxG4naP5gGJIZVDcA43DgjmjQ7jxVqHjjTb7UrTUrWCd4ZLiIxyrDGTZNuGDwAJOMH+LHektVcb0dj1KivMbjW/GtjqGoppumSm3iuZ5l860nmM6ieNVVCW+UFGZhjjCnAq94rl8Q2PjOXUrAXc9pa6WPIiitZJU855djEhWAYhTuPBIA4FK+iff/IfVrt/megUV5UfE/jrUdFvEktJtLvl015LZY9Jmc3Mo35IY8Rn5VwrDJ3DrkCtjxBe+IvsPhqXT7i5MVxG63xi0+Tc7GE7dy/ejy3HPQkE9MUPRN/11/yBK7S/rp/md7RXkMXifx9o3hqG2/su5vLuKCBopG0yZy/7gM0bkEnduG3d65ztrbS98TSeDPFf2xbq51CG6lFnCtrLCxjyCgRkILDH905Hc1TVm12/4H+ZK1Sfc9Dorj/EWu+ILDXUttMs2a3Fg08WLKSYXVwM4hLqcRcAHLdc+1YMXjPxlFY+dLpU1zHvkRZU0meN2b7OXUeVywAl+Td0P61N9G/67D7Hp1FeLanq3jkaPq0CWepQtftNIsiWM8rh/Jh2xR7TmIEmQhugKkdc17NDnyE3Z3bRnP0qraCvqPooopDCiimTzR21vJPO4jijUu7t0UAZJoAfRWYviHTWsTdiWXyxKIdn2eTzN+M7fL2784IPTpz0pbLxBpmoXSwWdyZXddynynCt8obAYjBOGBxnI9KANKiiigAooooAKKz4tc0+bVJNPSZvtEZYMGidVJUAkByNpIDA4BNXPtEJ2Ymj/eDKfMPmHqPWgCSiovtMG1G86Pa/3TvGG+nrQbq3VQxnjAZdwJccj1+lAEtFM86Ldt8xMhd2Nw6ev0qGfULW3iiklnTbM6xxkHO5mYKMY68kUAWaKgmvba3t5J5ZkWOLO87uhHb6+1SQypPBHNEcpIoZTjGQRkUAPooooAKKKKACiiigAooooAKKKKAK93p9nfmE31pBcmCQSxedGH8tx0Zc9CPWrFFFABRRRQAUUUUAFRS2tvPNDNNBHJLAS0TugLRkjBKntkHHFS0UAFFFFABRRRQAUjosilZFDKeoYZBpaKAGuiyxtHIodGBVlYZBB7Go7OzttPtI7Wwt4ra3iGI4YUCIg9ABwKmooAKKKKACiiigBNilw5UbgMBscgUtFFABRRRQAUUUUAFFFFABRRRQAUUUUAFFFFAFXUdLsNXtfs2q2Vvewbg3lXESyLkdDgjFWIoo4YkihRY40UKqIMBQOgA7CnUUAFQ3dpb39pJa30EdxbyrtkilQMrj0IPBqaigBsUUcMSRQoscaKFVEGAoHQAdhTqKKACiiigAooooAKKKKACiiigCpquqWui6TcalqLmO1tk3ysFLED6Dk1z5+JPhtVBe4uVId1lU2coaAKwUtINvyLlgMn1rodT0201jTZ9P1GLzrW4XZLHuK7h6ZBBH4VjXPgDw3d3Lzzae3mSSNJLtuZVEpYhiHAbDLlVO08cdKFvrsD20Cx8a2F5peq6g1texW+l3L28xa2Ys2w4LAAZI7n0HWqUPxI0dzJI/nGFniS2WK3meaUyRGQZj2Aj5VJGCeOuK1Z/B+i3On6lYzW8ptdUmM91Et1KodzgkjDDbkjkLgHvWZqXw50m9ktTDJdW4juUnuG+1TPLOFieNV8wvuXAfqD2xS1t93/BHpf7/APgDta+IGnaTpVjqkKm8sry0lu4zGH8x0RA3yrtx353Fce9aF34u0rT7G1udQeW3W5tZLtEeFtwjjUM+RjIIBHHWnXHhDQrqwtbKawU29nbSWsEYkYBInXYy8HnIGMnmmal4N0TWLC0s9St5p4rOJoYibqVX2Mu1lZwwZgQBnJOab62/rf8A4Al0v8/w/wCCZd/8TNFt7W/azE9zcWkM0ixtC8STNEAXRZCuMgEHvXXxtvjVsY3AHHpXJ6Z8OdIsbi/nuGmuJbqWdkInljEEcuMqgD4BwAC4wTXWqAqgDoBjk5p6WFqLRRRSGFVtSsl1LSrqxdyi3MLxFh1UMCM/rVmigDn28PXctlcpcXdtJPcTrcGQQSIEkCqgK7ZAw+VB/F1J5wcVHpPg+DSdRtZ4pQY7SHZGihgXfYELtliucDsoPTJOK6SihaAFFFFABRRRQBymo+B0vri+njvmikvWfzNyFlCME+UDcMcoMkYyCQexEaeBfLt5YYri2CzRBX327SFWDs/ylpCQpL/MpPIz0zx19FHSwbnJnwLDMzPdy27s7hyiWoEafvUkIVSxwDswfck+1PTwNaC4EkrwyhZUdFa2HyKs0sm0c9P3u3/gPvgdTRR0S7B38zibb4cxQLMkl4swkgEIdonyo2IhGN+0rhOmO/XirZ8EhdR8+G5t1iNwk3ltaZMQSfzsRncNuScE4PY4rq6KAOIh+HYt7Uxx3lu7lWjZp7d5VdSpXcVaTG8bjyMdTxzx2NpB9lsoLfdu8qNU3YxnAxmpqKACiiigAooooAKKKKACoprqC3aJbieOJpn8uIO4Xe2Cdoz1OAeB6VLWJ4i0a41a80OW2eJV0/UVu5RISCyCN1wuAecsOuO9HVB0Zqw3ltczTw288cklu4SZFYExsQCAR2OCD+NTV5vr/gXxHeaxqd3pd9CkN7cNKsQvZrcqxgjjSQlF5KMjEL0Oeopt14E8WvDqKReI2dTs+xg3MiFgzq8wcgHbnaVUjOASOKS2Gei3NzBZWstzdypDBCpeSSRsKijkknsKkR1kRXQhlYZBHQiuPXQ9bu/AGpeGrxR55sTbQXlxdeb5zOpzkhQ2FJC5IycdPXFXwH4oa6vt2teSskUwinjvpiXY7TCpjxtjWMr1UkkHpyafVoXRHpdQyXltDdQ20s8aT3AYxRMwDSbRlsDvgGvO4PB/jCz1uz1W41Vr7yUM89tFfOimYs7NGqspVkbcqjO3AUVr+LvDWueJE0y6025h0y8gtZ1kzM26N5EUbVZR0yCC3BGcijoHWx2dIzBVLMQABkk9q84s/A3ieO6tXbWPs1o9wxurRb6abyoA6SIkbsAWOVYEnHyuR2qzongrXYvDHiDTde1M3c+pQmKKU3cjruw434KgpncuQCR8v5p35bjWrsztRqlgftOLyD/RFD3B8wfulK7gW9Bjn6VMLiFrUXKyoYCnmCUMNpXGd2emMc5ry6H4a+IYd1xZ30NlctFFERHfzsu1bV4mB+Xn5yjAkZAHbGK1tL0PX/Dltrt3ql1JdxS2SrCIZprqbzAmPlUIMLnGAATnPNOWl/IUdbeZ3dvcQ3dtHcWsqTQyqHjkjYMrqRkEEdRUleUW3gzxzc6PFGNVW3ElsH3TX0yypI1kIthUKQMSDdnPfOM0zXPBHijS9K1G803U7udwlwEhhvriWRkdIwiqpz8wkDtkc4PXsG9G0C1S8z1qoJ721tZoYrm4iiknJESO4UuQMnAPXABP0rzeLwN4t8y1ddSWBFuZpDC2pzypBG4UBRlQzsCCQSQBuIwRTD4B8X6hbGHVtVgEbW/kPGl9M4bFq0W4/KOrkOR9ep6y78rYLVnps93b21m93cTxxW0aGR5nYBVUDOSemMd6aL21Z40FzCWlO2NRIMudu7A9Tjn6c1zcGi61/wAK9uNBC21ldLp4traaO8kkw/l4LFigZcN0xnj8qybbwHf22leI4AYzdahcC4s7pL11kjLIFb5mRvLP3hlc7g2DinLRu3QFql5ncX2pWWmRxyahdRWyyyLFGZXC73PRR6k+lWa4q68G6jqOleFor+4hF1pM/m3LxTyqrfu2X5T1Y7ivXHAPrisS38B+L7hLeLVtXjEMSQxyLBqM+ZRHFKhYkKpBZnjYjP8ADyTgZHpcFrb0PTZ54ra3knuJEiijUu8jsAqqOSST0FULLxFo2pSxxWGqWlxJJ9xI5gWb5Q3A6/dYH6EVgvoetav8NL7w7qyxpffYxZx3TXLMtwwiX96SBuAL54IyQORziufu/hx4iSW9/sfVIbSOdWCYu5g2fs8USknaSSGRjnJ4Io6tAtUj04SIZCgZS6gErnkA9KdXlviHwlqeg3uoat4fN1JPNHaLYiK4uJpGmjYgpIvIMbKTl2OB+NdKdK12XwBLo8IEV/FtgjnubtibhFK7pC6glS3zYHOOM9xR0YdUdbUCXtrJcTwJcRtNbBTMgcZjDDILDtkA15rZ/D/xhFHBJN4hxdQGFY5BfTOFRTKHyu0BiQ8fUc7T076fhXwRqum6drsOryQmXVLWKEGO9mmJdY2VnZ3UMNxO7AzjNJ7NroNbpHYxaxps+kHVYb6B9PCM5uhIPL2qSCd3TAweauI6yIroQysMgjoRXk3/AArXxStoLGLUbVLNdKaxKfbZmV2a328qVPAl+bII4xhc1Y/4QbxnDp8iWOpwQtILiNbdtTuGSBZIURXEhQsSHUtjAxu4NN7sS1semW15bXglNrPHMIZGik2MDscdVPoR6VNXlsnw98VJLIbXVYUEtzLMpS9mi+zu8iMJsKuJG2qy7W4568mi78D+Nri2lh/taIhEZISNSmXzD57SBpB5Z42sFKg9B94Udg7npsV1BcSSpBPHK8L7JVRwTG2AcNjocEHB9alrj5PDGrL4e8RW1jdR2eoanIJIriOZsBvKjQnO3cmdhHViM5z2rGsfAnimCW0zr8kMBRnuIzeSTMkq+YYghKrlcyLkHH3AOaGHQ9JpGdUQu7BVUZJJwAK830PwLr9odPfX9Wnmt7WSWW5ii1GeQyHy0ClcKpPzKWKnPJ75IpdE8M6xrXw31uz1a6uWudRja2szeNJGVijXZEzqfmUtjc2Rk7uR2oel7DWtrnoUF5bXMs0dtcRSvAwSVUcExkgEA46HBB/Gpq8vufh94ouo5VTVVtI2ifyoY9SuP3T/AGaONPmCgkCRC30OcEkinzeAfFYuYFt9dkFpHePMEGoSh0VhFhtzK24hkk+U8YfryafWxP2bno63du149os8ZuY0EjwhxvVSSAxHXBIPPtU1YUui30/iPU7mS7K2F5pyWscaSsGjkDSbnA6Dhl5BzxXER+APHJsrhbnxOrTSW3y7LqUDztyqRnbwpiTGeoZ2OO9T/X5ldT1SoZ7y2tXhS5uIoWnfy4hI4UyNgnAz1OAT+FeaR+BfGi3FuV1hI44bWWHLajM7HfHKAp/dgHazIQ3GAvQkZrf1HwfqFz4Y0bSba+Zfspb7a8l1KWm3QyK3zfeb53BwccDtgCh3Sdg0vY6ya8treye8nnjjto0MjzO4CKoGdxPTGO9SqyugdGDKwyCDkEVxmmaHrsXw5ufDJgisLqDTxa212l60iySFCC4O3coBx246AYAzi/EXT9fkuNMj0qS8nka1ECR2slwgjm8xMylo12H5cjEjLxkjPSq05rf11J+zf+uh6Y8iRrukZUXIGWOBTq8tvvh34kv11b7dqYuzNdx3Fsj6hKqOFn8wAqE/dkJlAQSOnHAI3fEHhPXNT8SJqOnaobSOJbURRi7lAQpIxlJQDa2UYAZ698VPRMb3Z2byJGAZGVQSACxxknoKqrq+nPax3K31uYJZfISXzRtaTdt2A9zuGMetebp8OvEkumiPUL2O4khubSdYm1O4ZZ3iYmWUuVzGzgj5QCBgVLZ/DrxHp8sRs9VjijM4mnjW7m2sRdNLwuMD9223Axk5z60w6Hp9QzXltb3EEE88cctwxWFGYAyEDJAHfABNeSal4S8T+H9Ihkl1K6v4ysAntre6vJGnmWOUMQ0aMyjcYyOikqAccVt6l4R17WfBvhWPKHUNPtv9KW6vZYXLtAUz5iBmyGOT64xR3t0Dqkeis6ohd2CqoySTgAUoIIBByD0Iryu5+Hvi+906402/1mG5tnhnHnPeTBpXeBEUMm3AUOhPU/ePHUGbx9puuQ+GNHg01bozQ2ksDWlnPdMTMYwI382NCTtOceZtBzyRih6AtfxPTqa8iRIXkZUUdWY4ArzO+8BeKLqwmeLWJFuprxZGj/tGZAYBCFCZAIVhJluAc8c1X1b4d+K9Wm1D7TqcMsEsCpHG1/MBK6PEyMwCfKcI4JBPLZAFPrYXS56tRXI674e1q/1jTriynVLaG0aIwm+lj+zzEjEw2j98QARtfGfxNczF8PPFklr5NxrHkx7SGij1S5fdJ9nZPN3kBvmkKsV6DHfpS6N/1/X9d7P+v6/r9L+qVTi1fTp75rKG+t3ulZlaBZQXBUKWGOvG5c/UV5ZqfgzxdBeW2n215cXcV0Jm8w6lcqkL/Z413vIAT/rQzqvQ+1X5vh54p8y7NtrUSfaHd2kS5ljZy32cbjtXg4hk78bh6nD62F0TPUKK8wm+HvimKG7XTtdZBMsqhJNQnbcn2lZI0yQdv7oMpI5ye4Oali+H/iJprZ7nWpHWIW6FW1GZj5YEgmU4VQxIdACRn5eo7z0uV1PRJby2gs2u5riKO2Rd7TO4CKvqW6Y96mBDAEHIPII715PafDfxHDpcOnyTW5tk0mSxlhOpSujuQwDIDHhMkgkncAOAOAa9WjXZEinghQODmqZP9fkOooopDCgnAyeBRSEBlIYAgjBB70AVm1OwWw+3Ne2wtM4+0GVfL64+9nHXj60Q6nYXF19mt723ln8sSeUkqs2w4w2Ac45HPvWMdFv4NOtYLaO1drW9ku1VpSquGkkIT7pxhXBzzyMe9VfD/he+0m6tVuHt2gt3abzI3O5maJYym0rwowcHPQLxQtf6/r+l5g9P6/r+n5HW0UUUAFFFFAFaPUrGa+ksob23kuohmSBZVMiDjqucjqPzqzXHaj4T1Wa9vrqyv1R7h5TGpkKeSGVBuUhchjsKnOcBsjkYLU8MazHbNGLkysYdsTy377oDvYso2oAQwYLuwCoHGcCjog6nZ0Vxx8KanOP3t15MYfdFBHeykQjzUYqGwCfkDj23YHHNPXwlfPMn2i8Zoo5ECIt3KMRCWVip9co8a8/3cdhR0QdzrqZLLHCoaZ1RSyqCxxkkgAfiSB+NcTbeEdfXzxdatI7tbLEjreOAPkQEEbN3VWO7dnnOOTViTwtqn29MTRzWkd1HLAJLuUG3VbjzDhcEMSuBgnjaB0oGde7rHGzyMFRQSzE4AHrQjrJGrxsGRgCrA5BHrXCp4Q14WLxXF59saQMsiTX7qjsUIEoKxgg5Odpz25yBntbGBrbT7eCQgtFEqMV6EgAUdxMnooooAKKKKACiiigAoornfHOr6noPhS61XRzaebagO6XUTOrrnGBtZcHJHPNA1qdFRXnS/ELUdO1HVtN1u3jeW3LpBeWsOIt62onIKNJuP8XfHQZrb0DxvFrP2yI2V0k9lapOytGFa4BXO6OPcSVJ4ByRnjNH/DiOqorzeH4redrFu39mzf2bLbxmUAp5ttI1x5Pzjd2JGVAyKF+Kcx8N3l5baRNfT2NmtzNKNkEQ3OyqMF2b+E9M9PejpcOtj0iiuT8Q+M38P3ViZrK4lWaxluZLWCESSAq0Y+8HwAPMOeDwCc8cu1Tx9YaTpum3s9tPLFqcBktzAyOGfClYgc4LNu4xxwaP6/r7gOqorhIPipZXY/0PRdTmaS6S1t8KiidmZ14YsAOUOcnoQfpraZ40g1e81Czs7G5+1afHI1xG+0bHV2RUznq2wsO2MGlfS4HS0V5Xo3xT1GKy+1+ILNJBLYQ3cUFqiq5MjS8DLncAkefXqSBzjRPxOupNXS3s9BlltZbq0hjnM6KSs8XmAlc9cdv17U/6/QP6/U9DorhbL4pWepRwtYaNqUpubpLe2BVEE25XYMCzAYxG2RnIyPWq1h8WLT7Nbm/srqQEJ593FEiRoXMm35DIzf8ALI9M0Dsz0OiuT0nx2ms6XqtzbaVdQy6fax3IhmePMqyRmRMFWIGQO/TNUtD+JkGqS6dBc6VdW73ZgiklDI0cc0sXmov3txBUZzjjIB74dtbf1qLpf+tDuaK4LxX8SU0e8vNMsLZmvIAuydwHhY74w6nByGCyDg/4Zu2HjaRPBttq2oWpuLq6v3soYLUBd7+c8aDLNgcLkkml0uB2FFedaH8V7abRYp9atZUuBKiSmFRtG8y7SBuJ4WI59+laUfxCS98C6r4isNJuwbCIyrBcgJ5o2BgwbJBGDzj0Io6N9h21S7nZ0VyOnfEC3vdat9Nl026geaUWzTM0ZRLjyRMY8Bi33T97GM1jah8S9Rs9VljGiMbe11G4tZVWRC8yRW5l3KSwCnoTnscDmh6b/wBbf5iWu39b/wCTPR6K5TQPiBp/iLW5NPsbO9CIhb7VJGBHkKrFSQeDhx164P45v/C1bGeKaOy028luxKIoI8x7ZQY3kEgYsFK7Y2PXntnNEvdV2Efe2O9orzjRfiiHt4zrEReWSzjuMW8IRVP2UzuMlznOCBwMdOetT3HxSVnjj0/RLp5WubWLZcSJEzJMRh1BPI5wD0z3p297l6iv7vMegUV5ze/FTfqsFpo+myzMt6IpVYpieIpMQ0b7gv3ojyTjHvUcXxdtxczyPYXVzBMIHsoLeIedtaDzX3ZbBI6ADr+tJaq49nY9Korh/Evjm60HxFbqLJ30qPTJdQuWVFMjgEKqjLDbgsM8HqPch0nxNtLe5livNIv4BCXjkZmibbMsHnmPAcn7n8XTPGaOn9d7B/X6nbUVwtl8SW1LXNM0+10S5jN3c+TMZpIwYlMAmVhhiDlWBx2we+Kj1D4jyadrF7DfWTWtnYagbZ5QolMyC2aY4AcFTgA9D1AxnOB6b/1t/mC12/r+rHfUVi+F/EkXijSjew2dzZgSGPy7lQC3yq24YOCMMOfXI7VieFvG91rviAaZJY5i+zSzm7AWMfLO8QGzex/g655POBTtrb+u4dLna0Vxvhzx7Hq2qW2mXFtMJrjz2S5aIQxPskddqguxZgE5we4OBnjEuPipfWmsSi60SRbC1kvEnEbo0hWB413glgON5yOp4xSWrt/WgbHptFc1o/jez1vXdQ060s7xRYiTNy8YEbmNgrKDng5PGeuCe1Ya/F7TTZpM+k6gkkywvbQ/u2aZZQ+0/KxA/wBW3B56etFwPQaK871L4kXt1pTS+HdGukf7fbWXnXaxgK0u0kbN4O4BwOcDJ9jVq3+KljfXS22n6PqM801x5FoCqItwRv3EMzADAjY4PPI454P6/L/MNv6/rsd1RXD3fjjUB4a8V30WnLazaJO0EJmcOspAU5IU/wC1+o96anxTsJZJ47fSdRm8u5W1jdUVVmcy+VgEsAPm9SOOaO3mHS/9aHdUVwlr8VbC+ltUtdJvn8+SGF2JiAillLBUOXyfuNyMjpWdp3xUvJruwm1DRnhsrq1jkcROjNEz3JhVid3K5xwBnqaFq7L0B6K56ZRXG6x49fR/Flxo8mkTzqsdv9nkikQGaWZ2VVwzDaPlPJ9D7ZnuPiBp1t4UsvEEtrdC0upWhK4XdE67+Dzg/MhUYJySKOlw62OrorgE+Luky/ZvI0zUpTOeiRqSgAjLkjPO0yhSB3VvTma2+KFlezCCz0q+nuHu47aKNGjxJvR3VwxYKVxG3OfzoA7miuO8Q/ErSvDOsTadqNtdebEquWRVKlGUkN16bhs/3iKwr74n6lCl/Ha6YHeGC+lWWRQghMAXCsu8luWAJGM5GB1pXHbY9OoriLjx3PL4H1HVbSza2vtPuI7eWG5AYbmMeT8rHgrID1pkPxU0+6LLaaTqMrPcrbW3yIq3DEuDhmYAY8tjgkHGPWm9GStVc7qivP7f4taffRwtaabeqk2xBO4jKxSvE0qqV35PyrnI47ZqO3+LlhFZRS6hYXhRYA0t1HGio0n2YXG0JvLDKk+oB4z3o7+Q+3meiUVxUHxKtpLqG3n0i+tpHvvsMjStH5cL7UYbnDFefMGBnJwaf4g+JWm+HdYuLC6s7qYwQtIZINjKWVA5Trwdpzzj8sGgFrsdlRXm+s/FYw6bdppek3Calal/OS4MZS3CypGS2H+bJcYC5rU8W+N7rw5rQtbay+3ZhgfygAhBkn8rO8t7/d29TnOM0dvMO/kdpRXIeJPHA8Nay8Nxaz3EKWSXDRwwglC0hXc0m7AUY5+XjrmurgmW4t45kIKyIHUggjBGeo4NC1Vw2diSiiigAooooAKKKKACiiigAooooAKKKKACiiigAooooAKKKKACiiigAooooAKKKKACorq1t722e3vIIriCQYeKVA6sPcHg1LRQBRl0TSp5Hkm0yzkeRizs9upLEpsJJxySny/TjpTbbQNHszcG00qyg+1Jsn8u3VfNXptbA5Hsa0KKAMyHw1oVvEI4NG0+NAAAq2qAYDbx2/vfN9eetPTQdHjtp7ePSrJILiMRTRrboFkQZwrDHI+Y8H1NaFFAGfdaBo97bxQXml2dxFDH5UaSwKwROPlGRwPlXj2HpUr6Vp0kFtBJYWrxWjK9tG0KlYWX7pQY+UjsR0q3RQBnQ+HtFt7h54NJsY5ZJhOzrboGMgzh84+8MnnryfWo9I8P2ujzahPHJLc3Goz+dczThdznaFC/KoGABgcfXJrVooAy5vC+gXEKRT6Jp0kcaqiI9ohCqudoAx0G5sDtk+tEnhjQpnDy6NYMwWNQTbJwI/uDp/D29K1KKAM628PaLZy+ZaaTYwv5vn7o7dFPmYI35A64Zhn3PrSDw7oyx7ItKsYvukFLZBtK52kcdRubHpk+taVFAHP+GfBmmeFYrxbDdKb1lMzSRxICAMABI0RAOT0XnJzVy08L6DYXUNzZaLp9vPboUhlitkVo154UgZA5P5mtSigDMm8NaHcXkt3caNp8tzN/rJntUZ36dSRk9B+QqWbRNKuNNOnT6baSWTMXNs0CmMsW3Z24xnPOfXmr1FAGUnhXw/HNDNHoWmpJAoWF1tIwYxknCnHHJJ49TU1roek2OnzWNnplpBaT5823igVY5MjByoGDkcVfooAzbXw5otlex3lnpFjBcxRiJJ47dFdUAwFDAZAxxj0pzeH9Hku5rqTSrJ7ic5lla3Qs52lCScc/KSv0OK0KKAKFroek2V615Z6ZZ29y8YjaaKBVYoAAFyBnGAOPYelVh4Q8Ni2e3Hh/S/JdxI8f2OPazDOCRjkjJx9TWxRQBztt4E0CGS7NzYQXyXMqSCK6giaOAImxEjQKAqqvA4z6k1c/4RXw/wCXMn9h6dsnKmVRaph9pyueOcHkela1FAGM/g7wzJHIj+HtKZZW3uDZRnc3PJ46/M35n1qWfwzoV1H5dxounyplDte1QjKjavbsOB6DitSigCpdaVp96xN5YW1wWiMJMsKtmMkEpyPu5AOOnAqvc6JoZvJNRu9N0/7TJH5MlzLAm5kI27SxHII4x6cVp1zvjTws3i3R4bKO5itXiuFmSaSEy7CARkLuUE8/xZHtQCJNPh8M6qFuLOxsWaG7ZUY2yqyzQ/u8rkZyoXAI7DjirT6ToM97LeSWOny3LnMszRIzkqpXJOM5CsR9DiuNT4TBdettRfWPNEM8kxRrcqVLTtKChVxtOWwSQQcDjtVaz+DENtZwwtqw3rKBNJHbsDcW+AHjYGQgFsLlh6dKFqtQ9DsRD4Z8OTWa29lZWckk/wBlt/s1uoKvJzt+UfKG2D24FXIdN0O3uYbq2tLCKaPfFDLHGisu5iWVSPU5JHc5riB8IU/tO4uv7YK+ZeG4V0gYSBSzttLb8Egvw20YxUdl8IDZW+nrFqlsJbO480zCzc7xtRcbTKVBIQZOPQjBGSK9tf6/rUHvodxbaRoFrcf2laWGnQzRBl+0xQopTJJYbgOOSc/U0n9g+Hpru4c6XpslxcqWnJt42aVWxktxkg7RnPXArmovhu8fw9m8MnULdg9wJopPsrBIQCCoCiTc2CvVmPvkcU7Q/hy2j+KIdXk1OO4MTPJkWYjmkZoljKs4bBjG3IQKME9eKatcGbdg3hyTWLgWEFtb6ndLIJSLfyp5VRtrMcgFhnHPQ8dag0vwb4V0nQv7IjsLCe3jVTObiKNmlKcB5DgZI55x61S0b4fro/iuHWku4JnU3e8Pa4fE0pkG1t3BXJGecgnpmuesvhfqNzLqd1dXVtp01xPdCJVtFkaSOS4EgMrB/nBVAAPlK7jzkVK2Xp/ww3u/X+md3DDoIkls4rK0jWJ4rk/6KFjL4+R1bG1mAQcgkjA6cU1/DXhi4S5STR9KkWaYPcA28ZDyDOC3H3uT155PrXI6X8IYLGeya81KO+htZYpDBJZ/K4jE2F5c8fvh1z9z340LP4dNbeGNY0j+0o1+33AuLd4rYgWrhgykbnLP8wB5b2GKb/r8P6+Qv6/P+vmdM2maIEvC9nYbL3b9q3RpifHyrv8A72OnNZFnP4Pn8S3FhaWFn/abTu02LIAtJDsYsW24JHmKQc9TxXMSfBeM6e1umsmTE6ugntyyBAr5RgHBOWld85GCRW/oXw/XQ/Ei6quomZV87EJhI4kSFfvFiTjyfx3e3LW+oPbQkv8Awd4c/ti11yQLENNAlit7W3hCgruYEbY/MPJJ2hsE9s0sc/gi3lihitNNR7idYSgtFBWQjzwHG35Txv5xg+9YP/Cnovts0o1l/Kk+0KsJt8hEdWES/e/5ZmRz757YqQfCO2M7ebd2slu08U7I1gCzstuYSCd2CCTvHHBz1zmpV0v676/gN2b/AK+R2WpaLoWozCbVtOsLmSWMQB7mFGLrncEyRyM849akNjo72Memm1sWtYSuy1MaFEKn5cJ0GCOPcVymu/DibWfDmiaQusLEml24haVrTc0jAIA4w4Kn5OmSOec4FZWtfDGS1t7y/wBIJu9Tlad4RFCkTCaS4WaORnZxkRlcdyQTgdqezstv6t94t1fqd1NoXh5oInn0vTfKt5WljLQR7Y5GOWYcYBJ6nuaS00Xw3p7F7LTdLtmikDlooI0KOAcHIHBwzc+hPrWNe+AxceGdD0y3uLcNpMiylbu2+0Q3DbGVi6blzksWBzwax0+Egl117/UtUt7qOS7S4ltvsG1JQruwVhvK9JMZAHToSTT+1boHS502rXXhiTWWtNUs7e8vjAm4Gy89vL81QoJCngOVOO3X3q3c6P4cuCz3en6ZJseRmMkMZw0g2uTkdW6H171xtv8ACMw3Usp1eHDFcMljtkcC6FxmR9/ztxtzgcYOOMVg6b8KdWvXvbe5aLTbTyo4Fkns4zJdANKSziOY5b5x8+5ScY24zmVsu+o3uz1j+ztIZJrM2dkVuGEksHlJiRhjDMuOSMLyfQVg6zoHhi9uJtDMNvp91eIb+Z4LOEmRUbBZjJGy5y/UjPOR3rOsfhk+m6nBqlpqsJ1C3ZWSeWy3bsWog2thwSuRvxn296v+LPAreKL+K7bUEheK2EPlPbeZHIRMkvzjcMqfLwV7g9abSuv6/rWwlt/X9bEdp8OvDVvqOnXkbeYunxJHBEywlSNhQFnCb2yCTgsVyelamo6V4Zt9EuZZrfTbK1RGDXCQRYh+TysjKlchfl5B44xjiuatPhLDbz2rtqrBEWQzwwW/lpJITKY2QbjsEZmbaOei88VPYfDCK08Aan4blvIZGvwP9IW2IVSqqFYoznn5RnBH9aHqncFo0P0DRvBej2N6bWGO/fTLx5ZZJLNXljl2oSY0jQAADZ9xccDvXSTaD4fv76a6udK025u2XbNLJbo8hG3GGJGenHPauNvPhFHeG5lGpW9vcXJl3vBY7QFeKNAgG/O1THkDPfHbJ2NP8CtY/wDCSKbyCSLXAw8kW7BYy27JY+ZubO7kBlHHGM0Pb5fj2Bfr+BbltfB2o6y9lPpul3N5Egu/ntEfPmEjcDjBYmM5xz8tT30vhm/0s6hrENk1vPCiu19AFYxlgVVlcbgNxBwR1IrlLX4RrCbWS41aKWe1EAikFiFMYjmeQhTuyMh9uevGTnNOh+ENrFoF/YyXlvcXN1b20Md1LZAmIQhe27JDFQSAR+NHQOptarq3ge7R5NYjsbkRLMjNPZGTC25/eDlTwpbp0OeM11cewRJ5QATaNoAwAO3FcZP8PhPYyQGaxXet4DttZAo+0FTwPN4A28889ttdmi7I1X0AHFPoL/g/8AdRRRSGFIw3KRkrkYyOopaKAOSb7ZF4ftba4OpsFvpPtDoJjMYPOkC4Zfm/udDnbz0qt4ZGs/2laHUjqPnDIn8/zPK8nyU2dfk37+uPmzuzXbUULT+v6/q4PX+v6/qwUUUUAFFFFAHC3kviKw1zUr61gupo98qW6FppUY7Y8Zj6Ko+cgqMsQR1IBsJrXiRbdzPBiVId0YisJnWbLsCSSAQVUKduAWPTqK7KijokHU49tU8TSfLbR/Ij4WaSwcGZTKiZKkgrhWc++3PApy3/AIolmSMKsSrIkTu1kx3gyyoXHzYGFSNvT5vQiuuoo6IO5w9trvi6dZmk0+OEpbgrG1rNkuUQ7hxg/MWBXdnA9jmS41HxDJeR2k0cypFeQgSw2UmLlRc4YlhwgEYBOeCCe3FdpRQPY4I634quNNl+12rWxlR8GCxnkkifYT5e3aOCcYcEjg88g12mneYNLtfP3eb5Kb9/3s7RnOe9WaKO4nrYKKKKACiiigAooooAKKK84/4S7V08B+HdXkmea5uNUMVwI41BmjDSjYBjAyEUcc0m0txpNno9FeXRfF66Nj9qbR7eeNikayWd2ZE86SIvFCTsGH3DY3oSPpW/4d8b3mu+J9V0dtMht2sFkAY3ILF0YL8yYyFbOQcdB703o7C6XOyory3SfijqkmkrPqFrpzmGwkvLuZLhwIyJWjVNoQ4O7bnJ4GTVrT/ife6strFaabYxXU1tNKI7m+2i4dJHjEcJCkOSUz7Bh160f1+f+QHpFFcPH8Qbi68ESeIrLS1ZHvIra0ilmKebudIyzHaduHZh0P3fesq4+K97aTaxFPokIbTWETEXY+V/NSMs4IBVDvLBsdBzjNHW39dP80C1Vz02ivK2+MVxFHOZtHt1eO2ilVUvVlHzuilmZQQiDfn5sEjB78berePrmz8GaTqotLa3n1RjHunuwIICEds+YoIOdmF45LCk3ZXGtXY7mivJdP8Aipq9v4UhvLrTre5EQtbd7qW58vfLLAspdxt2qvJHXqR0q1e/F24tPtQfTLONoIYJtjX6sQrqpYkqMZXJGwfMcZAIqno7CWqueoUV5hN8XLhW1cxaRbiPT+jTXyxscOqksjANghiyjqQMdTW34p8WNH8P01rRb23WUT2qyPvwke+SPerEjK/K3ORkA9KXn6fiB2lFeZxfFtvLgE+n2yyz7RAVuiUuCbryCYyVyy4+fOOh/Gph421w/Cu914jTv7Rtbx4JAHby4lWbYdwxkEA9+2D7UdLh1sejUV5HL8RdZtE1KG52SxveTi1uraZdyLHNCuwAxlSuJeDyT7V0dj8RJLnwrr+rtp8TS6RKyfZ4J/MDDsTIAVxg5JXOB1o6X8rh1t52O5orzA/Fm+2uYtJsrhLcO808N6zRSokscZaFtnzA+Z3xyprX0bx7ca5fa/a/2eLVNMjmKOLhTICjMuGQjKk43DgjHrSbsr+r+4a1dvl953FFcH4K8eTa/cvYXMMYeDToboSeeJJJdyKSW2KFQ5YjBAPGQMdMmP4uXrWcT3OlWNq1wkEsc016ywRpKkjDzH2cHMRAGOSw5pvTf+v6sJanqVFcT4W8Yan4g8QXlvcW1taQ/wBmW17bW0khEwMgJO7jlQeCR049eOa8OfErWIY9Pt9YhhvLi+kSQs1xtkkWWZowIUEYDCPblueAetHWwr6XPW6K8/u/HGst8N4vEsFpYWjy3kaBZZ2ZEgMojLM20YOc+oA5yTxWND8UNV0mC+Go2cV8onuTbzifbtVLsQ4f5cBVDg5yeF560dbf10/zKasrnrNFcVqPj6fTPBemeIbjS1aO7JWaOOcP5bFW8vayghgzqq5/2xWPdfFXUrbVLyw/sGDz7WSOBke9CkSM8S5I252EyHDAH7vvwdeUXS56bRXK6N4rv7/xdc+H7zTY4LiyRpLmWOUsgQhDGVyozuLP6Y2GuTk+Mk8fn40m1kCMV3R3hItyJzFmfKjZnG4c8/rR28w7+R6tRXljfEPWrnVFheG2tEl/s6SCCK5VpCJnw2TsYMmeCV9sHJ4NE+K19NJotpqdnYtLe5NzOl2I1jHmlCAGH3kA3Muc4x60eXyA9Torn7zW/wDiqPDtvZzmW11KK4k3ROpjkCorKfukkc8YI/GuWPxVml1e9sLLTba4aK7it4H+1FQ2+ZojvG0lSCucY7+mCTrYOl+h6TRXC+GvHl74gtL/AO16fFZPFpovYmguDJkFpEIO5Bg7oyRweCKxbT4tyx6fbwvZRT33lA7bi9SNnH2QTh2O0KAWJXOAOPwo7+Qf1/X3nqlFcJ4R8cX3iPxL9nmWyjs5dMS7hRHbzGYyOjYDAZAK4OOBxyc1m2/xZnv5LW307TLWS6nMMbI92QIZJHlUq2FJBHlA9M/NQ9P6/rsHd9j02ivJD8V77Ur/AEcWtrFaI0kUk9ss++e4Vrd5CEQrymQBuyDkYrW8L/ErUfE2qadZw6RaRLd+ZI8ovd4SNBGTgBSd48zG046Z700ruwPQ9ForitL1++k+KOo6PdX/ANpt/KaS3gt3hdLdVEYIlAXzEYktjLYIPTiubj+Iut6Trt3BqFrHe/adUmt4FNysSRJEyLsTKDLnfnknOKS1tbqr/oD0v5f8Oes0V5X/AMLU1S+vYktNOsrK3XVI7SaS5uuUVmkXa6gZRvkByeOce9a3iTx5feHfFWpWc62H2WGygltVmmKPI8kpQknGMA9TkAcZPPCvon/W1x21a7f52O+oryjQ/Hura94gsJUla2tLu/tUNqNrBEe0kdl3YyRvUHPtV/VfirJY+Jr7SLTTre6Nu6xRubkod/mxRkONpK/63IOMHHGaq2tuv/Df5i6X/rr/AJHpFFeT3XxR1K9uNOsYYLbTZ3vbeOcm43NKDdtC6xKU+ZcRnJ4I3Cuh8Q/EUaD4il0lrSF5leARCS5EZkWRZCzcjgKUAJ6fNzil0v52Dq12O3orzC1+MAkgtzcWNsks6x7EW4OGdrgQuqnb8+0Hdlcg1m6h8U9R1WxkbSjHZGC4ZfNhcSCVGtZ3XIZcqQ0YJBAPHIHSk9FcaV3Y9horifCPjO/1nVI9Hu7HbcW9qs9zcb+GRkjMbAYxlyz8dthrIX4tXZv5bQ+HnaaEzq6pMTl4AzTKPl5wAmPUv7U5e67MS1Vz02ivLV+MMg0/TriTTbTfdXJjMcd6G3R5jG5DjBIMvK9flzjByNyPx3cr8Oz4mvLO1tmmmEdtCbhipBcIC7bQFOc+3TJHYeiuC1djtqK841/xxezeBdB1mzuRokepljPcYSQQYidlXLgr8zqFyRznjk0vhT4k3+s69ZaPf6fbRzyAxzqk586NlgWQu0e35UJYr1607XbXYT0Sfc9GorzG4+JWoabqGowJYreR2tzO0jz3AUrGk8cW1AsfP+syM+nJNT+PvGGt6NrF3p+ny2kEY0+K5t2ZsSu5uFRgAQQRg8+gOaS1Sfcb0bXY9Horyi7+Kl/ZXFzNPZQq1tE8c0Bu1EIZLh42dSUDscLnaDk9l716lbTC5tIZx0lRXHBHUZ78/nQtVzIHo7EtFFFABRRSMwRSzEKoGSSeAKAFoqmNY0xtPN8uo2hswdpuBOvlg5xjdnHWnw6lY3Fz9mgvbeWfYJPKSVS204w2Ac45HPuKALNFFFABRRRQAUVWj1KxmvpLKG9t5LqIZkgWVTIg46rnI6j86s0AFFFFABRRTJZY4VDTOqKWVQWOMkkAD8SQPxoAfRTXdY42eRgqKCWYnAA9aEdZI1eNgyMAVYHII9aAHUUUUAFFFFABRRRQAUUUUAAAHQY+lJgAkgDJ6mlooATaMEYGD1GOtR3NtHd20kEu8LIpUtHIyMARjhlIKn3BBqWigCtp+n2uladBY6fCIbaBAkcYJOB9TyfqasbVOeBzweOtLRQAmxeflHIweOoowMYwMDtS0UAIQGGGAI9DRsU5yo568UtFACFFOcqDnrx1pkFtBbBxbwxxCRzI4RQNzHkscdSfWpKKAEAAxgDjge1G1cEbRg9RjrS0UAHSkAA6AD6UtFAAAFGAMAdhSAAEkAZPU+tLRQAgABJAGT1PrSkBhgjI9DRRQAmBuzgZxjNc8PHGgrreoaZe3sNldae+GFzIq7x5YkLLz0Cnn6H0roq47WPhppet6je3N5fagI712lkt0eMIshh8nevybshM8EkZOcUtbj0NdPF/hydSE1qxdfJaY/vlIMa/eb6Ac/TmqWq/EHwzpugzamdVtbqJA4SOCZGaVlGWRRnk8j8x61U1H4ZaVqmpS3l1fahmS2a2WNXj2xq0PlHaShI+XnGcZ5xUV/8ACvSL6W6kGoalbteLIk5heP50dI1ZPmQ4H7pTkc5zzg4p9RLpc6PWfEOmeHtKjv8AVpxbWzyJErEfxOcAf56AGsm1+IOh3kdw0Eqm5t7r7NJbGWNZB++8rf8AMwG3ccjnPI4yQK0NT8NJq2iS6bd6hdlWuEnimHlh4Sjh0C/LggFR94E+prIk+GejyTJK91fF1leXO9OWe4W4P8H99APpnvzQt9dv+G/4IteXzNHT7vwzaLq2s2V/blWkzfXb3JdVK8BdzEhVGSAo4GeBWf4c8VeD4dL8iwu7axt2uLhYo55x++2uxkkUljlSSTnsD2qWL4e6dFoWpaX9tvTFqFwtwWBjXyXVgwMaqgQfMoJ+U5PWoY/hnpAiukuLu/umu7e5gmeV0BYTuHdvlQAHcOMcexpf5f1/kVp+Jrp4u8OOInTWbEiVXZCJl+6v3j7AY5zU417RjYwXv2+1FtcMwhmLgK5AJbBPfCsfwNc2vws0pVt8X12GhWQF1it1Mu8EHfiL5hgj5T8pwMg1ek+H+mT+D7fw7cXN7LbW8wlSUyL5gO4nbnbgLhiuAB8pwKYjR/4Szw+DCBrFl++ZUjxMuGLBSoH1Dqf+BD1qaDxDo09g17b6lavarKIWnWQbN5IAGemSSB+Ncu3wl0Q2sFsl7qMcEMzTCMSRkMSyMOqHG0RqoIwdoxmtOy8B6dZ+F9Q0I3N3La37s7FiimIkDHlqqhUwQCML15o6AWNS1/wxe2smnX+s2qpcpIrKl35bFVJD4ZSCMbWHB7H3qTS9e8NGxt7bSdSsWt0WOCFIpQRgkoij1yUYD6GsKb4T6DM0B867URWgtWGY28wDdhyWQkPl2OVxyelWV8FY8aaTqOI1sdIsRbxfvC0k7gbULrtCjYC+CCcl+gxQvP8Arf8Ar5g9tP62/r5GzN4n0C21KSwn1ayivIVYvA0yh0AXecjt8vP0qq/jnwvHayTrrljIiQvORFMGJRc5IA69D+VY8/w5XVPEWr32r3032W7uDLb21uygKTbCEu2UzuALYAJXpkVOPhloq6jJdCa6/e2n2Voz5ZGPJ8neCU3K2zjgge1LXl87f1/X9J6X8i9p3j3wzql+LS01SAzskTKGO3d5gyqgnqfb3q9c+JtBsNPt7261Wygtbo/uJXmVVl9SD3+tctrXw5km0ie30u/llubmC2tnlupFQRCFspMuyPJkUcYyoOea2NX8C6dqun2FolzdWKWNs9pG1qUy0LoEdDuVhyFHIwR2NU+tv6/r+uwl0uW7/wAXeH9Msri8udTtgkKyNJscMx8sgOABySCyjHuKlufE+hWtnZXV7qlpbw3oDWzTSqvmAgcjP1HPvWAvwt0ZGugLzUPIuIbiFbfzE2RLOFDlTs3Z+QEZJq7rHgSz1u2tI7zUb5XgtGspJYjGGuIW27lfKEDOwcqFI7Uv6/P/AIAf1+X/AAQt/HmiXFhrt+zeXY6NMYriclWDsvUhQSevAyBntTtP8e+HNS1G6tBfQQyW4DAzyKvmxmJZS68/dCtzn0PpVhfCGnJ4f1bR1e4+zaq8zzHcNyGQYIU44A7Zz+NZV18MNHv4pFv7y/uGmYvK5dFLMbfyCeEGPl547+3FL/Jff1D/AIP/AADoB4k0U6OdVGqWn9nhthuTKAgbO3BPY5OKih8WeHp2gEOs2LG5UvFiZfnAzk/htb/vk+lYt/4D2+CDoOj3ZWRryG5a5mVFYlZUZj8ibd2F4yvXGaqSfCHRLh1a71DU7gZdpFeSPEjuZN7cJlSfNbIXA4Xjin6B0NpPHfh+XVLe2ivoZI7iBpY7tZF8okSKmwHPLFnGAOtWJPGXhqKF55dcsEjSTyWZp1GGxnH5An6CsqX4c2NzcaZdXmq6nPd6UgS1uC0SsgDAjhYwDwu3kdCe+CMLU/hMba3eXw7fXMuozbke4vbpE2qY3Q5xA2/IfnOGOM7gaHtpv/wRrV6nd2uvaNd36WNnqNpLdGISrDHKpYoQCCB6YIP0INZ2j+OvD+rwO0d/BbyxymN7eaRRIh80xjIB/iYcfUetVfD/AMPNO0DVodTinmluUgSNlZUKbxEsZdTt3LlVHG7FVR8LNKAkzqWpFs5t2LxZtiZxOdn7vBy4H3t3HFN2uuxOtvM0dH1XwuPFV5Z6TeJPql6n2mdvOaUuFYptDEnAUhvlGAOeKS3+IXh2W5e3ub+K0mSJpXWaVCFVZDH95SVySOmc+2eKdoXgiy8P6jDeWV7eu8cEkDrMUIlDytLlsIMEMxxjHvmqEvwx0t4Xiivr2NJIHgkVlhkDq0xm5DxkZDMcEY4x3GanWy/rvb9CtLv+vU6K413R7G3tZ7q/toIbrH2d3cKJM46fmPzqrfeLdJ03V7rT9UnW0FtbxTtPOyrGwkZlVRzktlDxiqGs/D6w1zSdN0681HUhBp8XlKRKjNMPl+ZyynLfKPmGDyfWpta8D2Ota0NWa8vLS+QReVLAyfujGXwQGUgk+YwOcjp0pvfT+kJbF2z8VaJqesvpVlfw3Fytsl1hGDKY26MD0Pr+I9aw5/GPhHw9YXuo6Vc29491fIsyWtwrF55MKCSzYUYXrwMKa0NH8EadodysljPdeX9gWweF2UrIqszBidud2XboQOelUrH4a6XZJGpvb+cwvbGFpHjzGluxaOMYQZXJOScsfWnpf+tr/wCVg6f12/zuaus+L9I0TU7PTrq5Rr27njiW3R13qHJAcgn7vBoj8Z+GJzCYtd05/NJWNhcL82MZwc+4qpqfgSw1TxD/AGtJe3sLNLBNJbxMnlyPDkIxyhboxGAQDVF/hbopbTSlxdD+z7VLVNyxSCREYspYPGRuBJOQBUq9tR6XN+08TaFqNxBb2eqWtxLcKXhjSQEuBnkD04PPtWtXFWHwystNuLW4stY1OGa0jkSJ0MIK793H+r+6N2Qn3QQDjrntFBVQCxYgYJPU1WhPUWiiikMKp6vZNqOi3tlG4je5geJWPRSykZ/WrlFALQ5g6LqUlpcs8MEV1LdLdxeRdEeU6oseMmIg8KTyvfGO9VfDvhLUNG1iCWaeKWCGPaXErEt+6ROI9uAcp97dkjAx6djRQtACiiigAooooA47UfCeqzXt9dWV+qPcPKY1MhTyQyoNykLkMdhU5zgNkcjBanhjWY7ZoxcmVjDtieW/fdAd7FlG1ACGDBd2AVA4zgV2dFHSwHHHwpqc4/e3Xkxh90UEd7KRCPNRiobAJ+QOPbdgcc09fCV88yfaLxmijkQIi3coxEJZWKn1yjxrz/dx2FddRR0S7B38zhrbwjr6+eLrVpHdrZYkdbxwB8iAgjZu6qx3bs85xyasSeFtU+3piaOa0juo5YBJdyg26rceYcLghiVwME8bQOldjRQM4NPCGvCxeK4vPtjSBlkSa/dUdihAlBWMEHJztOe3OQM9rYwNbafbwSEFoolRivQkACp6KBPUKKKKACiiigAooooAKKKyfFdlc6j4P1iysU8y5ubKaKFNwXc7IQBk8Dk96UnZXGld2NXcAwUkZPQZ60tefeJdF8TeZo134ehIubPS5LeR1kj3IzNDlV3HBYqj4J4yBmoYrX4iFbFY7iVYZ5ZElNy0BltollDxs+3hnZAyHbnGQfU1T0dv63JWquej0m5TnDD5evPSuC0Ow8aXfgnXLbxDc3CanPAy2pzEjJJsOdjoSNpbGMgEVz+meGPGtpHeSRx3Wy+jaOe2u5LZxJ/oIRWbrk+aoXrjHUYJNS9L+SKWtj17rSBgWIBBI6jPSuH8L2/jC1bVIdRjcItmi2BlMKxxyhMbAkZPygj7xx6Yrn9B0Hx4NeN1cyX9mt20JvZ5pbVncxwPkYTICebgDA3bT+VPQlanrNFeWWUPxMWztGvHvJZ/tiGeEC2QFMAP+8DnCZ5A254IwOK6jwVL4litpLbxRa3ckrTSMl3M8IGwbcAojHbklsAbh8p5GQKLDOrBB6HNFcNBaeKNL8I6clnZ/wCmRanJJdW1v5CF7dpJCMchOjITyD175rFtk+JsW2S4jup2W3tmkTzLZRvDx+ai4Yhyy+Z8x2gdBng0lqD0/rzPUycDJpFdX+4wb6HNeXmH4j3Vzax3NtOtuyzLcq01sUdHabAOGyGAMXTOfUYOcexsPFfhT7FYW0y2N5q00FoLbzI5GKi1iR5wBn/VtG2e3P0ojqD0PaaK818Za5runePtO0+w1CRIrh7RYbeGSAlwZiJjIjfvCNoGGUYGGyRVWDS/iBdwW8utT35kt9VgleG2e3TMY3iQod3zJyhCtg8HgnoLX77figen3XPVKK8/8RL49k8UXx0COZNP+ySpAfMgKNJ5OUYbiGB8zjBBHfOOBbitvGMHhPWoGnuLjU/tA/s2Z3g3FSqHLYwu0PvyCM7Rx2oGdrSBgwypB5xwa4Tw8njdfEmnNri3LWhtnF4GeARJNlvmXYSzg/KACBgAZJOawrXSvH2kXt5/ZUF2lp9tmuHhaW2KzK12rgRc5DGMyZ3kdRR1SF0ues0Ag9DmuB0DT/Fn/CWaXqOvm9ERtbqKeITQmOJjMWi3qp5ymBlcnIGcc1H4Z0LxFp/ijTLjUI7iKzFveRywwPCsKO05eMsi/wB5CDlcnOM45oXT5/qD6noVFebXVv8AEO10lJbaS7vL2f7arwiS2AgJyLYgnA2gAE8k5PPpUN1Z/ElRcyw3V3mUzqsafZn8tQ8ZiKgleSPMBJJIHbOMoZ6fSF1DbSwB9M1wniP/AIThtA0RdCt501ARBrzbPC22QBflfdtDA/Nyv5HIw3xb4d1rUPG9rf6Zaq9ssNtG8xMRKbbne5AfuF5BA+nNPql52F9m/kd6zBVyxAHqTS14tN4P8Zz6XZW066rcsLV4Zo5ruAp5guUcMfmyVKAkHrkAHArs9Cj8aDU9ebWpZRCVlFkqxwsudx8sx/MD93GQ4HPfrR0+/wDD/MZ21FeX2lp8Snhtnmluo2gSMlXltj9ob7QN5cc7R5RJ2g8cDJPFQXmo+O9N0hrjW5ZLC3hW3inna4tEaQ+c/mtGzNtBKGMDfj2GaBdz1ckDGT16UjMFUliAB1JNeaw/8JTr3w98OahaI1zqiyTTvLOkIdQY5hGw3AAHJj5XsfTNT3Gi+Lr7wD4j0vUzNfXdxFGLLzZIQzExIZFyuFAEm8DOPxFG1/IFq15nolFeXOnxJgsZPskd5L5guUt0mltfOhz5ZiaQghT0l+7ngjIqRNN8b3OtWs+oNqTWttrIk+Sa3jL25Vx9wEjapKj72SCTtBp9v66i6XPTaCQOpxXn/iCPx0fEepf2N9qbTmji8oo1uhQBk8xYgxO5yu/DPtAPHPBq3DYeJbrQdA/tKETXlvqyzT+eIWkjtwz7SxHy7wpXJTnOcd6S1sN6f15Ha0hYLjcQMnAyetcBq0XjxvE9+dMaf7JiT7OQ8Ag8vyDsGD8/m+d3Py49qzL3QvHFzqmjx3T3d9DazWlz5ryWwiVxuaYyAYYkMQF2jG0dz1V9vl+P+Q2ep0EhVJY4A5JPavMNGsviZNLbf2ne3EIUyPMGFuFMgQFFypYmNnHYAgZ6Vn3umfEnUPCb2V99unNzHcRzRI1okm4wqEBYsVMRffnGG5HGMUPS4Kzsevg5GRRXC69F4ytY7CDw7BK8f9nJE4jeECGcSR5Zt5GRsDjjP9ar/D+/8UapqU97qM1zNphS4jBuDCEaVbhlTywnzABAQd3fFU7Xt6/h/n0JT0u/L8T0KjIzjPNcDoa+OW0PxB/awube6kjVtOz9nlkjchgwXDBWAO3G7bn0FY5sPH62FzcR2V3DqNylpH51tNaGUbTJ5hcuQHwCuFz1IAOATS/4H4lHq1FcL4dbxnbeJryTXYby40528uCP/R8KpZdjkhwcqu7cMHJ6Z4p2vW3jo69qC6DOosPszXFrI5j/ANd5ewQYPON3z5PHbPah6K4LV2O4pGYKpZiAAMkntXmNrB44hsrq617XLjTLW30+V45rj7MoWfcQokwWyADnIIB4z6VauLHxB4x+EMpuvNGoao6zpbKUTy4TIpEfzDGNgyc8kn8KP6/r7hHoaOkiho2V1PQqcinV5Va6H430b7Fp+jW89vaLqM0s0kctuVaJ7nupIx+6O4YzzxtBqtZ6D4+0+1tZLSTU3vYtNubfFxcwPGJ/N3KxGeQVztJ53AZwM0dL/wBbf0g62/rc9eJAGScCivLH0bx9qOmXCahNcTotvEYLa4S1xLJ9oYsJBlgSse0g5APHfikv5PHmkabd3uo6hJFbsoMryz2qeSPteMRs2FDGEjBY4z3zxRsB6pRXmtrf+LtX+Flnc6S13PqVxdS4n3QrIId8nlsc4RhgJ0IyDkZHBZcW3xNO+5tpnExTYsDPb+UpNoPm9c+eCOuPbHNHfyBanpm9fm+YfL156UKwdQyEMrDIIOQRXmMXhbxDdfD7xbZzQ3qX2qXHmW4uZoPOlXyolwxQ7Bnaw7cUsunfEO2utRtdNnljtIY0isAi2wQxgxgEZI2uFEmQVwe38Io62Dpc9OJA6nFBIHU4ry+XRfHsjNDdyy6hbGbKrdG2YKEvEMbAYHJh3nPqB0OBUf8AZHxDlNkb3feFXhuH882zeRKGmDbPT5TEc8nnr1pX0THbVo9Uorymaz+KMNnHHHdXMm7yXkkBtmlRzD84AyqlBL1GeexIzXqcIkEEYmIMm0byBgE45qrE32H0UUUhhRRSMwRSzHAAyT6UALRWd/bunnS01FZna2kcxoVhcszBiu0IBuJyD27U2z8Q6XqF0lvZ3JleRN6ERuFb5Q2AxGN2GB25yAelAGnRRRQAUUUUAFFZ8WuafNqkmnpM32iMsGDROqkqASA5G0kBgcAmrn2iE7MTR/vBlPmHzD1HrQBJRUX2mDajedHtf7p3jDfT1oN1bqoYzxgMu4EuOR6/SgCWimedFu2+YmQu7G4dPX6VDPqFrbxRSSzptmdY4yDnczMFGMdeSKALNFQTXttb28k8syLHFned3Qjt9fapIZUngjmiOUkUMpxjIIyKAH0UUUAFFFFABRRRQAUUUUAFFFFABRRRQAUUUUAFFFFABRRRQAUYoooAMDOcc+tFFFABRRRQAUUUUAFFFFABRRRQAUUUUAFFFFABQQCMEZHvRRQAUUUUAFFFFABRRRQAUUUUAFFFFABWLrvi7RvDciprFybcvF5q/u2YFQ6oeg7F149DmtqsrWvDOj+IWgbWbJbo24kEW52XaHXa3QjOR6+x6igDn5PiZpq6oltBBNdRS3ENvE8Ebs25zIMspUAL+7OME59qt+F/Hll4j0uWfyJoLu3gNxNbCJz8m5gChIG/JQjjvxVkeBPDqpEsVi0Rh8jy2juJFZfJyI8ENngM31zzmrel+F9H0Z9+m2fkk24tv9Y7fuwzMF+Ynu7HPXmk9nb+tNPxDr93/BOa0z4q6ZfX9qlza3NlbXlrBNDNLE5w0rugV8DCjKDDZwc8VsWHjzw/qejahqlneM9ppyeZcMYmBVNu4MARkggcYog8AeG7eGOJLBmSMRKgkuZXwsTl415borMePTjpxVix8H6Jp+iXWkW1owsLtDHLA88jjYRjaNzEqMdhjFPo/wAA6+RUm+IHh6LUPsDXMjXG90KLA5xsVWY9OgDr+fsaZc/Efw3aWbXU93IIFETO4t3IUSpvQnj+7zTk+HfhpfLBsppFjm+0bZb2aQNJtC72DOdxwo61Afhf4SaDym06Zl27CTfTkldmzbnfnbt4x0wBQHUsQeNrNdH1LU9TRre2sdRexBiVpTIQ6qpCqM5JYcDNUb34qeHrUyxw/bLq5ikSN4I7V9ylnVD1H8LOAR1ycda3v+EX0f7BLZfY/wDR5rsXkiea/MwYOGznP3lBx046VTm8CeH53vma0lU30glmCXUqjeHD71AbCtuUHK45/GhdL/1t/wAH8A6f1/XYq3nxC0mK6ms7Rw95b3MME0M6yR48x9gI+U55B9B7gc1U034qeHrvTrd9Rm+zXUll9rmgVGkWMeWZCu4Dk7AWx6VpQ/D3wzDO8yae5d5VlJa6lbDLIZBgFsAbyTgcc0kfw78MQq6w6c6RyW32WSNbqUK8ezZgjdydvG7r70tbeY9ObyK3iPx2NI0jSrzTtPnujqkxjiWaKSLYoVmLMNpI4XgEDg56A1Xl+J+lwaNbyz4h1CfTlvlt5Q4jwUDld4Q5wD1APSunvtC07UobWK9t/NSzbdAN7DYdhTseflYjn1rGf4a+FJGy+mOR5Qh2/a5tu0RiPpvxnYAM9eKfV/gLt+I+68c6enhvWdXsYbm6TSBIJV8h0DyJkFVYryARyRkDrVS3+JWix2anV5JLW4SHfPttpTHG4i80x7yoy4Tnb1reXw5pSaLd6StrixvDKZ4vMf5zISX5zkZJPQ8dqz7rwD4bvbqae609nMyFZE+0ShDmPyy2wNgNs+XcBux3o/r5h/wf+ATXHjHSbW10yadrlP7VfZaRtbOJHP8AukZHHPPY1mWPxM0S8sBcSLdWkj7vLhnt3DSYmEXy8c/MVHHTPPQ1t6p4b0vWbe1t9RhklgtHV4ohO6rlcY3AEBsYHXNZDfD/AE/+2tNuYiqWOnzTXMdqQ7sZpfvHeznamfm2Afe5zQ99AW2o3QfiNo+rf2Va3En2fUtRgSUWwDOqF1LBS+MZIUkfT3FddXOReAfDtvLHJaWk1s8duLZTBeTJ8gBVc4fkgE4Y8j14FdEqhVCjOAMDJyfzpu3QQtFFFIYUUUUAYT6BcrZwxW17Er29093EzwFhvaR2IIDDI2yEduefaoNF8JtpFzAftomt7dmlRPJ2sZGjCMS27GOCQMd+vFdJRQtAeoUUUUAFFFFAHKaj4HS+uL6eO+aKS9Z/M3IWUIwT5QNwxygyRjIJB7ERp4F8u3lhiuLYLNEFffbtIVYOz/KWkJCkv8yk8jPTPHX0UdLBucmfAsMzM93LbuzuHKJagRp+9SQhVLHAOzB9yT7U9PA1oLgSSvDKFlR0VrYfIqzSybRz0/e7f+A++B1NFHRLsHfzOJtvhzFAsySXizCSAQh2ifKjYiEY37SuE6Y79eKtnwSF1Hz4bm3WI3CTeW1pkxBJ/OxGdw25JwTg9jiurooA4iH4di3tTHHeW7uVaNmnt3lV1KldxVpMbxuPIx1PHPHY2kH2Wygt927yo1TdjGcDGamooAKKKKACiiigAooooAKKKKACqWoa1pektENV1KzsTMSIhczrHvx1xuIz1HT1q7XI+MfDmq6xrGnXulQ6bcLb21zbyxahIyr+9CAMAqNuxtPBx9aTv0GrdTrVYMoZSCCMgg9aWvMW+G/iC10ma2sNbd3SK0gtwbyWNWijVRKpABCbmUEEAnAx3NV5vAHjIw3UcWrGTzIoQjz6tKzb0AyCREPk45XGSedw6U+thdEerUVyOteFtV1a/hmXUTAkWlS26rDcyxgXTYCybQfmAG7qSenFc7N4E8Y6jHKb7V44WaKQJHBqVxhZPs6RxnIVcgSIXI9+9HcF0PUKK4jRvDPiKzh8RLf33mnUIyLV1vpGlRyGBIcpiMcjGFYj1OBWNbfD3xRItp/aGsBRAIFKQajcLlVmdpc4xlmjZVzxzn7oxR1sHS56bPPFbW8k9xIsUUSl3dzgKoGSSfSobLUbPUo3fT7qG5WNtrtE4YKcA4OPYg/jXmn/AAgHjOQ28U+r27wxWUtq5N7M3mq0UigMpQ7sMyHORwvQmtWz8E67YeB9Z0u01CC3v72dJYZoZXUBRHErKW25XPlsMgHAI+lHf+uodjv6K8f1Xwf4y03SZ57e9uLo/ZUhEaajNNKGMykCPai7QFJBPJwK6mHwv4hj8Cz2EOoJBqv203dpm7lljgUSBliMhG9lwCDkd+lH9fj/AEw/r8DsZry2t7iCCeeOOW4YrCjMAZCBkgDvgAmpq8rPwx8RTwxJqGufantpJhbyteTK6xmF1jOQMht7/NjsB16U8+AvGcsl+bjxCxe4hRI5Uv5VHBiyCoTjGx8MDk7uRycHWwHqNV1v7R7xbRLmJrhkaRYg4LFVO0nHoCQPrXJ6D4T1nS/Gl5e3WpSzaW0bR20RvJHITCBUZGXqu0/Nuycknkmubt/hbrdtGn2W8htprVZxbypfz5Je5SVWPHA2BgV5GeeckgWrQPZnrFQm7txerZmeMXLRmVYd43lAQC2OuMkDPvXH+F/DHiHSW1p9X1D7e92rCENeyFHJZyCRszEcMq/KTwOOgrlb3wd4x0zQo3+0yTz5WOWK01O5lMjPcxMWBKBkQIrL3IHOTk0LdA+p7BRXkX/CIeMDrFrp63kyCO2Ewuft9wYbQ/ai4RWx++YR/Lh8cH0rS0nwD4mRoU1rWpZ4hfpPc7NRm/fxhJAcAKCpYumV3EfL145Fqv672Dv/AF0PS6K8+8W+EvFms+JJrvR9UhsrU2rwx4vJYyd0Tr8yBSOHKtkEcDoTVeXwN4ot9Ynm03Vy9t9iMVuk+oTYVzEVIcYJYFzv3BgQcemKXQdtbHpNFcJa+D9fPgqDR73VD5y6ms8kiXsu77N5m4xCQKrZ25HQD6VQv/BPi+5uLqG11eOGz8ydoH+3ziQrJJEyggL8u1UdQQx+92yafW39dP6+Qv6/r+up6VUJu7cXq2ZnjFy0ZlWHeN5QEAtjrjJAz71wFh4Q8VaT4ggvLa9iu7W2Nz5cF1qUzKUZnaNcFCQwDKCxLcDpwDXWvpuoSeL7fUvtCpZJYSQSQCRj+9Z1YMBjBAAIz156UdgfU2Kh+2W/277F58f2ry/N8ncN2zON2PTPGa82s/h/4pa4iXUdZP2bz4muxHqVwWuwrOXk6DyywZV2KccdeBVd/h34tNxfXK6pAt1NCYvtH2+YvcD7SJCDlf3QKDZhcjj0NHb+v6/PyGz1eobi8t7V4VuZ44muJPKiDsB5j4J2j1OATj2rzU/D7xSNLugNcle6f7OsSvqUxHlLgyxlgoAJIX5gpJAwepqa18B+I18S6TeX+oJeQWMsEvmT38ruipCyMgTYEYlm3bzgmmt7ef8AX9f009r+R6FLf2kE0UM1zEks0nlRozgFn2ltoHrgE49BVivNdT+G1/feJL+6jliS1udSW9Di9mWTH2ZoyuAPlIcg5B5Bx2Aq54W8I+KNL8Tw3+uaybyCO1SNgl25DERKpUxsmCN6lg2QeeR1pR13/rQHo9DvqK8j1bwp4vTVFgjkkuoL6/nkXGpXA8tTE+PNlRBtUMV2qF7AEmuh8QeEPEuoaZpMGm6+0Fzb2Rt72dpnXznARlcYB53pgk87Wb6UL+v68hvex2i3tq91NbJcRme3VXljDDdGGzgkdgcH8qjOraeulrqRvbf7C4VlufMHlkE4BDdOSRXAWfw98QW+sQ6pJqqG73WzTut3MN+3zTMuMYYEyALnsO1VW+Hfie40maw1K+gvXltbeKO5fUZx5BQqXUR7cNuKk7zg5NCEepPIka7pGVFyBljgU6uD1DwRqd34Ek0Z7lbieLU/tVr5t5KB5In3rG0mC2dnHfBx6ZrmbnRvE1zcyPanVLiyTV0t7SCWe4t90BLySl2xvCBmCB8dFGODS/r8v1f4B0/rz/yPXEu7eW7ltY543uIVVpYlcFkDZ2kjqM4OPpSXd7a2EaSXtxHAjusatIwUFmOAoz3JrziPwJ4uihthc6smoRxrbCa1bUZ4RPsWUMpkVSwALoQf4tnOKG8B+KrvU7ma9v7T7PLewXCwfa5ZFHlzl8gMnynYQMZPI6gYw3vZB0PSbW7t760iurOZJ4JVDRyxtuVwe4I61UTX9Ik1CSxTU7Q3URKvCJl3KQMkEZ7Dk+lcH4M8Na1pPie00+4urltN0yxiecDzVhe62eXtjLAB02/MccBvemX/AMMdUnttSt7W+jjhvpr+RkN3NhvNUCHIx2IOf60PTbzGuzPTwQQCDkHoRRXFeF/DOu6VrV5cXs0a2c1mkUcJvpbhopAqj5SyqAvB65OTnIyRWJZ/DvxTa/ZpV8QOtzGLfdIdQuJBuCSLMdrcHOY8A/3e3ceglqj1CiuA0rwn4nsfAeoabPqCz6lcSIVaW+ldABtDkPsDKWwxxhhk85yRVG28BeLUSxefXv8ASLRLdUcX0zD5J5GfI2gPmJlXkckdhzQ9GC2ueim/tBcTwG5iEtvGJZkLjMaHOGPoDtPPsadbXdteQrLaTxzxuiurxuGBVhkHjsRXDeD/AAZrmi/2vLqlzA9ze2MVusyXks7PKgk3SMXUFdxcHAzjml8O+BdT0xdZjvrsNJqenQQfa4ryVnWZYdjHBA/iG4NnPsKNr/13Dr/Xkd9RXmVt4J8bR2t6b3XILqeeH5I/tcyosjunmAELwoSPCnB5ZsjBOb3hDwl4n0bXba51nUku7eO0aCTfeyTEncSmxSigcHBJznHGKf8AX5i6Hf0V5ne+A/FklldxQ6+XAulFtH9slTdahpG2u+04fMi84ORGozTdV8N6/o2j3uoR399e6v51oNOWGeecEokausigBQGZXJYgDkEkdKm5VtT0uWeKBd08qRjBOXYDoMn9BmoW1GyXTP7Ra6hFl5XnfaN48vZjO7d0xjnNchq/gm/ubbwz9lufPudIDrNLPdyIzloipfIzkhsHB6jjNcTeeEvFl3qg0J7q4upHtWimvGmuhbov2LywjbkEbDzTu3KWYknIGDTe7SBW0Z7S91bxQiWSeNI2UsHZwARjOc+mOaQ3lsLVLk3EXkOu9Jd42suM5B7jHP0rzif4b6qWtc3Ed1Fa3szxRS6hMCkMluEI3FTyHBbBBGDjuRWp4i8FXmqaB4btbTyRPpJQOj3TopXyTGcMq/MQSDyoyARxkiiWidvL+vkKOtr+Z2tvcQ3drFcWsqTQyoHjkQ5V1IyCD3FSV5V/wrjxTaaCmnafrISJTbFoVv5l3bYCkmHKkqN+1gAMcdBXp1lDJb2FvDPK00scSo8jHJcgYJJwM5+lNpXdhK9kT0UUUhhRRRQAUUUUAFFFFABRRRQAUUUUAFFFFABRRRQAUUUUAFFFFABRRRQAUUUUAFFFFABRRRQAVxfizxvfeH9cSwsdMt7tfJhld5bkxkeZOIQAAjdyD9M12lFHVB0PNIPirc3F/ptgmm2v2q83xyJ9pP7uQNMikArlkJh6jpu5xxmhpHxf1Ce2to7rTLS4n+wG5meK7CbmCOx2qRkgFNrAZIJPpz61gZzjn1pAig5CgEe1LWw3a55XffFK/wBHjubm+tIPPe2tpo7Q3Q8oB0lkwr+WDu2oudx5P3ffXs/G15B4a8Sa1PGbpbPUFS3hdgixRskWNzAcKpcknB4zXfEA9RVLVtXsdE06S91OYRQR43HBJOTjgDk9afVi7Hn8XxWvZZUCaTayQxsonnjuyySKbnyN8J2fOpJDAnHepfGfjDXdM8SXml2ElnCiRWUttufEknmXIjccqflxwSOmQep47211K0uYyYnKBXeMLKhjJKHDYDAEjjqOMc1L9ptjsfzojv4Rtw+bnt+NC6f1cO559pXxRu9R8QabpUmjRRvcsUmb7UByJZIyYwwG8Ax5PfDdOOXat8QdS0XxLq9hcxab5MFzbQ27z3JiWJZELGSU7ThcjGfUge9egefbksfNjJjGWO4fKPf06VB/aNk93JblvmWJZC7IQhVicYcjaeh4BzSDqzgtH+K0+q69p9gdKgh+1vAjRG6JnAkiL71Tbyi45bI4IqLWPiNf+Hdf1u3ljguIorphAbqbyURUto5DEpCnc7ljtB967i2OiW2u38lvNAuoXEcc91+9ySgG1GIJwBgEcYzVi+1ewsLizgu5lEl7MIYFA3FnILDp0GFPPSn1/ryD1PM9b+KuoyWt9BY2Is5oyQoWXfcwbJYwTLGVwocOQpz/APW3tG+I76rrmi2MlpbQrqkLyHbc75InUv8Au2QDKkBOSQBnIB457czwJI4aWNXVdz5YAgep9qq3+s6fpgjkvphFG8byCcoTGqKMks4GFGPUjPai6Cz2OFPxVml1e9sLHTbad4ruK3gc3JVW3zNEd42kqQVzjHf6E0V+KOoavqWiWdvDb6a015arcKbjdJMru6uI1K8oNmC2QQSK9SW4gaNZElTY671bcMEetL58HmhPNj8wg4XcM4HWhaWv0YPW9up5t4l8c6z4b8Z6oXiiuNPgjtoIIWmEccby728yQlP+mZX72OR68VNa+KepTWup2ljpy2E8FgJxMblHkjYxpJkIRhk+cruGRkZr1MzwPb+aZY2hP8e4FT+PSmvc28Y3tIhOwsAvLMo5OAOT+FJaLUe70OR0rxzd6ppfiKa30+CS60Ytst4rjf5wAYjLqCuSF6DJBOCBWVb/ABYnvNY063ttGT7JqDloJ5boIZYvMMYZQRyRgsQOcY9a9Btb22uoYZIHCidBIiOpRyCM8qcEHHYjNJcahY21lLe3NzClvbqXkmZxtQAckntQ7oS20OIs/iJqstvoclzokCnXkU2QiuWcA71DK5KDBCMz8Z+6RUfjPx1f2U+tabpbWlpcaesBjaafE85dkJZIypBQAlS3Y59K7NrHS77WLTU2Imu4Iibf9+xVFbqwTO3JBxuxnHGafYavp+pyXP2OZXe1meCUEbSrIcN17Z79Krr94efocHL8Vru3urK1n0aETSXE0M5F3hCY5/KIjLKN5/ixwe3eqafGaSWw85LHT4ybho1mmvisJXyPNU7tpOTjbtIBzjoeK9T82Fo1l3xlDyr5GPwNU57PS9QvbO5mEUs9k5e3Ik+4WQgnAODlSeufWp1tYfW5xninxrq9nYaNcWUdvYRapplxcOLlsSRSrDvVVyMFgT0PXHaso/Fy80vS4U1Owtpb2No1kAuSPOQxROWUlQN373lfbjI6epy3FvHEssskYQn5WJHJ9vequnazp2raXBqNlco9tMgeN2+U4IyMg8g47VStdsnojkYvHeoWfhvxNqWo21rcTaRqD2yW9vKQVTeFUyZHyjB3Z7gE1Bb/ABNvpJLCF9DVpr6E3EIguRIHjQy+aQQMHAjUgd/MAOK7Ma3pg0w6hNcLb25jaVmuFMRCrwSVYAgcdxVpLy0MaslxDsKgjDjGOP8AEfnU62t6fl/nqVoeXxfGLUJ9N+1w6HaMqwTXLkX+4bIxESowp+f95jBx0z3roPEfjZvD3i2CGUE2UltbtKZJVSOEST7DITtzwPVse3euy8+3TzP3sa+XzJ8wGzPr6VlX40TQZL7xNfNsdrcCadpHk/dpyFRckAdThRyeafVMVm01/XQ4S7+LN/NphfTtPs4p5dLmvYS9wZDuTfkFFGQAEzlsA5wDWr4k+I8/h7TdImEGn3T31g92WN4VRygT5IiFO9m38dK7r7TbEb/Nj7AksOM9BVWa00qTVYL+byvtdorQROZMbA+0lcZxk7V6jPHFHX+vP/NfcF+v9dP8n9553r3xRuXgurCwhWyvopZVY+YGkhEc0KgshHG9ZD19OM1Ho/xB1iNnSYf2hO8scMazSLHGDJeTRA/LGWGAi9znHTPJ9E1HxJpGkyyRXt5GkqGLfGvzMvmPsQkDnBbjNWRqlmbp4PNwUjWUyFSIyrEgYf7pOQeAc9PWhdP6uHRo89074tT32qaZaPplrA13LBDIj3Z8wmR3UvGuz5kXZycjkgVe1b4lTaZ4mv8ATF02GRbQSDYbgidtluZvN2beIj9zdnr+VdVd6HpV5rMGpXoeS5tSrRK9y/lo3IVvK3bN3Jw2M1ofaLfcD50WS3lg7hy3936+1HT7/wDgD0ucIfHV9d+CPEF/NarZXemxxsv2WcPkSRJIpBdMAgPg5Ujip9O8Z6p/wjniXUb23tLibRryVBbwSkN5SEH5uODtyQe/tXWy6tYwaja2MlyoubsuIYwCdxUbm5HAwAeuKsCaAO4Eke4Dc43DIA7mh76dv8tRLZXPLZ/ihfanCBZ2MtgI7mNGkWVSWEiyPHkMh4KKrEDB5AzVvwv421NPBWuazqhfUpLCK2kSPATO62idskDgbmLE4OBmvSBPESgEqEyDKYYfMPUetZKeLNGk1oaUl3vuzN5AVUYqX8rzcbsY+5zn8KFomg3aZx1z8VpLbU4bKO307UXe1klZ7C8LrvWKSRQuVG5SI8ZGcE+2KavxeWa+tktrK1ltprmOAzR3YdiWijfCoBljukK8cDHOM8ejLPbAJslixIMJhh82PT1qG41LT7S3hnubqCOKSRYonZxhnY4Cg+pPFHUDhLT4i3etfD7XNaSz+wvZRhojb3KO3IztOVO1l6EFasHxhrn9geNLhUsTd6JK4tYwzEhBGGBdcZ5GSD3ORwBmu8SSJmdYmQsp+cKRkH3pgubUnImhy5I4cfMR1H4UPW9u39Ma0tfucNo3xHn1HxPZ6Q9pZuJysbPb3ReQ5gEvnKm3mHnaGz1/KoNb8f6lZ6hcMlmiWdhqUlp8lwN1wUtnlIYGM4Xp0Oc+3Xvbi7trOzlunOY4It7eUhdtoGeFUEn6AVX+1aXrtje2vnx3EADW90gcjbuXlW6FThvrRK72/r+v1FHTc5TSfHt/rvhHXtRsrSzFzp1uJIWhuDNC7GHzNpbaDuXOCPWuc034paxa/a7u/trfVLV+YhaTcoy2SzlVwnKkhsknIJ6cV6e9zp+iWEEK7kgQpbxpEjSFeijOMnA4yT07mqFn400G80i91G1umNpYW63E7eSw2Rsm8HGMn5ecCh2vJr/hgjfRM5u/8aavqPwpvNc0yO3srwTLCkkdwsqbTIq71IBGfm6EcHNY2r/FC+gvX0q1a1hexuoEkvJLkbXCzLFKsuUygOc7to4yR616rDd2sltHLDLH5TkBDkAEnt9fapGlijcI7orP0UkAt2p/aBaxPMJfiZql/pEk1tp0dqkVrDcSzxXOW+e4aIeWGjIZTszk4+U+vNdT4W8Zw+IJJluZLC0lNw8MFmLrdcgoWBEiEDa2F3YGeK359RtbYxq7lt8wgAiQvtYjo20HaOOpwBUgnttpkEsW0NgtuHB+vrSA831L4tXNjqmoWkOlWlybWeaAIl4fMUxyIoeRdnyK2/g88imav8Ttat/7ds7XSrOG80q3Znd7ncFZdm5tmAxQ7ztOOwzjPHcRTaJoF9HZxMtvNq0styvLMJH4LtuOQOo44HpWoZoA0gaSPci5kywyo9/QUlsvT8R9fn+B5s/xM1PTZtVm1G0sLq0tLiKNRZXBZ1WSDfG33fmVnwobj73tz6TavNJZwvdRrFO0amSNWyFbHIB74NY8n9heJrxrZ2+0PplyhaMO6IZAokTIBAkABVhnIB963arp/Xb9SeoUUUUhhVLWbmaz0O+ubRd08NvJJGuM5YKSOO/NXaKT2GtzjV16T+z3Qa4rxf2gkI1H91uEJjUl/u7Pvkpnbjt1qTw/rl5e6xYw3N75omsDJLEDGdrjZg7VAZMgk/MSDu4xXW7VxjaMemKXABJA5PU01/X3CCiiigDh5vE+q2F+y3OZ4JtSljtzHGMlYw+6E8dflBB6n5vSrNn4tvL3UdPiQaf5M1wscs0U5dCGiZwitgfOCvI9x0zx19JtHoOuelC0VgerucNeeKNT0vXNSlmMktnA8qRRSeWsbsqxkKrAbgRuZiWONoOOhxYTxvcG3eSa1s4Wih8wo92CZcuyhkK5G0BdzHJwCfTnsqQKBjAHHA46UdEg6nIN4xvm+W2s7OfY+xpVuG8uTMqRgoQpyMvz6FSOetOXxZqU0yQw2FruEiQyF52ADtLLFkfL0Biz+OK64AAYAwB2FFHRB3OHtvH93dLM8elRARW4kIa6UNuKI3T720l8Z29s9+JLjxfeG8jsStrazx3kMUpMxzMDc+WRECOflHPpuH1rtMDOcc9M0YGc45oGcEfH93cabLILS1sS6O0U092u1SELbCBkiTgcEDv6EV2mnSvPpdrLKdzyQozH1JUE1Y2j0HXPTvS0dxPoFFFFABRRRQAUUUUAFFFFABRRRQAUUUUAFFFFABXGeNfh+fF2oRXIv4bcJbm3Kz2nn7P3ivvjO5djfLgnng12dFHW4dLHnE/wqnbUJbu01qGCSQXQLmx8xiJmkbaQzlcL5nUKCcHnBwMqX4RXrXttYC7tnsRbzl7trXcYWknR9sStIWVsA4fJxz6165RRH3WrdAet7nk+k/Ce8msZ5dSuLeyuJHcJAtqHEg+1ecDOQ/70EKox8uASK0Lb4QwxzW7XWpRTxRyRySW5sgIm2yTOUVS5Cp++wBzgL3zXpFFK2iQPW/meYXHwcElvbxw6rAGhs7e3Z3scmQwuWBOHB2kHBXP8KnPGKu6f8LBp/iDT9Qj1GAx2UkEgRrMtJ+7iMexZDISsZzu24PPc16FRVXad/mD1/I878Q/C6XXvEF/qcurQAXSFFie0b5QfLwGZJF3YMeRxnnnIGK0Na+Hg1zRNN0+71JSbGwmtGkNquJGkjCB9oIC4Kg4H5jrXaUVNvd5eg7u/McX4g+HkfiLRtJsp71LQ2MJglNtb7UmjIXKBd3yDciHqemO9Y0/whlne0aXW4pvIjYSGSyIMzv5vmElZFO1jKTjJIxwRk16bRTeruxLRWPPdW8E3lr8P9N0m3P8Aa0+n3gnWJbSMxyj58K0byoCo3dS5OQDzWbpfwjufsGmNfahBBPFbQLMotvMkieNWG2OXcNqHf8wwc46816pRRve/XUNtjzS4+EcYtd6akWuY4Yo0litVWUrHatAVVi/G4sG5OBgA+tHhbwFeP4R8R6XrFtDpy6uFjiRLeNfLCwqgkMaO6g7huxvPPPGePS6KN736gtLW6HCaT8Njp3ie11Z7+1PkOspSCy8t9wgEOwPvOIuN2zHXvVK++En2/UdTuW1eOEXzXLq0NltlBmK/K77/AJ0XbwuB1NekUUPUFp/XY42P4fQ/8IfZaFPcQtHBfpeS4gJjkxJvKbGc4B6dSPbtXM3/AMKJtK0lI/D8hlvmEEUc0MKQiBlkkLTvl+R5cjJgAngfh6xRQG39fM5PUfA8dxeaJLYy2yQ6TAbZLe7tfPTYdvzL8y7ZBs4bnqeKxNN+D9lYz2Bku4J4LVrd5YGsgFuHiSVdzDcRlvMB5B+73zx6PRQHSx5o/wAIBJAIH1WEp/Z0lk7fYstJuLlWO5yBtL5G0AnHWmyfBm1uYZTc3ln58qzgvHpwCoZIUjXaC5wEKbgM9+3WvTaKB31ueZ3PwknuZ9Smm1qCR71Ng3WTDbiVZFY7ZQGZduBwM9881peKvhw/iawsLdtThRrWxeyZ57ESg7gn71FDKEcFOCM4BIruqKBdbnnOqfCO31CGXZfQrNPqEt3Kz2pIlV1KhG2uCSoJ2nPGTxzUcfwmkiu1mh1a3jCX4vIwLJmMfPzAFpDuLZOd24DsBXpVFC02/q1v8g6WOK8RfDqHX/EFzqJuLaJLqG3jmR7MSM3kzCT724cMBtIIPQemKxp/g9utzHb6vCmCvlFrIkQYlmkG1RIAcCbbggrhenPHp1FC0tYHqcRr/hOfWvHel3Ailjsre3/0243IFnKHdCoAO7cr5bOAPesBfgrImmpZprsKhX3M/wBiYsxAXa/+t4cbeSODnkcCvVqKFpt/XUNzk9H8C2+j6nDfRSW7zLfXV3LL9nKySeduwu4N/CGxkg5HQCsXVfhJFqNxfXEeqLbzXktzJI62vLCV43VGO4FlXy8Y7hj0r0ailb/Id/zueZS/B1JXtidWEaxWrQERwuDGxaRt0R8z5eZTkHcOO3ShPg8fskkT6xDAZC5IsrDyVXdbeRwPMPP8RPc5HGc16bRT6NdwvqmeZx/CLy0tQmoWimKOZJcWchWUSAgrgzHavIJ24brgjNa7fD0yeCNO0Ka9t55dPu0uoppbIGM7ZC2wpuzjB253ZPUk12tFO/8AXoTY4vw38Pv+Ef1S8u/t0U/nQSwIFtfLZw8hk3TMG/eMCcA/Lx9aw4/hFNDDYI+rwy29hMJ0to7DBwHVtisZM8hduXLda9QoqbW2G9dzgPDXgW4j8BavpeoO9pc6sjwKZNsj20AXy4UO1sEqnJAOMk81fsfAEFppXiPTmmha31slt0dtseMmMKcnd82CNw6YJPXNdhRTet/PQFpby1PN7P4R/Z5mmm1x7iVriG43NbdHVw8pHz/8tGUH/Zx3q/pfw3/s3wvrGj/2r5v9p2Mdp532bHlbIvL3bd3OeuMj613NFHRroC0d0eYS/BwTQxiTVLcEXLyvDFZNHBho0T5UWQFWxHndu6seKseMfB2o6v4+sL6xtvOhL2jTXE0cZW3WGUudjmQOpIPICEHjkc16PRR1T7B0ce55nbfCDyGQnWI18p02mKy2mUKZDulO/wCeQ+Z9/jgdOap6r8LZdK0aNdHVdSdXg/0RbOLynZLd4i7q8qg5Lbs5JBxw1esUUmtLDvrc89v/AIbXGseEfDunXN5aQT6Xp7WsomtPtCMXiVGZfmXBXBIPPOKq3XwhludQnum11G3xrGiSWW4OqvEyrLhwJF/dYPAJDcmvTKKpu8uYlK0VHscLp3w8utL8TTa9Z6pZpdSxMiwf2efIhJijQFE8zK8x9jyp29s13K7go3kFsckDAJpaKXSwwooooAKKKKACiiigAooooAKKKKACiiigAooooAKKKKACiiigAooooAKKKKACiiigAooooAKKKKACiiigAooooAKKKKACiiigAooooAKKKKACiiigAooooAKKKKACiiigDJ8VtdJ4Q1ZtOikmuhaSGGOLfvd9pwBsIbOfQg1zHh+LxLb2Hiy+lkdr9pv9AS8jkCBUiBUAM33SSRkY5BJJ7d7UN3aW9/aSWt9BHcW8q7ZIpUDK49CDwaWutuqHfbyPM4PHHjHUBY3tlpY+x322a1iWxkk81DNs2PIp2xERjzNzcHI9K3/CXiTxBqtxOus6XPbLb2Su2bKSLdP5kgZVLcMNqp09etdjFFHDEkUKLHGihVRBgKB0AHYU6m+yJXmeYaR4s8e6jdRRtpJii3ySGSbTZY96LErrH8xAVi25N3I9M451NF8TeJ5/Amp6nqunML+H/j3hhsZVfJVcgxNgttYnlScgdyK7uijuPsee+ENZ8W6j4otj4hjmtrWWxkHk/wBnyRo0iTMobc33SUCthsZB4FZWkeIPGum3VrYyaXcyWoaeV3uLWaSSUedNwG6KQoTaGwCCOcEV6vRQ+gdzyvT/ABh46vJrSGfTJIVmuHiMg0qcNtKIUch8KFUswOSOnGec6C+IPFFl8K9Mu0gurvXJSI5t+myFkYBs74x8w5AXcAQcjoDkeiUUPawdTzN/Fnj0Wd4y6DiS2tluATZyYk8wRbUUZyzR7pdyjn5AOM09fE3jb7E9xLZBUhsUk/daXMzSyvM6cAkEbUCOw2kjPAIxn0migF/X4Hk8Hj7xkl7pUWp6ato1zPBAYZNPmUXG5nDsJCQIyAi4UjOGz0q5HrHjDXfhr4gkv7Ka11IRAWsdtbTRTK5HzKARlsHoVJzXoD6Ppkmqpqcmn2r38a7EumhUyqvoGxkDk/nVyjow6pnmf/CT+O4dXtbCTS0eIXckL3ZsJgs6CRQPu7tnyFiGPBI68Gs6z8X+K7CTSdPvbKSzjuJoYAlxZzu8vmNJvPnMx2soVcK2Tg56dPXapvo+mSaqmpyafavfxrsS6aFTKq+gbGQOT+dK10kwWlzy3StS8eWulaPbXf2uOKGWxaaZtNleQxuHEiPkkttKruPBG7nArpPEfiPxVY+KzaaVpzTWiiLy1FjJIJ1YMZHMwO1ChC/KeTn3Fd1RTlr94LQ4PUr7xaPAejX7TNDqUt1bSXqW+nOxiiYjehjyW+XPPc4PSuZ1bXPGutyTxLpupW8EM7tA8FnNC5BguF2t2bDLGQQSMsvOSK9ioolrf+u3+QLT+vX/ADPKbfxR4+hgubeLSDm1tYlhWeynd3P7obyw4cnc5IyCMexrpPEmq6pP4DivvDd68tzFcxRzz29i7mQJKEmKxfexkMeM8A4Peuyo6U27u4lorHkkV940tlmtpLO9u7Wa+kmjY21wkkQF8gHzq2SpjZmA4G1e4zW9Y+JPFc/gXUr59PY6vBdCOBPsEqpIpZAWVGw7KAW5IHQ+ma72iktFYfW55k3ifx1aLdC7sGlG2VIZINKl+VkuVjVyNxJDIxbgHgZAIzVzQfFfiq98QaRpmqWENs17aJez5gZGhRQyyqQxyGL+XjPZj1xXoNV49Ps4b6a9htIEupwFlnWMB5AOgZupx70LTcHrex5pLrnjPSNQvobPT7qaKTULmS3M9lNP5/71AsQYECJNhZg5+Xj2qHW9f8c3xu7W30q5zHcqwigtJYjEEukCATZIkV49zMVGAM54r1miktEvIb1b8zg9U8T+IrPwVo+oLbNDd3DH7e76bK/2XCM2PJB3Y3KF3Zxg56GsjSvG/je/S2nTR1n860EywLZSKjg2vmCQT528y/Js64/OvSNR0rT9Yt1g1axtr6FXDrHcxLIoYd8EHnk/nVpEWNFRFCqowqgYAHpT7+f9f1/mLseQ6p4p8c3egXNvHY3KpNFMiXsOj3CSs/kKRGIs7kO9mUSHj5a6TxNrvifR9P0lNGspJmeyLyM1lJcNJOoTbC20jy92Wy7cDFd3RT/r8/8AP+tQOL8N6z4rvfEUkOtWQgsZEuTGRaOnlGOYLHlycNuUkjgZxkVhp4z8Y3FjNItnHGtremwuZ4LCS5KuiuXkWNGyVZvLUemTmvUCAykMMg8EHvUFlY2mm2iWunWsNrbx52RQRhFXJycAcUulgOC0vxn4pOpWsWuaFcW8e4SXXk6fM4SL7KH4YZBbzcrjk9sZr0NWDKGGcEZGRg/lS0U2IKKKKQwqlrJuhod8dP3fa/s8nk7eu/aduPfNXaKT2GtGccl20Gh30fkazcxvcr9kDC6EoQqgJZwPMCh95PU46DGKsaR9rTxFaIZr64iWw2TySpOitIAmGZZBtBOD93nJOe9dTRTQgooooA4eaXxHZX7NDHeXcE+pSuiHd+6Ch9qn0iYBcdgR/tCrFnqeu3OoaeZXlFp9pVZn/s94t26JiUKtyAGAG7pyBnjnsKKForA9Xc4S8l8RafrepX1rBdTR75Vt0LSyox2xkZj6Ko+cgqMsQR1IBsJrniIWzNNEPNWHfEIrGZ1my7AkkgEFVCnbgFj06iuzoo6JB1OOOq+JpRi1TMavhZpLBwZlMqLkqSCuFZj77c8Cnrf+KJZkjCrEqyJE7tZMd4MsqFx82BhUjb0+b0IrrqKOiDucNba/4tn88yWEcLJbKVja1myXKIdw4wfmLDbuzx7HMtxqPiB7yOznSZFjvIQskNlJ/pKi5AYlhwgEYBOeCCe3FdpRQPY4E674puNNl+1W5tjIrjMFjPJJE+w4jxgdTjDgkdeeQa7XTvMGl2vn7vN8lN+/72doznPerNFHcT1CiiigAooooAKKKKACiiigAooooAKKKKACiiigAooooAKKKKACiiigAooooAKKKKACiiigAqK6uoLK1lubyaOCCFS8ksjBVRR1JJ6Cpaqapp8eraTc2E7bY7mMxsQivwfZgVP4g0ne2g1a+pUj8U6FLNFEmrWnmTRGVFMoBZACSefQAn6A1iQfE/w7ca0bGK4Bh3sn27enkZEav97P+2B9aqj4S6Ozwm51LVblIYGhVJpkbCtG8ZwdmQMSHgEDIHHFR3fwvtY7S6mt7m51O/lheJRfzJHG26JYfmMcWRhVBGB1FPa4lq0di2t6YkXmtf24j88228yDHmjOUz/e4PHtWLq3xB0TTLQXMM66hH5DTn7JNGxChQw4LAnIORgH3xSL4Esp/ANt4Z1C4mYRhHkuoWCyNMG3s4JB5LZ7dCaoN8JvD5tHtkmvo43edvlkT5RKqqVGU+6oUBR275p9WgXRmlJ470yHQv7Wnjmitf7ROnsz7RsYSmMuecbcjPritGDxRoVzNaRW+r2ckl6u62VZlJlHPT8j+R9Kz5fA9i+hf2ZFeXsCDUDqKTIyGRJfMMnGUK4DHoQeKo6f8MNG03VrHUIJ7p5bUDcJfLcTMHZw7ZTIbc7H5dtJef8AWn+Yn/X3/wCRt3Pi7w9ZTXEN3rVjDLbMEmR51BjY9AR2PU/hUdr4z8P3l/dWcGqW5mtZRC4LgZbYX+U9/lBPHofSs7VfhzpOrJcebPdRyT37X5dTG212jEZXDIQVKjoQT71HcfDbTZppHh1C/tQ00cyrAYgI2WHyTtyh4KcEdscYpa2/ry/4JWlzUk8b+GIiRJr+nqQqsQbheAwBU9e4II9ajPjrw9G0zXOp2tvboEMdxJcR7Jg6bwVwxPT1A9s1TsfhzpGn28MUM94yw3UF0pd0JLQxCJQfl6bRk+/p0qra/CnQ7RUEd1qBCR+WN0idPIaH+5/dYn6+3FN7Owl5nSJ4l0STVY9Mj1aze+kAKW6zKXYFdwwP93n6c1W1TxfpOia9baXqtwlo9zAZo5pnVYzh1XbknqS36VyTfDfU7fxLDNoupf2fY2x82KSSRZ3M32YQB/LMSgHHq7Dj7ozXSeI/BFl4mvI7i8vb2Ai2NrKkDIFmiLq5VtyEjJUcqQael1/X9ai/r+vkWNR8a+HdL09ry61W3MKgN+7cMSC/l5AHbdkfganuPENvBqC2kcE1yzQRzqbfY5KPIEB27t2BncWxgAHntXPr8LtKW3vIRqGo7LiIwoC8f+jr5/njZ8nOH/vbuOK6SPRIE18aw000l19jFm24rtZQ27dgD72fw9qS6f13/wCAN9f67f8ABKsHjTwzdXkdrba9p8txK4jSJLhSzMc4AGevBFWpvEWj21+9lPqVtHcx7A8TSAMpYgKD6EllwPcVhWnw20eze1aK4vSbY25Tc6c+TM0q5+XuzkH2x060/V/h7YaxrN3qct/fQT3Ij4tzGio0bIytjZ85BQY37sAkdKF5g/I038YeHIpPLk1uwV9jPtNwoO1SQx69AVYfUVLJ4gsRaWF1bSpdW9/cLBDLFKm0k55ySM42kYGT7Vz6fC3RV068tGur+QXcKxPI7puG2dpgwwgGd7nqMYA4rVh8IWEWk6Vp4lm8vS7sXcTKEQvICx+YKoGCXOcAULz/AK1/yDuXJ/EuiWszxXOq2kUkZdXR5lBUoAWBHsGUn6isOL4jaZLq1vYLa3PmXE0cSsrRuoLySoDlWI6wtnvyO+QF1T4a6Jq/iF9YunuxcSTRTFEkUJlBtIxt6MAobnnaOlNtPhpo9nqFveRXN8ZLeZJlDSJgssksgz8vTMzfgB75Fur/ADB7O3yJ5vH+lw+KLjRdrGS1kjjmmM0SqjOCQMMwY4A5wD+NT3Pj3wxBpM+oLrdlNDDlf3c6ks23cFHPJIFM1PwLpmq31zd3E92slzcRXDhHUANHGY1Ayp4wxz71myfCrSD5bQahqVvLHAluJI3jJ8tYTCRyhHzIeTjr0xS15X3HpzLsdFF4k0xrLTLi4uo7U6pGj20UzgO+4A4x7bhn61X/AOE38L/Z5J/7f07yo5PLZ/tC4DYJx19FOPXBqvqHgbT9RttGt5bm6jj0dVWExlA7gBRhn27gCFAIUqDk57YzrX4W6RbSQO99qE7WypHAZHj/AHcaRyIkfCDIAlbk8k4yab3dhLZX/r+v68tseNPDLWrXK69p5gWQRGQXC7QxG7Gc+nP0rNuPiX4Ztr/7M9+m1bp7SaYsFSF1jL/MSehwQCM81SuPhJoU6RD7VfK0SRRqxMT5VIvKwVZCpyvXI69MdKuS/DnS5bqeVru9WOWWSYQK0YSNpIDC+Pkz93BwTwQO2RQ+tv62/wCCC6X/AK/rQvf8JvoEUkq3upWtnsmMKGa5jxLgIdy4Y8fOvXB56Yq9aeItHvtUm02y1O1nvYQxkt45QzptIByB6EgfWub/AOFVaH5M8X2rUNs0MsLHzEyFkSJCR8nXEK4+p/BnhnwRe6L4yn1KSdV06KO4jtLfz/NYedKJGb/VptGR0Jfr1wKel0ha2ua9v4+8L3Ft541q0ijNw9sDNIE3Ohw2M9unPTketaV9r2k6ZdQ22oajbW084JjjklAZx6gVzV18MNNufOB1LUY0me43qjRcxTsHki5QnaWGc/eGetX9W8C6dq2v2mrtPcW9xaxJEojEbKQjFkOHRsFWOQRip1sv6/r+vnWl3/X9f18rzeLvDyxxv/bVkVkdY0InU72ZQwA9TtIP0IqjpfxB8Oapo51D+0oLZUwJoppVDwkkgBgCcZ2k/hVLTPhnpuitaNpOp6lbPaSvJG2+J/8AWKokU7kPDbAT3BzjA4qGb4UaPLaR26X+pRIkKwHbJGd6K0jYYFCDzK3bsp6jNN+X9f1/Xml5nRHxZ4fW8a0bWrEXCoZGjNwuQoXeW69Np3fTmo4vGfhqeOKSLXbB0ll8lCLhfmfg7evX5l/MetYF98K9Im0qW3jlu5W2kokk6oGYWv2cAsEJA2gHODzzgjiqOlfCkTyNf+Jr2SXUHunmYRNHKrRlYxsYtEAf9Upyqrimrc1ugnsdTrHjPSNB1L7Hq032cnyQsjMpDNIzKowDuH3SSSAPfrTNT8b6PpPiZdGvp0hkFsbqaeWVEjhTOADk5JJ7AGk1nwVY6zqj6jJd3dvdMLfa8LJhDDIzoQGU92Oc5GKXXfBdhr+oNfXFxdQ3PkxxRvCy/uzHL5quAVPIYd8jHapXS/n93Qp9beX/AARdQ8d+HdP003n9pwXINu9zFDbyK8kyKCWKDPONrfka6BGDxqwyAwyM1ydt8OtLtYblUurt5LqzktJpZPLYsJJGkd8FNu4sx4xtx2rrFXagXOcDGaYv6/L/AIItFFFABUN5dRWNjPd3BKxQRtI5AzhQMmpqgvbSK/sJ7O4BMVxG0bgHBwwwf50nsNbmaPEkP2MytZXazi5Fr9lYR+Z5hUMBnfs+6Qc7v14o0nxTYa3d+RYb3/dLKzFkG3Khsbd27OGHIGO2aQ+G0axubaa+nn+1OJJnmihfcwCgHaU29FUdO2evNN03wlYaTexT2bzKkPKQnbtDeWsZbONxJVRxnHfFNeYjcooooAKKKKAMUeKbEatcWM6S24g37riUoIzsClujbhgOOSAKsf8ACQ6RtVv7Rt8MhkyXHCjIJPpypHPcH0qje+C9MvpbuVzLHLdszTPHty4IXCnKnIBRWAOeR6Egong20igkigup4UmQLKsKRIHZWLK+AmAQzZ44OBkHnJ0QdS6/ibRY443k1S2RZM7S0gHQ4P05IHPcgUP4m0SMR79Uth5qhkHmDLAkgcfVWGPUEVWXwpaeY8s1zczTSsHkkYoC7CRHBwFAHMajjt780+LwvZQzmVZJyxmWbBZcZWWSQdumZW/AD8Tog7lj/hIdH+b/AImdrhYvOJ80YCYB3Z9MEH6EetRzeJ9JiW3KXkUrXMqRRpGwLEtII+nbDHn6Gs628A6Va+aI3mIkjCEskZYYVVyH2buQo4zjrxVlvCVqb+S6jvLuPzpkmmjUptkKS+aoOVyAGJ6EcGgehYuPFGjW9pNcNqFuyxEghZASSATgfgDz04PpWlbTrc2sU6AhZUDgHqARmubg8B6faQCOzuri3YI0QkijhD+WV27CdnzdepyffrnpLeBba1igjJKxIEUt1IAxR3/r1EySiiigAooooAKKKKACiiigAooooAKKKKACiiigAooooAKKKKACiiigAooooAKKKKACiiigAooooAKKKKACiiigAooooAKKKKACiiigAooooAKKKKACiiigAooooAKKKKACiiigAooooAKKKKACiiigAooooAKKKKACiiigAooooAKKKKACiiigAooooAKKKKACiiigAooooAKKKKACiiigAooooAKKKKACiiigAooooA//2Q==)"
   ]
  },
  {
   "cell_type": "code",
   "execution_count": null,
   "metadata": {
    "id": "o214VrKxD8lo"
   },
   "outputs": [],
   "source": []
  }
 ],
 "metadata": {
  "colab": {
   "provenance": []
  },
  "kernelspec": {
   "display_name": "Python 3 (ipykernel)",
   "language": "python",
   "name": "python3"
  },
  "language_info": {
   "codemirror_mode": {
    "name": "ipython",
    "version": 3
   },
   "file_extension": ".py",
   "mimetype": "text/x-python",
   "name": "python",
   "nbconvert_exporter": "python",
   "pygments_lexer": "ipython3",
   "version": "3.9.12"
  }
 },
 "nbformat": 4,
 "nbformat_minor": 1
}
